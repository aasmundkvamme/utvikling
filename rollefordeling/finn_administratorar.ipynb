{
 "cells": [
  {
   "cell_type": "code",
   "execution_count": 8,
   "id": "241f8f3b",
   "metadata": {},
   "outputs": [],
   "source": [
    "import requests\n",
    "import os\n",
    "import pandas as pd\n",
    "tokenCanvas = os.environ['tokenCanvas']\n",
    "\n",
    "headers = {\n",
    "    'Authorization': f'Bearer {tokenCanvas}',\n",
    "}\n",
    "params = {\n",
    "    'per_page': 100,\n",
    "}\n",
    "\n",
    "def finn_rel(link_header):\n",
    "    link_header_dict = {}\n",
    "    for link in link_header.split(\",\"):\n",
    "        url, rel = link.strip().split(\";\")\n",
    "        rel = rel.split('=')[1]\n",
    "        link_header_dict[rel.strip().replace('\"', '')] = url.strip().replace('<', '').replace('>', '')      # Kommentar: denne er med BERRE for å skape balanse i .org-fila: \\\"\n",
    "    return link_header_dict\n",
    "    \n"
   ]
  },
  {
   "cell_type": "markdown",
   "id": "c284b2c0",
   "metadata": {},
   "source": [
    "# Hent administratorar\n",
    "Dette er dei kontoane som har administratorroller. Eg henter alle og legg dei i ei fil (hugs å skifte filnamn for kontrollen si skuld)."
   ]
  },
  {
   "cell_type": "code",
   "execution_count": 17,
   "id": "0944fc35",
   "metadata": {},
   "outputs": [
    {
     "name": "stdout",
     "output_type": "stream",
     "text": [
      "1 Conditional Release API\n",
      "1 Professional Services Admin [Do NOT Delete]\n",
      "1 Aasmund Kvamme Administrator\n",
      "1 Dag Ove Admin Vareberg\n",
      "1 Terje Rudi (admin)\n",
      "1 Casper Håland\n",
      "1 Time-Edit bruker\n",
      "1 Ivar Rosenberg\n",
      "1 Quizzes.Next Service API\n",
      "1 Outcomes Service API\n",
      "1 Jan Erik Ølmheim ADM\n",
      "1 NOA admin\n",
      "1 Andreas Senneset Hove\n",
      "1 Alisa Rysaeva\n",
      "1 Hege Stein\n",
      "1 Henrik Dalstø\n",
      "1 Grethe Høyvik Hansen\n",
      "1 Christoffer Naustdal\n",
      "1 Daniel Bruvoll Tangen\n",
      "54 Håvard Moe Hagen\n",
      "54 Håvard Berge\n",
      "54 Martin Mo\n",
      "54 Jenny Marie Sørby Mikkelsen\n",
      "54 Anita Svedal\n",
      "54 Bodil Moss\n",
      "54 Christoffer Naustdal\n",
      "54 Else Brita Ness\n",
      "54 Gunhild Helene Austrheim\n",
      "54 Irene Waage\n",
      "54 Kåre Johan Mjør\n",
      "54 Lars Malvin Røsseland Kvinge\n",
      "54 Lillian Olsen\n",
      "54 Lise Vik-Haugen\n",
      "54 Mai Linn Bolkan Eidet\n",
      "54 Mari Fredrikke Osen\n",
      "54 Maria Lefdal Jenssen\n",
      "54 Sondre Mula Myhre\n",
      "54 Susanne Osland\n",
      "54 Tonje Bakke Velde\n",
      "54 Toril Engesæter\n",
      "54 Torild Tveit\n",
      "54 Trude Hals\n",
      "54 Maia Vatlestad\n",
      "54 Helge Olsen\n",
      "54 Anna Sambor\n",
      "54 Bente Aarlott Aase\n",
      "54 Ragnhild Alice Bjerk Steinsland\n",
      "54 Tone Hølleland\n",
      "54 Mariann Kjøpstad\n",
      "54 Ingvild Blanceflor Hvidsten\n",
      "54 Wenke Wüsthoff Jortveit\n",
      "198 Merete-Anett Hoddevik\n",
      "198 Helene Oestreich\n",
      "198 Christina Havn\n",
      "198 Mia Louise Farstad\n",
      "198 Gry Sjøholt\n",
      "198 Giselda Di Giovanni\n",
      "198 Elisabeth Aase Sæther\n",
      "198 Unni Margrethe Uren Aasen\n",
      "198 Helene Holsen Foss\n",
      "198 Andreas Rande Nesheim\n",
      "198 Hanne Søvik Bårdsen\n",
      "198 Bergljot Sundfør\n",
      "429 Anny Aasprang\n",
      "429 Kristina Johannessen Tolås\n",
      "429 Johannes Haltbakk\n",
      "429 Astrid Fjell\n",
      "429 Terje Årsvoll Olsen\n",
      "429 Marianne Fjose\n",
      "429 Torill Synnøve Harneshaug\n",
      "429 Henriette Bakke Pedersen\n",
      "429 Marianne Kambe\n",
      "429 Anne-Margrethe Aguirre Hjertenes\n",
      "430 Birthe Unneland Napsholm\n",
      "430 Ingvild Hollekve\n",
      "430 Vigdis Reisæter\n",
      "430 Aleksander Vie\n",
      "430 Karin Strand\n",
      "430 Bente Andersen\n",
      "430 Siri Birgitte Bakke Eriksen\n",
      "199 Rune Hjelmeseter\n",
      "199 Thale Jacobsen Åsli\n",
      "199 Kristine Selvikvåg Lundervold\n",
      "199 Helene Flatland Erfjord\n",
      "199 Gro-Mette Rønning Eikemo\n",
      "199 Gunn Berge\n",
      "199 Ingvild Nilssen\n",
      "199 Øystein Abrahamsen\n",
      "199 Hilde Albertine Gjertsen\n",
      "199 Anne Birgitte Rodal\n",
      "199 Leah Junge\n",
      "199 Helen Sæverud\n",
      "200 Lise Jamt Tønjum\n",
      "200 Vibeke Henriette Kvarven\n",
      "200 Jorunn Sætre Miljeteig\n",
      "200 Mona Straume Selstø\n",
      "200 Birthe Berven Dahle\n",
      "200 Bente Olderkjær\n",
      "200 Anne Jorunn Vikdal\n",
      "200 Kirsti Møller Bruland\n",
      "200 Inger Marie Vik\n",
      "441 Oded Ben-Horin\n"
     ]
    }
   ],
   "source": [
    "kontoar = [1, 54, 198, 429, 355, 430, 199, 5313, 5316, 200, 438, 439, 440, 441]\n",
    "administratorar = []\n",
    "for konto in kontoar:\n",
    "    url = f\"https://hvl.instructure.com/api/v1/accounts/{konto}/admins\"\n",
    "    respons = requests.get(url, headers=headers, params=params)\n",
    "    data = respons.json()\n",
    "    for admin in data:\n",
    "        print(konto, admin['user']['name'])\n",
    "        administratorar.append([konto, admin['role'], admin['role_id'], admin['user']['name'], admin['user']['id'], admin['user']['login_id'], admin['user']['sis_user_id']])"
   ]
  },
  {
   "cell_type": "code",
   "execution_count": 18,
   "id": "7da6fe98",
   "metadata": {},
   "outputs": [],
   "source": [
    "pd.DataFrame(administratorar, columns=['konto', 'role', 'role_id', 'name', 'id', 'login_id', 'plnr']).to_csv('administratorar_250519.csv', index=False)"
   ]
  },
  {
   "cell_type": "code",
   "execution_count": 11,
   "id": "7202b589",
   "metadata": {},
   "outputs": [
    {
     "data": {
      "text/plain": [
       "[{'id': 905,\n",
       "  'role': 'Emneadministrator',\n",
       "  'role_id': 18,\n",
       "  'user': {'id': 543,\n",
       "   'name': 'Oded Ben-Horin',\n",
       "   'created_at': '2017-08-10T17:07:50+02:00',\n",
       "   'sortable_name': 'Ben-Horin, Oded',\n",
       "   'short_name': 'Oded Ben-Horin',\n",
       "   'sis_user_id': 'fs:203:287483',\n",
       "   'integration_id': None,\n",
       "   'sis_import_id': 17218,\n",
       "   'root_account': 'hvl.instructure.com',\n",
       "   'login_id': 'obh@hvl.no'},\n",
       "  'workflow_state': 'active'}]"
      ]
     },
     "execution_count": 11,
     "metadata": {},
     "output_type": "execute_result"
    }
   ],
   "source": [
    "data"
   ]
  },
  {
   "cell_type": "code",
   "execution_count": null,
   "id": "dbdd330f",
   "metadata": {},
   "outputs": [],
   "source": []
  }
 ],
 "metadata": {
  "kernelspec": {
   "display_name": "Python 3",
   "language": "python",
   "name": "python3"
  },
  "language_info": {
   "codemirror_mode": {
    "name": "ipython",
    "version": 3
   },
   "file_extension": ".py",
   "mimetype": "text/x-python",
   "name": "python",
   "nbconvert_exporter": "python",
   "pygments_lexer": "ipython3",
   "version": "3.12.3"
  }
 },
 "nbformat": 4,
 "nbformat_minor": 5
}
