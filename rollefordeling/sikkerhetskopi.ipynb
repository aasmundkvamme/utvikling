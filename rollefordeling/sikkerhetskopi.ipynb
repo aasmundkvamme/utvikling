{
 "cells": [
  {
   "cell_type": "code",
   "execution_count": 9,
   "id": "c8fb4305",
   "metadata": {},
   "outputs": [],
   "source": [
    "import requests\n",
    "import os\n",
    "import pandas as pd\n",
    "tokenCanvas = \"10747~E2DKNwN67hh6LFyJm4C9LUx4DQMhACnyVzGDFy4TZwey8xKwM9kN64fVcRa9wUZ9\"\n",
    "\n",
    "headers = {\n",
    "    'Authorization': f'Bearer {tokenCanvas}',\n",
    "}\n",
    "params = {\n",
    "    'per_page': 100,\n",
    "}"
   ]
  },
  {
   "cell_type": "markdown",
   "id": "73f80cae",
   "metadata": {},
   "source": [
    "# Sikkerhetskopi\n",
    "\n",
    "Her hentar eg ut dei rollene eg har i dag (frå hvl.test-instansen) og legger dei i ei fil (når eg treng dei igjen)."
   ]
  },
  {
   "cell_type": "code",
   "execution_count": 16,
   "id": "efaa8e95",
   "metadata": {},
   "outputs": [],
   "source": [
    "url = \"https://hvl.test.instructure.com/api/v1/accounts/1/roles\"\n",
    "respons = requests.get(url, headers=headers, params=params)\n",
    "data = respons.json()"
   ]
  },
  {
   "cell_type": "code",
   "execution_count": 20,
   "id": "2768aef3",
   "metadata": {},
   "outputs": [],
   "source": [
    "df = pd.DataFrame(data, columns=data[0].keys())\n",
    "df.to_csv(\"admin.csv\", index=False)"
   ]
  }
 ],
 "metadata": {
  "kernelspec": {
   "display_name": "Python 3",
   "language": "python",
   "name": "python3"
  },
  "language_info": {
   "codemirror_mode": {
    "name": "ipython",
    "version": 3
   },
   "file_extension": ".py",
   "mimetype": "text/x-python",
   "name": "python",
   "nbconvert_exporter": "python",
   "pygments_lexer": "ipython3",
   "version": "3.12.3"
  }
 },
 "nbformat": 4,
 "nbformat_minor": 5
}
