{
 "cells": [
  {
   "cell_type": "code",
   "execution_count": 5,
   "metadata": {},
   "outputs": [],
   "source": [
    "import requests\n",
    "import os\n",
    "\n",
    "FSbrukar = os.environ[\"FSbrukar\"]\n",
    "FSpassord = os.environ[\"FSpassord\"]\n",
    "\n",
    "def query_FS_graphql(query, variable):\n",
    "    hode = {\n",
    "        'Accept': 'application/graphql-response+json',\n",
    "        # 'Accept': 'application/json;version=1',\n",
    "        \"Content-Type\": \"application/json\",\n",
    "        \"Feature-Flags\": \"beta, experimental\"\n",
    "    }\n",
    "    GraphQLurl = \"https://api.fellesstudentsystem.no/graphql/\"\n",
    "    svar = requests.post(\n",
    "        GraphQLurl, \n",
    "        json = {\n",
    "            'query': query,\n",
    "            'variables': variable\n",
    "        },\n",
    "        headers=hode,\n",
    "        # auth=('hvl_canvas', 'h0v3L3rr3T'),\n",
    "        auth=(FSbrukar, FSpassord),\n",
    "        )\n",
    "    if 200 <= svar.status_code < 300:\n",
    "        return svar.json()\n",
    "    else:\n",
    "        return svar.content"
   ]
  },
  {
   "cell_type": "code",
   "execution_count": 6,
   "metadata": {},
   "outputs": [],
   "source": [
    "query = \"\"\"\n",
    "query campus_studentar($first: Int, $etter: String!) {\n",
    "  campuser(filter: {eierOrganisasjonskode: \"0203\"}) {\n",
    "    nodes {\n",
    "      kode\n",
    "      programStudieretter(\n",
    "        filter: {aktivStatus: AKTIV}\n",
    "        first: $first\n",
    "        after: $etter\n",
    "      ) {\n",
    "        nodes {\n",
    "          student {\n",
    "            feideBruker\n",
    "          }\n",
    "        }\n",
    "        pageInfo {\n",
    "          endCursor\n",
    "          hasNextPage\n",
    "        }\n",
    "      }\n",
    "    }\n",
    "  }\n",
    "}\n",
    "\"\"\""
   ]
  },
  {
   "cell_type": "code",
   "execution_count": 7,
   "metadata": {},
   "outputs": [
    {
     "ename": "TypeError",
     "evalue": "byte indices must be integers or slices, not str",
     "output_type": "error",
     "traceback": [
      "\u001b[1;31m---------------------------------------------------------------------------\u001b[0m",
      "\u001b[1;31mTypeError\u001b[0m                                 Traceback (most recent call last)",
      "Cell \u001b[1;32mIn[7], line 10\u001b[0m\n\u001b[0;32m      5\u001b[0m variable \u001b[38;5;241m=\u001b[39m {\n\u001b[0;32m      6\u001b[0m \u001b[38;5;124m'\u001b[39m\u001b[38;5;124mantal\u001b[39m\u001b[38;5;124m'\u001b[39m: antal,\n\u001b[0;32m      7\u001b[0m \u001b[38;5;124m'\u001b[39m\u001b[38;5;124metter\u001b[39m\u001b[38;5;124m'\u001b[39m: etter,\n\u001b[0;32m      8\u001b[0m }\n\u001b[0;32m      9\u001b[0m svar \u001b[38;5;241m=\u001b[39m query_FS_graphql(query, variable)\n\u001b[1;32m---> 10\u001b[0m etter \u001b[38;5;241m=\u001b[39m \u001b[43msvar\u001b[49m\u001b[43m[\u001b[49m\u001b[38;5;124;43m'\u001b[39;49m\u001b[38;5;124;43mdata\u001b[39;49m\u001b[38;5;124;43m'\u001b[39;49m\u001b[43m]\u001b[49m[\u001b[38;5;124m'\u001b[39m\u001b[38;5;124mcampuser\u001b[39m\u001b[38;5;124m'\u001b[39m][\u001b[38;5;124m'\u001b[39m\u001b[38;5;124mpageInfo\u001b[39m\u001b[38;5;124m'\u001b[39m][\u001b[38;5;124m'\u001b[39m\u001b[38;5;124mendCursor\u001b[39m\u001b[38;5;124m'\u001b[39m]\n\u001b[0;32m     11\u001b[0m hentmeir \u001b[38;5;241m=\u001b[39m \u001b[38;5;28;01mFalse\u001b[39;00m\n",
      "\u001b[1;31mTypeError\u001b[0m: byte indices must be integers or slices, not str"
     ]
    }
   ],
   "source": [
    "etter = \"\"\n",
    "antal = 100\n",
    "hentmeir = True\n",
    "while hentmeir:\n",
    "    variable = {\n",
    "    'antal': antal,\n",
    "    'etter': etter,\n",
    "    }\n",
    "    svar = query_FS_graphql(query, variable)\n",
    "    etter = svar['data']['campuser']['pageInfo']['endCursor']\n",
    "    hentmeir = False"
   ]
  },
  {
   "cell_type": "code",
   "execution_count": 8,
   "metadata": {},
   "outputs": [
    {
     "data": {
      "text/plain": [
       "b'<html><head><title>Error</title></head><body>Unauthorized</body></html>'"
      ]
     },
     "execution_count": 8,
     "metadata": {},
     "output_type": "execute_result"
    }
   ],
   "source": [
    "svar"
   ]
  },
  {
   "cell_type": "markdown",
   "metadata": {},
   "source": [
    "# Konklusjon\n",
    "Det ser ut som at det berre er 10 registrerte studentar per campus? Eller kanskje eg må justere queryen?"
   ]
  },
  {
   "cell_type": "markdown",
   "metadata": {},
   "source": []
  }
 ],
 "metadata": {
  "kernelspec": {
   "display_name": "Python 3",
   "language": "python",
   "name": "python3"
  },
  "language_info": {
   "codemirror_mode": {
    "name": "ipython",
    "version": 3
   },
   "file_extension": ".py",
   "mimetype": "text/x-python",
   "name": "python",
   "nbconvert_exporter": "python",
   "pygments_lexer": "ipython3",
   "version": "3.12.10"
  }
 },
 "nbformat": 4,
 "nbformat_minor": 2
}
