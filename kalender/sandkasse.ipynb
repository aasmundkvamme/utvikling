{
 "cells": [
  {
   "cell_type": "code",
   "execution_count": 11,
   "metadata": {},
   "outputs": [],
   "source": [
    "import requests\n",
    "import pandas as pd\n",
    "import base64\n",
    "import gzip\n",
    "from io import BytesIO\n",
    "import io\n",
    "import shutil\n",
    "from datetime import datetime, timedelta, date\n",
    "import time\n",
    "import os\n",
    "import logging\n",
    "import smtplib\n",
    "import pyodbc\n",
    "\n",
    "CD2_base_url = os.environ['CD2_base_url']\n",
    "CD2_client_id = os.environ['CD2_client_id']\n",
    "CD2_client_secret = os.environ['CD2_client_secret']"
   ]
  },
  {
   "cell_type": "code",
   "execution_count": 24,
   "metadata": {},
   "outputs": [],
   "source": [
    "emne = 28643\n",
    "brukar = requests.get(f\"https://hvl.instructure.com/api/v1/courses/{emne}/users\", headers=hodeCanvas).json()[0]['id']\n"
   ]
  },
  {
   "cell_type": "code",
   "execution_count": 32,
   "metadata": {},
   "outputs": [
    {
     "data": {
      "text/plain": [
       "{'id': 1394587,\n",
       " 'title': 'Digital undervisning BYG102',\n",
       " 'start_at': '2025-02-10T09:15:00Z',\n",
       " 'end_at': '2025-02-10T13:00:00Z',\n",
       " 'workflow_state': 'active',\n",
       " 'created_at': '2024-12-16T08:40:46Z',\n",
       " 'updated_at': '2024-12-20T06:39:15Z',\n",
       " 'all_day': False,\n",
       " 'all_day_date': None,\n",
       " 'comments': None,\n",
       " 'rrule': None,\n",
       " 'series_uuid': None,\n",
       " 'blackout_date': False,\n",
       " 'location_address': '',\n",
       " 'location_name': 'rom ukjent',\n",
       " 'type': 'event',\n",
       " 'description': 'Kvamme Aasmund, Nysæter Helge<br><span style=\"font-size: 10pt;\"><em>Aktiviteten er henta frå TimeEdit, Res.ID: 1560468</em></span><br><span style=\"font-size: 10pt;\"><em>Noen av endringer utført i Canvas blir ikke lagret.</em></span><br><span style=\"font-size: 10pt;\"><em>Ta kontakt med timeplanlegger når noe skal endres!</em></span>',\n",
       " 'child_events_count': 1,\n",
       " 'all_context_codes': 'course_28643',\n",
       " 'context_code': 'course_28643',\n",
       " 'context_name': 'BYG102-1 25V Statistikk og landmåling',\n",
       " 'context_color': None,\n",
       " 'parent_event_id': None,\n",
       " 'hidden': True,\n",
       " 'child_events': [{'id': 1394588,\n",
       "   'title': 'Digital undervisning BYG102 (BYG102 Bergen - Byggingeniør (1))',\n",
       "   'start_at': '2025-02-10T09:15:00Z',\n",
       "   'end_at': '2025-02-10T13:00:00Z',\n",
       "   'workflow_state': 'active',\n",
       "   'created_at': '2024-12-16T08:40:46Z',\n",
       "   'updated_at': '2024-12-16T08:40:46Z',\n",
       "   'all_day': False,\n",
       "   'all_day_date': None,\n",
       "   'comments': None,\n",
       "   'rrule': None,\n",
       "   'series_uuid': None,\n",
       "   'blackout_date': False,\n",
       "   'location_address': '',\n",
       "   'location_name': 'rom ukjent',\n",
       "   'type': 'event',\n",
       "   'description': 'Kvamme Aasmund, Nysæter Helge<br><span style=\"font-size: 10pt;\"><em>Aktiviteten er henta frå TimeEdit, Res.ID: 1560468</em></span><br><span style=\"font-size: 10pt;\"><em>Noen av endringer utført i Canvas blir ikke lagret.</em></span><br><span style=\"font-size: 10pt;\"><em>Ta kontakt med timeplanlegger når noe skal endres!</em></span>',\n",
       "   'child_events_count': 0,\n",
       "   'effective_context_code': 'course_28643',\n",
       "   'all_context_codes': 'course_28643',\n",
       "   'context_code': 'course_section_40908',\n",
       "   'context_name': None,\n",
       "   'context_color': None,\n",
       "   'parent_event_id': 1394587,\n",
       "   'hidden': False,\n",
       "   'html_url': 'https://hvl.instructure.com/calendar?event_id=1394588&include_contexts=course_28643',\n",
       "   'duplicates': [],\n",
       "   'important_dates': False}],\n",
       " 'url': 'https://hvl.instructure.com/api/v1/calendar_events/1394587',\n",
       " 'html_url': 'https://hvl.instructure.com/calendar?event_id=1394587&include_contexts=course_28643',\n",
       " 'duplicates': [],\n",
       " 'important_dates': False}"
      ]
     },
     "execution_count": 32,
     "metadata": {},
     "output_type": "execute_result"
    }
   ],
   "source": [
    "url = f\"https://hvl.instructure.com/api/v1/calendar_events/1394587\"\n",
    "parametreCanvas = {'end_date': '2025-02-05'}\n",
    "svar = requests.get(url, headers=hodeCanvas, params=parametreCanvas)\n",
    "svar.json()"
   ]
  },
  {
   "cell_type": "code",
   "execution_count": 27,
   "metadata": {},
   "outputs": [
    {
     "data": {
      "text/plain": [
       "b'[]'"
      ]
     },
     "execution_count": 27,
     "metadata": {},
     "output_type": "execute_result"
    }
   ],
   "source": [
    "svar.content"
   ]
  },
  {
   "cell_type": "code",
   "execution_count": 28,
   "metadata": {},
   "outputs": [
    {
     "data": {
      "text/plain": [
       "48025"
      ]
     },
     "execution_count": 28,
     "metadata": {},
     "output_type": "execute_result"
    }
   ],
   "source": [
    "brukar"
   ]
  },
  {
   "cell_type": "code",
   "execution_count": null,
   "metadata": {},
   "outputs": [],
   "source": []
  }
 ],
 "metadata": {
  "kernelspec": {
   "display_name": "Python 3",
   "language": "python",
   "name": "python3"
  },
  "language_info": {
   "codemirror_mode": {
    "name": "ipython",
    "version": 3
   },
   "file_extension": ".py",
   "mimetype": "text/x-python",
   "name": "python",
   "nbconvert_exporter": "python",
   "pygments_lexer": "ipython3",
   "version": "3.12.3"
  }
 },
 "nbformat": 4,
 "nbformat_minor": 2
}
