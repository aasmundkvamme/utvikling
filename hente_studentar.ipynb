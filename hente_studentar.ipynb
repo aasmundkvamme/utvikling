{
 "cells": [
  {
   "cell_type": "code",
   "execution_count": 11,
   "metadata": {},
   "outputs": [],
   "source": [
    "import pandas as pd\n",
    "import os\n",
    "import requests\n",
    "\n",
    "parametreCanvas = {'per_page': '100'}\n",
    "hodeCanvas = {'Authorization': 'Bearer ' + os.environ[\"tokenCanvas\"]}\n",
    "\n",
    "emne = 29070\n",
    "url = f\"https://hvl.instructure.com/api/v1/courses/{emne}/enrollments\"\n",
    "resultat = requests.get(url, headers=hodeCanvas, params=parametreCanvas)\n",
    "studenter = pd.DataFrame(resultat.json())\n"
   ]
  },
  {
   "cell_type": "code",
   "execution_count": 12,
   "metadata": {},
   "outputs": [],
   "source": [
    "studenter[['sis_user_id','type']].to_csv('studenter.csv')"
   ]
  },
  {
   "cell_type": "code",
   "execution_count": 8,
   "metadata": {},
   "outputs": [
    {
     "name": "stdout",
     "output_type": "stream",
     "text": [
      "<class 'pandas.core.frame.DataFrame'>\n",
      "RangeIndex: 33 entries, 0 to 32\n",
      "Data columns (total 28 columns):\n",
      " #   Column                              Non-Null Count  Dtype  \n",
      "---  ------                              --------------  -----  \n",
      " 0   id                                  33 non-null     int64  \n",
      " 1   user_id                             33 non-null     int64  \n",
      " 2   course_id                           33 non-null     int64  \n",
      " 3   type                                33 non-null     object \n",
      " 4   created_at                          33 non-null     object \n",
      " 5   updated_at                          33 non-null     object \n",
      " 6   associated_user_id                  0 non-null      object \n",
      " 7   start_at                            0 non-null      object \n",
      " 8   end_at                              0 non-null      object \n",
      " 9   course_section_id                   33 non-null     int64  \n",
      " 10  root_account_id                     33 non-null     int64  \n",
      " 11  limit_privileges_to_course_section  33 non-null     bool   \n",
      " 12  enrollment_state                    33 non-null     object \n",
      " 13  role                                33 non-null     object \n",
      " 14  role_id                             33 non-null     int64  \n",
      " 15  last_activity_at                    32 non-null     object \n",
      " 16  last_attended_at                    0 non-null      object \n",
      " 17  total_activity_time                 33 non-null     int64  \n",
      " 18  sis_import_id                       29 non-null     float64\n",
      " 19  grades                              28 non-null     object \n",
      " 20  sis_account_id                      33 non-null     object \n",
      " 21  sis_course_id                       33 non-null     object \n",
      " 22  course_integration_id               0 non-null      object \n",
      " 23  sis_section_id                      33 non-null     object \n",
      " 24  section_integration_id              0 non-null      object \n",
      " 25  sis_user_id                         32 non-null     object \n",
      " 26  html_url                            33 non-null     object \n",
      " 27  user                                33 non-null     object \n",
      "dtypes: bool(1), float64(1), int64(7), object(19)\n",
      "memory usage: 7.1+ KB\n"
     ]
    }
   ],
   "source": [
    "studenter.info()"
   ]
  }
 ],
 "metadata": {
  "kernelspec": {
   "display_name": "Python 3",
   "language": "python",
   "name": "python3"
  },
  "language_info": {
   "codemirror_mode": {
    "name": "ipython",
    "version": 3
   },
   "file_extension": ".py",
   "mimetype": "text/x-python",
   "name": "python",
   "nbconvert_exporter": "python",
   "pygments_lexer": "ipython3",
   "version": "3.10.12"
  }
 },
 "nbformat": 4,
 "nbformat_minor": 2
}
