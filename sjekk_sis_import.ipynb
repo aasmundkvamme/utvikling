{
 "cells": [
  {
   "cell_type": "code",
   "execution_count": 1,
   "metadata": {},
   "outputs": [],
   "source": [
    "import requests\n",
    "import os\n",
    "import pandas as pd\n",
    "from datetime import date\n",
    "import time\n",
    "import smtplib\n",
    "from email.mime.text import MIMEText\n",
    "from io import StringIO\n",
    "\n",
    "\n",
    "hodeCanvas = {\"Authorization\": f'Bearer {os.environ[\"tokenCanvas\"]}'}\n",
    "idag = date.today().isoformat()[0:10]"
   ]
  },
  {
   "cell_type": "code",
   "execution_count": 2,
   "metadata": {},
   "outputs": [
    {
     "name": "stdout",
     "output_type": "stream",
     "text": [
      "An existing Canvas user with the Canvas ID 48226 has already claimed fs:203:152758's user_id requested login information, skipping\n",
      "An existing Canvas user with the Canvas ID 18488 has already claimed fs:203:677139's user_id requested login information, skipping\n",
      "An existing Canvas user with the Canvas ID 23680 has already claimed fs:203:19319's user_id requested login information, skipping\n",
      "\n"
     ]
    }
   ],
   "source": [
    "url = \"https://hvl.instructure.com/api/v1/accounts/1/sis_imports\"\n",
    "svar = requests.get(url, headers=hodeCanvas)\n",
    "importer = svar.json()\n",
    "antal_feilmeldingar = 0\n",
    "innhald = \"\"\n",
    "for i in importer['sis_imports']:\n",
    "    if (\"errors_attachment\" in i) and (i['created_at'] > idag):\n",
    "        fil = i[\"errors_attachment\"]['url']\n",
    "        data = pd.read_csv(StringIO(requests.get(fil, headers=hodeCanvas).content.decode(\"utf-8\")))\n",
    "        brukarar = data[data['message'].str.startswith('User not found')]\n",
    "        eksisterer = data[data['message'].str.startswith('An existing')]\n",
    "        for b in brukarar['message']:\n",
    "            innhald += f\"{b}\\n\"\n",
    "            antal_feilmeldingar += 1\n",
    "        for e in eksisterer['message']:\n",
    "            innhald += f\"{e}\\n\"\n",
    "            antal_feilmeldingar += 1\n",
    "print(innhald)\n",
    "        "
   ]
  }
 ],
 "metadata": {
  "kernelspec": {
   "display_name": "Python 3",
   "language": "python",
   "name": "python3"
  },
  "language_info": {
   "codemirror_mode": {
    "name": "ipython",
    "version": 3
   },
   "file_extension": ".py",
   "mimetype": "text/x-python",
   "name": "python",
   "nbconvert_exporter": "python",
   "pygments_lexer": "ipython3",
   "version": "3.12.3"
  }
 },
 "nbformat": 4,
 "nbformat_minor": 2
}
