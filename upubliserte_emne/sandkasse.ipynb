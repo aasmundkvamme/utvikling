{
 "cells": [
  {
   "cell_type": "code",
   "execution_count": null,
   "id": "3c2e90f0",
   "metadata": {},
   "outputs": [
    {
     "ename": "",
     "evalue": "",
     "output_type": "error",
     "traceback": [
      "\u001b[1;31mRunning cells with 'Python 3.12.3' requires the ipykernel package.\n",
      "\u001b[1;31mInstall 'ipykernel' into the Python environment. \n",
      "\u001b[1;31mCommand: '/usr/bin/python3 -m pip install ipykernel -U --user --force-reinstall'"
     ]
    }
   ],
   "source": [
    "import requests\n",
    "import os\n",
    "import pandas as pd\n",
    "from datetime import date, datetime, timedelta\n",
    "import time\n",
    "from io import StringIO\n",
    "idag = date.today().isoformat()[0:10]\n",
    "tokenCanvas = os.environ['tokenCanvas']\n",
    "\n",
    "headers = {'Authorization': f'Bearer {tokenCanvas}',}\n",
    "params = {'per_page': 100,}"
   ]
  },
  {
   "cell_type": "markdown",
   "id": "b916ad7d",
   "metadata": {},
   "source": [
    "# Liste alle emne\n",
    "\n",
    "Eg kan hente alle emna for hausten 20205 ved å tappe meg inn på overføringa frå FS til Canvas kvar natt. Først tar eg det manuelt (sist natt henta av meg), og seinare kan eg lage ein automatisert rutine."
   ]
  },
  {
   "cell_type": "code",
   "execution_count": null,
   "id": "2d4b7d8d",
   "metadata": {},
   "outputs": [],
   "source": [
    "data = pd."
   ]
  }
 ],
 "metadata": {
  "kernelspec": {
   "display_name": "Python 3",
   "language": "python",
   "name": "python3"
  },
  "language_info": {
   "codemirror_mode": {
    "name": "ipython",
    "version": 3
   },
   "file_extension": ".py",
   "mimetype": "text/x-python",
   "name": "python",
   "nbconvert_exporter": "python",
   "pygments_lexer": "ipython3",
   "version": "3.12.3"
  }
 },
 "nbformat": 4,
 "nbformat_minor": 5
}
