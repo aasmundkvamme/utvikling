{
 "cells": [
  {
   "cell_type": "code",
   "execution_count": 1,
   "id": "3c2e90f0",
   "metadata": {},
   "outputs": [],
   "source": [
    "import requests\n",
    "import os\n",
    "import pandas as pd\n",
    "from datetime import date, datetime, timedelta\n",
    "import time\n",
    "from io import StringIO\n",
    "idag = date.today().isoformat()[0:10]\n",
    "tokenCanvas = os.environ['tokenCanvas']\n",
    "\n",
    "headers = {'Authorization': f'Bearer {tokenCanvas}',}\n",
    "params = {'per_page': 100,}"
   ]
  },
  {
   "cell_type": "markdown",
   "id": "b916ad7d",
   "metadata": {},
   "source": [
    "# Liste alle emne\n",
    "\n",
    "Først lister eg alle emne, og så finn eg alle som har \"2025_HØST\" i seg. Det dekker i alle fall dei som starter opp no i haust. Dei som er andre semester av eit to-semestersemne er ikkje så viktige, for dei er vel mest sannsynleg publisert allereie?"
   ]
  },
  {
   "cell_type": "code",
   "execution_count": 17,
   "id": "72c4370e",
   "metadata": {},
   "outputs": [
    {
     "ename": "TypeError",
     "evalue": "argument of type 'NoneType' is not iterable",
     "output_type": "error",
     "traceback": [
      "\u001b[31m---------------------------------------------------------------------------\u001b[39m",
      "\u001b[31mTypeError\u001b[39m                                 Traceback (most recent call last)",
      "\u001b[36mCell\u001b[39m\u001b[36m \u001b[39m\u001b[32mIn[17]\u001b[39m\u001b[32m, line 22\u001b[39m\n\u001b[32m     19\u001b[39m emne = get_courses()\n\u001b[32m     21\u001b[39m \u001b[38;5;66;03m# Filtrer emne som starter i 2025_HØST\u001b[39;00m\n\u001b[32m---> \u001b[39m\u001b[32m22\u001b[39m emne_2025_host = [c \u001b[38;5;28;01mfor\u001b[39;00m c \u001b[38;5;129;01min\u001b[39;00m emne \u001b[38;5;28;01mif\u001b[39;00m \u001b[33;43m'\u001b[39;49m\u001b[33;43mHØST_2017\u001b[39;49m\u001b[33;43m'\u001b[39;49m\u001b[43m \u001b[49m\u001b[38;5;129;43;01min\u001b[39;49;00m\u001b[43m \u001b[49m\u001b[43mc\u001b[49m\u001b[43m[\u001b[49m\u001b[33;43m'\u001b[39;49m\u001b[33;43msis_course_id\u001b[39;49m\u001b[33;43m'\u001b[39;49m\u001b[43m]\u001b[49m]\n",
      "\u001b[31mTypeError\u001b[39m: argument of type 'NoneType' is not iterable"
     ]
    }
   ],
   "source": [
    "url = f\"https://hvl.instructure.com/api/v1/accounts/1/courses\"\n",
    "\n",
    "def get_courses():\n",
    "    courses = []\n",
    "    page = 1\n",
    "    while page < 3:\n",
    "        params['page'] = page\n",
    "        response = requests.get(url, headers=headers, params=params)\n",
    "        if response.status_code != 200:\n",
    "            print(f\"Error fetching courses: {response.status_code}\")\n",
    "            break\n",
    "        data = response.json()\n",
    "        if not data:\n",
    "            break\n",
    "        courses.extend(data)\n",
    "        page += 1\n",
    "    return courses\n",
    "\n",
    "emne = get_courses()\n",
    "\n",
    "# Filtrer emne som starter i 2025_HØST\n",
    "emne_2025_host = [c for c in emne if 'HØST_2017' in c['sis_course_id']]"
   ]
  },
  {
   "cell_type": "markdown",
   "id": "5cbd9852",
   "metadata": {},
   "source": []
  },
  {
   "cell_type": "code",
   "execution_count": 9,
   "id": "eeef1acf",
   "metadata": {},
   "outputs": [],
   "source": [
    "emne1 = 34024\n",
    "emne2 = 34025\n",
    "url1 = f\"https://hvl.instructure.com/api/v1/courses/{emne1}/settings\"\n",
    "url2 = f\"https://hvl.instructure.com/api/v1/courses/{emne2}/settings\"\n",
    "def get_course_settings(course_id):\n",
    "    url = f\"https://hvl.instructure.com/api/v1/courses/{course_id}/settings\"\n",
    "    response = requests.get(url, headers=headers)\n",
    "    if response.status_code == 200:\n",
    "        return response.json()\n",
    "    else:\n",
    "        print(f\"Error fetching course settings for {course_id}: {response.status_code}\")\n",
    "        return None\n",
    "    \n",
    "settings1 = get_course_settings(emne1)\n",
    "settings2 = get_course_settings(emne2)"
   ]
  },
  {
   "cell_type": "code",
   "execution_count": 10,
   "id": "dd7cef25",
   "metadata": {},
   "outputs": [
    {
     "data": {
      "text/plain": [
       "{'allow_final_grade_override': False,\n",
       " 'allow_student_discussion_topics': True,\n",
       " 'allow_student_forum_attachments': True,\n",
       " 'allow_student_discussion_editing': True,\n",
       " 'allow_student_discussion_reporting': True,\n",
       " 'allow_student_anonymous_discussion_topics': False,\n",
       " 'filter_speed_grader_by_student_group': False,\n",
       " 'grading_standard_enabled': False,\n",
       " 'grading_standard_id': None,\n",
       " 'grade_passback_setting': None,\n",
       " 'allow_student_organized_groups': True,\n",
       " 'hide_final_grades': False,\n",
       " 'hide_distribution_graphs': False,\n",
       " 'hide_sections_on_course_users_page': False,\n",
       " 'lock_all_announcements': False,\n",
       " 'usage_rights_required': False,\n",
       " 'restrict_student_past_view': False,\n",
       " 'restrict_student_future_view': False,\n",
       " 'restrict_quantitative_data': False,\n",
       " 'show_announcements_on_home_page': True,\n",
       " 'home_page_announcement_limit': 3,\n",
       " 'syllabus_course_summary': False,\n",
       " 'homeroom_course': False,\n",
       " 'image_url': None,\n",
       " 'image_id': None,\n",
       " 'image': None,\n",
       " 'banner_image_url': None,\n",
       " 'banner_image_id': None,\n",
       " 'banner_image': None,\n",
       " 'course_color': None,\n",
       " 'friendly_name': None,\n",
       " 'default_due_time': '23:59:59',\n",
       " 'conditional_release': True}"
      ]
     },
     "execution_count": 10,
     "metadata": {},
     "output_type": "execute_result"
    }
   ],
   "source": [
    "settings1"
   ]
  },
  {
   "cell_type": "code",
   "execution_count": 11,
   "id": "a3159a14",
   "metadata": {},
   "outputs": [],
   "source": [
    "url11 = f\"https://hvl.instructure.com/api/v1/courses/{emne1}\"\n",
    "url21 = f\"https://hvl.instructure.com/api/v1/courses/{emne2}\"\n",
    "\n",
    "def get_course_details(course_id):\n",
    "    url = f\"https://hvl.instructure.com/api/v1/courses/{course_id}\"\n",
    "    response = requests.get(url, headers=headers)\n",
    "    if response.status_code == 200:\n",
    "        return response.json()\n",
    "    else:\n",
    "        print(f\"Error fetching course details for {course_id}: {response.status_code}\")\n",
    "        return None\n",
    "\n",
    "course_details1 = get_course_details(emne1)\n",
    "course_details2 = get_course_details(emne2)"
   ]
  },
  {
   "cell_type": "code",
   "execution_count": 15,
   "id": "0df200b2",
   "metadata": {},
   "outputs": [
    {
     "data": {
      "text/plain": [
       "{'id': 34025,\n",
       " 'name': 'MAT122 Førde - Informasjonsteknologi (11)',\n",
       " 'account_id': 18953,\n",
       " 'uuid': 'Mp6gylYGqA42SVObiCD1RNhrXdh4OfdFDdi9hopN',\n",
       " 'start_at': None,\n",
       " 'grading_standard_id': None,\n",
       " 'is_public': False,\n",
       " 'created_at': '2025-06-04T10:11:33Z',\n",
       " 'course_code': 'MAT122 Førde - Informasjonsteknologi (11)',\n",
       " 'default_view': 'syllabus',\n",
       " 'root_account_id': 1,\n",
       " 'enrollment_term_id': 353,\n",
       " 'license': 'private',\n",
       " 'grade_passback_setting': None,\n",
       " 'end_at': None,\n",
       " 'public_syllabus': False,\n",
       " 'public_syllabus_to_auth': False,\n",
       " 'storage_quota_mb': 524,\n",
       " 'is_public_to_auth_users': False,\n",
       " 'homeroom_course': False,\n",
       " 'course_color': None,\n",
       " 'friendly_name': None,\n",
       " 'hide_final_grades': False,\n",
       " 'apply_assignment_group_weights': False,\n",
       " 'calendar': {'ics': 'https://hvl.instructure.com/feeds/calendars/course_Mp6gylYGqA42SVObiCD1RNhrXdh4OfdFDdi9hopN.ics'},\n",
       " 'time_zone': 'Europe/Copenhagen',\n",
       " 'blueprint': False,\n",
       " 'template': False,\n",
       " 'sis_course_id': 'UA_203_MAT122_1_2025_HØST_1_11',\n",
       " 'sis_import_id': 30972,\n",
       " 'integration_id': None,\n",
       " 'enrollments': [],\n",
       " 'workflow_state': 'unpublished',\n",
       " 'restrict_enrollments_to_course_dates': False}"
      ]
     },
     "execution_count": 15,
     "metadata": {},
     "output_type": "execute_result"
    }
   ],
   "source": [
    "course_details2"
   ]
  },
  {
   "cell_type": "code",
   "execution_count": null,
   "id": "2d4b7d8d",
   "metadata": {},
   "outputs": [],
   "source": []
  }
 ],
 "metadata": {
  "kernelspec": {
   "display_name": "Python 3",
   "language": "python",
   "name": "python3"
  },
  "language_info": {
   "codemirror_mode": {
    "name": "ipython",
    "version": 3
   },
   "file_extension": ".py",
   "mimetype": "text/x-python",
   "name": "python",
   "nbconvert_exporter": "python",
   "pygments_lexer": "ipython3",
   "version": "3.13.7"
  }
 },
 "nbformat": 4,
 "nbformat_minor": 5
}
