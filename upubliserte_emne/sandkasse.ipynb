{
 "cells": [
  {
   "cell_type": "markdown",
   "id": "715c11c0",
   "metadata": {},
   "source": [
    "# Finne alle emne dette semesteret\n",
    "Eg leiter opp alle emne dette semesteret, og sjekke rom det er nokon emne med lærar og student ssom ikkje er publisert."
   ]
  },
  {
   "cell_type": "code",
   "execution_count": 1,
   "id": "7202181d",
   "metadata": {},
   "outputs": [],
   "source": [
    "import requests\n",
    "import os\n",
    "import pandas as pd\n",
    "tokenCanvas = os.environ['tokenCanvas']\n",
    "\n",
    "headers = {\n",
    "    'Authorization': f'Bearer {tokenCanvas}',\n",
    "}\n",
    "params = {\n",
    "    'per_page': 100,\n",
    "}\n",
    "\n",
    "def finn_rel(link_header):\n",
    "    link_header_dict = {}\n",
    "    for link in link_header.split(\",\"):\n",
    "        url, rel = link.strip().split(\";\")\n",
    "        rel = rel.split('=')[1]\n",
    "        link_header_dict[rel.strip().replace('\"', '')] = url.strip().replace('<', '').replace('>', '')      # Kommentar: denne er med BERRE for å skape balanse i .org-fila: \\\"\n",
    "    return link_header_dict\n"
   ]
  },
  {
   "cell_type": "markdown",
   "id": "f6e3a0b9",
   "metadata": {},
   "source": [
    "Her hentar eg inn alle emna, og sjekker dei mot det aktuelle semesteret. Det er alle emne som har undervising før, samtidig med, eller etter \"2025 HØST\"."
   ]
  },
  {
   "cell_type": "code",
   "execution_count": 2,
   "id": "7a0f89d7",
   "metadata": {},
   "outputs": [],
   "source": [
    "url = \"https://hvl.instructure.com/api/v1/accounts/1/courses\"\n",
    "terminar = pd.read_csv(\"terminar.csv\").to_numpy()\n"
   ]
  },
  {
   "cell_type": "code",
   "execution_count": 3,
   "id": "a60b79c7",
   "metadata": {},
   "outputs": [
    {
     "name": "stdout",
     "output_type": "stream",
     "text": [
      "https://hvl.instructure.com/api/v1/accounts/1/courses?page=2&per_page=100\n",
      "https://hvl.instructure.com/api/v1/accounts/1/courses?page=3&per_page=100\n",
      "https://hvl.instructure.com/api/v1/accounts/1/courses?page=4&per_page=100\n",
      "https://hvl.instructure.com/api/v1/accounts/1/courses?page=5&per_page=100\n",
      "https://hvl.instructure.com/api/v1/accounts/1/courses?page=6&per_page=100\n",
      "https://hvl.instructure.com/api/v1/accounts/1/courses?page=7&per_page=100\n",
      "https://hvl.instructure.com/api/v1/accounts/1/courses?page=8&per_page=100\n",
      "https://hvl.instructure.com/api/v1/accounts/1/courses?page=9&per_page=100\n",
      "https://hvl.instructure.com/api/v1/accounts/1/courses?page=10&per_page=100\n",
      "https://hvl.instructure.com/api/v1/accounts/1/courses?page=11&per_page=100\n",
      "https://hvl.instructure.com/api/v1/accounts/1/courses?page=12&per_page=100\n",
      "https://hvl.instructure.com/api/v1/accounts/1/courses?page=13&per_page=100\n",
      "https://hvl.instructure.com/api/v1/accounts/1/courses?page=14&per_page=100\n",
      "https://hvl.instructure.com/api/v1/accounts/1/courses?page=15&per_page=100\n",
      "https://hvl.instructure.com/api/v1/accounts/1/courses?page=16&per_page=100\n",
      "https://hvl.instructure.com/api/v1/accounts/1/courses?page=17&per_page=100\n",
      "https://hvl.instructure.com/api/v1/accounts/1/courses?page=18&per_page=100\n",
      "https://hvl.instructure.com/api/v1/accounts/1/courses?page=19&per_page=100\n",
      "https://hvl.instructure.com/api/v1/accounts/1/courses?page=20&per_page=100\n",
      "https://hvl.instructure.com/api/v1/accounts/1/courses?page=21&per_page=100\n",
      "https://hvl.instructure.com/api/v1/accounts/1/courses?page=22&per_page=100\n",
      "https://hvl.instructure.com/api/v1/accounts/1/courses?page=23&per_page=100\n",
      "https://hvl.instructure.com/api/v1/accounts/1/courses?page=24&per_page=100\n",
      "https://hvl.instructure.com/api/v1/accounts/1/courses?page=25&per_page=100\n",
      "https://hvl.instructure.com/api/v1/accounts/1/courses?page=26&per_page=100\n",
      "https://hvl.instructure.com/api/v1/accounts/1/courses?page=27&per_page=100\n",
      "https://hvl.instructure.com/api/v1/accounts/1/courses?page=28&per_page=100\n",
      "https://hvl.instructure.com/api/v1/accounts/1/courses?page=29&per_page=100\n",
      "https://hvl.instructure.com/api/v1/accounts/1/courses?page=30&per_page=100\n",
      "https://hvl.instructure.com/api/v1/accounts/1/courses?page=31&per_page=100\n",
      "https://hvl.instructure.com/api/v1/accounts/1/courses?page=32&per_page=100\n",
      "https://hvl.instructure.com/api/v1/accounts/1/courses?page=33&per_page=100\n",
      "https://hvl.instructure.com/api/v1/accounts/1/courses?page=34&per_page=100\n",
      "https://hvl.instructure.com/api/v1/accounts/1/courses?page=35&per_page=100\n",
      "https://hvl.instructure.com/api/v1/accounts/1/courses?page=36&per_page=100\n",
      "https://hvl.instructure.com/api/v1/accounts/1/courses?page=37&per_page=100\n",
      "https://hvl.instructure.com/api/v1/accounts/1/courses?page=38&per_page=100\n",
      "https://hvl.instructure.com/api/v1/accounts/1/courses?page=39&per_page=100\n",
      "https://hvl.instructure.com/api/v1/accounts/1/courses?page=40&per_page=100\n",
      "https://hvl.instructure.com/api/v1/accounts/1/courses?page=41&per_page=100\n",
      "https://hvl.instructure.com/api/v1/accounts/1/courses?page=42&per_page=100\n",
      "https://hvl.instructure.com/api/v1/accounts/1/courses?page=43&per_page=100\n",
      "https://hvl.instructure.com/api/v1/accounts/1/courses?page=44&per_page=100\n",
      "https://hvl.instructure.com/api/v1/accounts/1/courses?page=45&per_page=100\n",
      "https://hvl.instructure.com/api/v1/accounts/1/courses?page=46&per_page=100\n",
      "https://hvl.instructure.com/api/v1/accounts/1/courses?page=47&per_page=100\n",
      "https://hvl.instructure.com/api/v1/accounts/1/courses?page=48&per_page=100\n",
      "https://hvl.instructure.com/api/v1/accounts/1/courses?page=49&per_page=100\n",
      "https://hvl.instructure.com/api/v1/accounts/1/courses?page=50&per_page=100\n",
      "https://hvl.instructure.com/api/v1/accounts/1/courses?page=51&per_page=100\n",
      "https://hvl.instructure.com/api/v1/accounts/1/courses?page=52&per_page=100\n",
      "https://hvl.instructure.com/api/v1/accounts/1/courses?page=53&per_page=100\n",
      "https://hvl.instructure.com/api/v1/accounts/1/courses?page=54&per_page=100\n",
      "https://hvl.instructure.com/api/v1/accounts/1/courses?page=55&per_page=100\n",
      "https://hvl.instructure.com/api/v1/accounts/1/courses?page=56&per_page=100\n",
      "https://hvl.instructure.com/api/v1/accounts/1/courses?page=57&per_page=100\n",
      "https://hvl.instructure.com/api/v1/accounts/1/courses?page=58&per_page=100\n",
      "https://hvl.instructure.com/api/v1/accounts/1/courses?page=59&per_page=100\n",
      "https://hvl.instructure.com/api/v1/accounts/1/courses?page=60&per_page=100\n",
      "https://hvl.instructure.com/api/v1/accounts/1/courses?page=61&per_page=100\n",
      "https://hvl.instructure.com/api/v1/accounts/1/courses?page=62&per_page=100\n",
      "https://hvl.instructure.com/api/v1/accounts/1/courses?page=63&per_page=100\n",
      "https://hvl.instructure.com/api/v1/accounts/1/courses?page=64&per_page=100\n",
      "https://hvl.instructure.com/api/v1/accounts/1/courses?page=65&per_page=100\n",
      "https://hvl.instructure.com/api/v1/accounts/1/courses?page=66&per_page=100\n",
      "https://hvl.instructure.com/api/v1/accounts/1/courses?page=67&per_page=100\n",
      "https://hvl.instructure.com/api/v1/accounts/1/courses?page=68&per_page=100\n",
      "https://hvl.instructure.com/api/v1/accounts/1/courses?page=69&per_page=100\n",
      "https://hvl.instructure.com/api/v1/accounts/1/courses?page=70&per_page=100\n",
      "https://hvl.instructure.com/api/v1/accounts/1/courses?page=71&per_page=100\n",
      "https://hvl.instructure.com/api/v1/accounts/1/courses?page=72&per_page=100\n",
      "https://hvl.instructure.com/api/v1/accounts/1/courses?page=73&per_page=100\n",
      "https://hvl.instructure.com/api/v1/accounts/1/courses?page=74&per_page=100\n",
      "https://hvl.instructure.com/api/v1/accounts/1/courses?page=75&per_page=100\n",
      "https://hvl.instructure.com/api/v1/accounts/1/courses?page=76&per_page=100\n",
      "https://hvl.instructure.com/api/v1/accounts/1/courses?page=77&per_page=100\n",
      "https://hvl.instructure.com/api/v1/accounts/1/courses?page=78&per_page=100\n",
      "https://hvl.instructure.com/api/v1/accounts/1/courses?page=79&per_page=100\n",
      "https://hvl.instructure.com/api/v1/accounts/1/courses?page=80&per_page=100\n",
      "https://hvl.instructure.com/api/v1/accounts/1/courses?page=81&per_page=100\n",
      "https://hvl.instructure.com/api/v1/accounts/1/courses?page=82&per_page=100\n",
      "https://hvl.instructure.com/api/v1/accounts/1/courses?page=83&per_page=100\n",
      "https://hvl.instructure.com/api/v1/accounts/1/courses?page=84&per_page=100\n",
      "https://hvl.instructure.com/api/v1/accounts/1/courses?page=85&per_page=100\n",
      "https://hvl.instructure.com/api/v1/accounts/1/courses?page=86&per_page=100\n",
      "https://hvl.instructure.com/api/v1/accounts/1/courses?page=87&per_page=100\n",
      "https://hvl.instructure.com/api/v1/accounts/1/courses?page=88&per_page=100\n",
      "https://hvl.instructure.com/api/v1/accounts/1/courses?page=89&per_page=100\n",
      "https://hvl.instructure.com/api/v1/accounts/1/courses?page=90&per_page=100\n",
      "https://hvl.instructure.com/api/v1/accounts/1/courses?page=91&per_page=100\n",
      "https://hvl.instructure.com/api/v1/accounts/1/courses?page=92&per_page=100\n",
      "https://hvl.instructure.com/api/v1/accounts/1/courses?page=93&per_page=100\n",
      "https://hvl.instructure.com/api/v1/accounts/1/courses?page=94&per_page=100\n",
      "https://hvl.instructure.com/api/v1/accounts/1/courses?page=95&per_page=100\n",
      "https://hvl.instructure.com/api/v1/accounts/1/courses?page=96&per_page=100\n",
      "https://hvl.instructure.com/api/v1/accounts/1/courses?page=97&per_page=100\n",
      "https://hvl.instructure.com/api/v1/accounts/1/courses?page=98&per_page=100\n",
      "https://hvl.instructure.com/api/v1/accounts/1/courses?page=99&per_page=100\n",
      "https://hvl.instructure.com/api/v1/accounts/1/courses?page=100&per_page=100\n",
      "https://hvl.instructure.com/api/v1/accounts/1/courses?page=101&per_page=100\n",
      "https://hvl.instructure.com/api/v1/accounts/1/courses?page=102&per_page=100\n",
      "https://hvl.instructure.com/api/v1/accounts/1/courses?page=103&per_page=100\n",
      "https://hvl.instructure.com/api/v1/accounts/1/courses?page=104&per_page=100\n",
      "https://hvl.instructure.com/api/v1/accounts/1/courses?page=105&per_page=100\n",
      "https://hvl.instructure.com/api/v1/accounts/1/courses?page=106&per_page=100\n",
      "https://hvl.instructure.com/api/v1/accounts/1/courses?page=107&per_page=100\n",
      "https://hvl.instructure.com/api/v1/accounts/1/courses?page=108&per_page=100\n",
      "https://hvl.instructure.com/api/v1/accounts/1/courses?page=109&per_page=100\n",
      "https://hvl.instructure.com/api/v1/accounts/1/courses?page=110&per_page=100\n",
      "https://hvl.instructure.com/api/v1/accounts/1/courses?page=111&per_page=100\n",
      "https://hvl.instructure.com/api/v1/accounts/1/courses?page=112&per_page=100\n",
      "https://hvl.instructure.com/api/v1/accounts/1/courses?page=113&per_page=100\n",
      "https://hvl.instructure.com/api/v1/accounts/1/courses?page=114&per_page=100\n",
      "https://hvl.instructure.com/api/v1/accounts/1/courses?page=115&per_page=100\n",
      "https://hvl.instructure.com/api/v1/accounts/1/courses?page=116&per_page=100\n",
      "https://hvl.instructure.com/api/v1/accounts/1/courses?page=117&per_page=100\n",
      "https://hvl.instructure.com/api/v1/accounts/1/courses?page=118&per_page=100\n",
      "https://hvl.instructure.com/api/v1/accounts/1/courses?page=119&per_page=100\n",
      "https://hvl.instructure.com/api/v1/accounts/1/courses?page=120&per_page=100\n",
      "https://hvl.instructure.com/api/v1/accounts/1/courses?page=121&per_page=100\n",
      "https://hvl.instructure.com/api/v1/accounts/1/courses?page=122&per_page=100\n",
      "https://hvl.instructure.com/api/v1/accounts/1/courses?page=123&per_page=100\n",
      "https://hvl.instructure.com/api/v1/accounts/1/courses?page=124&per_page=100\n",
      "https://hvl.instructure.com/api/v1/accounts/1/courses?page=125&per_page=100\n",
      "https://hvl.instructure.com/api/v1/accounts/1/courses?page=126&per_page=100\n",
      "https://hvl.instructure.com/api/v1/accounts/1/courses?page=127&per_page=100\n",
      "https://hvl.instructure.com/api/v1/accounts/1/courses?page=128&per_page=100\n",
      "https://hvl.instructure.com/api/v1/accounts/1/courses?page=129&per_page=100\n",
      "https://hvl.instructure.com/api/v1/accounts/1/courses?page=130&per_page=100\n",
      "https://hvl.instructure.com/api/v1/accounts/1/courses?page=131&per_page=100\n",
      "https://hvl.instructure.com/api/v1/accounts/1/courses?page=132&per_page=100\n",
      "https://hvl.instructure.com/api/v1/accounts/1/courses?page=133&per_page=100\n",
      "https://hvl.instructure.com/api/v1/accounts/1/courses?page=134&per_page=100\n",
      "https://hvl.instructure.com/api/v1/accounts/1/courses?page=135&per_page=100\n",
      "https://hvl.instructure.com/api/v1/accounts/1/courses?page=136&per_page=100\n",
      "https://hvl.instructure.com/api/v1/accounts/1/courses?page=137&per_page=100\n",
      "https://hvl.instructure.com/api/v1/accounts/1/courses?page=138&per_page=100\n",
      "https://hvl.instructure.com/api/v1/accounts/1/courses?page=139&per_page=100\n",
      "https://hvl.instructure.com/api/v1/accounts/1/courses?page=140&per_page=100\n",
      "https://hvl.instructure.com/api/v1/accounts/1/courses?page=141&per_page=100\n",
      "https://hvl.instructure.com/api/v1/accounts/1/courses?page=142&per_page=100\n",
      "https://hvl.instructure.com/api/v1/accounts/1/courses?page=143&per_page=100\n",
      "https://hvl.instructure.com/api/v1/accounts/1/courses?page=144&per_page=100\n",
      "https://hvl.instructure.com/api/v1/accounts/1/courses?page=145&per_page=100\n",
      "https://hvl.instructure.com/api/v1/accounts/1/courses?page=146&per_page=100\n",
      "https://hvl.instructure.com/api/v1/accounts/1/courses?page=147&per_page=100\n",
      "https://hvl.instructure.com/api/v1/accounts/1/courses?page=148&per_page=100\n",
      "https://hvl.instructure.com/api/v1/accounts/1/courses?page=149&per_page=100\n",
      "https://hvl.instructure.com/api/v1/accounts/1/courses?page=150&per_page=100\n",
      "https://hvl.instructure.com/api/v1/accounts/1/courses?page=151&per_page=100\n",
      "https://hvl.instructure.com/api/v1/accounts/1/courses?page=152&per_page=100\n",
      "https://hvl.instructure.com/api/v1/accounts/1/courses?page=153&per_page=100\n",
      "https://hvl.instructure.com/api/v1/accounts/1/courses?page=154&per_page=100\n",
      "https://hvl.instructure.com/api/v1/accounts/1/courses?page=155&per_page=100\n",
      "https://hvl.instructure.com/api/v1/accounts/1/courses?page=156&per_page=100\n",
      "https://hvl.instructure.com/api/v1/accounts/1/courses?page=157&per_page=100\n",
      "https://hvl.instructure.com/api/v1/accounts/1/courses?page=158&per_page=100\n",
      "https://hvl.instructure.com/api/v1/accounts/1/courses?page=159&per_page=100\n",
      "https://hvl.instructure.com/api/v1/accounts/1/courses?page=160&per_page=100\n",
      "https://hvl.instructure.com/api/v1/accounts/1/courses?page=161&per_page=100\n",
      "https://hvl.instructure.com/api/v1/accounts/1/courses?page=162&per_page=100\n",
      "https://hvl.instructure.com/api/v1/accounts/1/courses?page=163&per_page=100\n",
      "https://hvl.instructure.com/api/v1/accounts/1/courses?page=164&per_page=100\n",
      "https://hvl.instructure.com/api/v1/accounts/1/courses?page=165&per_page=100\n",
      "https://hvl.instructure.com/api/v1/accounts/1/courses?page=166&per_page=100\n",
      "https://hvl.instructure.com/api/v1/accounts/1/courses?page=167&per_page=100\n",
      "https://hvl.instructure.com/api/v1/accounts/1/courses?page=168&per_page=100\n",
      "https://hvl.instructure.com/api/v1/accounts/1/courses?page=169&per_page=100\n",
      "https://hvl.instructure.com/api/v1/accounts/1/courses?page=170&per_page=100\n",
      "https://hvl.instructure.com/api/v1/accounts/1/courses?page=171&per_page=100\n",
      "https://hvl.instructure.com/api/v1/accounts/1/courses?page=172&per_page=100\n",
      "https://hvl.instructure.com/api/v1/accounts/1/courses?page=173&per_page=100\n",
      "https://hvl.instructure.com/api/v1/accounts/1/courses?page=174&per_page=100\n",
      "https://hvl.instructure.com/api/v1/accounts/1/courses?page=175&per_page=100\n",
      "https://hvl.instructure.com/api/v1/accounts/1/courses?page=176&per_page=100\n",
      "https://hvl.instructure.com/api/v1/accounts/1/courses?page=177&per_page=100\n",
      "https://hvl.instructure.com/api/v1/accounts/1/courses?page=178&per_page=100\n",
      "https://hvl.instructure.com/api/v1/accounts/1/courses?page=179&per_page=100\n",
      "https://hvl.instructure.com/api/v1/accounts/1/courses?page=180&per_page=100\n",
      "https://hvl.instructure.com/api/v1/accounts/1/courses?page=181&per_page=100\n",
      "https://hvl.instructure.com/api/v1/accounts/1/courses?page=182&per_page=100\n",
      "https://hvl.instructure.com/api/v1/accounts/1/courses?page=183&per_page=100\n",
      "https://hvl.instructure.com/api/v1/accounts/1/courses?page=184&per_page=100\n",
      "https://hvl.instructure.com/api/v1/accounts/1/courses?page=185&per_page=100\n",
      "https://hvl.instructure.com/api/v1/accounts/1/courses?page=186&per_page=100\n",
      "https://hvl.instructure.com/api/v1/accounts/1/courses?page=187&per_page=100\n",
      "https://hvl.instructure.com/api/v1/accounts/1/courses?page=188&per_page=100\n",
      "https://hvl.instructure.com/api/v1/accounts/1/courses?page=189&per_page=100\n",
      "https://hvl.instructure.com/api/v1/accounts/1/courses?page=190&per_page=100\n",
      "https://hvl.instructure.com/api/v1/accounts/1/courses?page=191&per_page=100\n",
      "https://hvl.instructure.com/api/v1/accounts/1/courses?page=192&per_page=100\n",
      "https://hvl.instructure.com/api/v1/accounts/1/courses?page=193&per_page=100\n",
      "https://hvl.instructure.com/api/v1/accounts/1/courses?page=194&per_page=100\n",
      "https://hvl.instructure.com/api/v1/accounts/1/courses?page=195&per_page=100\n",
      "https://hvl.instructure.com/api/v1/accounts/1/courses?page=196&per_page=100\n",
      "https://hvl.instructure.com/api/v1/accounts/1/courses?page=197&per_page=100\n",
      "https://hvl.instructure.com/api/v1/accounts/1/courses?page=198&per_page=100\n",
      "https://hvl.instructure.com/api/v1/accounts/1/courses?page=199&per_page=100\n",
      "https://hvl.instructure.com/api/v1/accounts/1/courses?page=200&per_page=100\n",
      "https://hvl.instructure.com/api/v1/accounts/1/courses?page=201&per_page=100\n",
      "https://hvl.instructure.com/api/v1/accounts/1/courses?page=202&per_page=100\n",
      "https://hvl.instructure.com/api/v1/accounts/1/courses?page=203&per_page=100\n",
      "https://hvl.instructure.com/api/v1/accounts/1/courses?page=204&per_page=100\n",
      "https://hvl.instructure.com/api/v1/accounts/1/courses?page=205&per_page=100\n",
      "https://hvl.instructure.com/api/v1/accounts/1/courses?page=206&per_page=100\n",
      "https://hvl.instructure.com/api/v1/accounts/1/courses?page=207&per_page=100\n",
      "https://hvl.instructure.com/api/v1/accounts/1/courses?page=208&per_page=100\n",
      "https://hvl.instructure.com/api/v1/accounts/1/courses?page=209&per_page=100\n",
      "https://hvl.instructure.com/api/v1/accounts/1/courses?page=210&per_page=100\n",
      "https://hvl.instructure.com/api/v1/accounts/1/courses?page=211&per_page=100\n",
      "https://hvl.instructure.com/api/v1/accounts/1/courses?page=212&per_page=100\n",
      "https://hvl.instructure.com/api/v1/accounts/1/courses?page=213&per_page=100\n",
      "https://hvl.instructure.com/api/v1/accounts/1/courses?page=214&per_page=100\n",
      "https://hvl.instructure.com/api/v1/accounts/1/courses?page=215&per_page=100\n",
      "https://hvl.instructure.com/api/v1/accounts/1/courses?page=216&per_page=100\n",
      "https://hvl.instructure.com/api/v1/accounts/1/courses?page=217&per_page=100\n",
      "https://hvl.instructure.com/api/v1/accounts/1/courses?page=218&per_page=100\n",
      "https://hvl.instructure.com/api/v1/accounts/1/courses?page=219&per_page=100\n",
      "https://hvl.instructure.com/api/v1/accounts/1/courses?page=220&per_page=100\n",
      "https://hvl.instructure.com/api/v1/accounts/1/courses?page=221&per_page=100\n",
      "https://hvl.instructure.com/api/v1/accounts/1/courses?page=222&per_page=100\n",
      "https://hvl.instructure.com/api/v1/accounts/1/courses?page=223&per_page=100\n",
      "https://hvl.instructure.com/api/v1/accounts/1/courses?page=224&per_page=100\n",
      "https://hvl.instructure.com/api/v1/accounts/1/courses?page=225&per_page=100\n",
      "https://hvl.instructure.com/api/v1/accounts/1/courses?page=226&per_page=100\n",
      "https://hvl.instructure.com/api/v1/accounts/1/courses?page=227&per_page=100\n",
      "https://hvl.instructure.com/api/v1/accounts/1/courses?page=228&per_page=100\n",
      "https://hvl.instructure.com/api/v1/accounts/1/courses?page=229&per_page=100\n",
      "https://hvl.instructure.com/api/v1/accounts/1/courses?page=230&per_page=100\n",
      "https://hvl.instructure.com/api/v1/accounts/1/courses?page=231&per_page=100\n",
      "https://hvl.instructure.com/api/v1/accounts/1/courses?page=232&per_page=100\n",
      "https://hvl.instructure.com/api/v1/accounts/1/courses?page=233&per_page=100\n",
      "https://hvl.instructure.com/api/v1/accounts/1/courses?page=234&per_page=100\n",
      "https://hvl.instructure.com/api/v1/accounts/1/courses?page=235&per_page=100\n",
      "https://hvl.instructure.com/api/v1/accounts/1/courses?page=236&per_page=100\n",
      "https://hvl.instructure.com/api/v1/accounts/1/courses?page=237&per_page=100\n",
      "https://hvl.instructure.com/api/v1/accounts/1/courses?page=238&per_page=100\n",
      "https://hvl.instructure.com/api/v1/accounts/1/courses?page=239&per_page=100\n",
      "https://hvl.instructure.com/api/v1/accounts/1/courses?page=240&per_page=100\n",
      "https://hvl.instructure.com/api/v1/accounts/1/courses?page=241&per_page=100\n",
      "https://hvl.instructure.com/api/v1/accounts/1/courses?page=242&per_page=100\n",
      "https://hvl.instructure.com/api/v1/accounts/1/courses?page=243&per_page=100\n",
      "https://hvl.instructure.com/api/v1/accounts/1/courses?page=244&per_page=100\n",
      "https://hvl.instructure.com/api/v1/accounts/1/courses?page=245&per_page=100\n",
      "https://hvl.instructure.com/api/v1/accounts/1/courses?page=246&per_page=100\n",
      "https://hvl.instructure.com/api/v1/accounts/1/courses?page=247&per_page=100\n",
      "https://hvl.instructure.com/api/v1/accounts/1/courses?page=248&per_page=100\n",
      "https://hvl.instructure.com/api/v1/accounts/1/courses?page=249&per_page=100\n",
      "https://hvl.instructure.com/api/v1/accounts/1/courses?page=250&per_page=100\n",
      "https://hvl.instructure.com/api/v1/accounts/1/courses?page=251&per_page=100\n",
      "https://hvl.instructure.com/api/v1/accounts/1/courses?page=252&per_page=100\n",
      "https://hvl.instructure.com/api/v1/accounts/1/courses?page=253&per_page=100\n",
      "https://hvl.instructure.com/api/v1/accounts/1/courses?page=254&per_page=100\n",
      "https://hvl.instructure.com/api/v1/accounts/1/courses?page=255&per_page=100\n",
      "https://hvl.instructure.com/api/v1/accounts/1/courses?page=256&per_page=100\n",
      "https://hvl.instructure.com/api/v1/accounts/1/courses?page=257&per_page=100\n",
      "https://hvl.instructure.com/api/v1/accounts/1/courses?page=258&per_page=100\n",
      "https://hvl.instructure.com/api/v1/accounts/1/courses?page=259&per_page=100\n",
      "https://hvl.instructure.com/api/v1/accounts/1/courses?page=260&per_page=100\n",
      "https://hvl.instructure.com/api/v1/accounts/1/courses?page=261&per_page=100\n",
      "https://hvl.instructure.com/api/v1/accounts/1/courses?page=262&per_page=100\n",
      "https://hvl.instructure.com/api/v1/accounts/1/courses?page=263&per_page=100\n",
      "https://hvl.instructure.com/api/v1/accounts/1/courses?page=264&per_page=100\n",
      "https://hvl.instructure.com/api/v1/accounts/1/courses?page=265&per_page=100\n",
      "https://hvl.instructure.com/api/v1/accounts/1/courses?page=266&per_page=100\n",
      "https://hvl.instructure.com/api/v1/accounts/1/courses?page=267&per_page=100\n",
      "https://hvl.instructure.com/api/v1/accounts/1/courses?page=268&per_page=100\n",
      "https://hvl.instructure.com/api/v1/accounts/1/courses?page=269&per_page=100\n",
      "https://hvl.instructure.com/api/v1/accounts/1/courses?page=270&per_page=100\n",
      "https://hvl.instructure.com/api/v1/accounts/1/courses?page=271&per_page=100\n",
      "https://hvl.instructure.com/api/v1/accounts/1/courses?page=272&per_page=100\n",
      "https://hvl.instructure.com/api/v1/accounts/1/courses?page=273&per_page=100\n",
      "https://hvl.instructure.com/api/v1/accounts/1/courses?page=274&per_page=100\n",
      "https://hvl.instructure.com/api/v1/accounts/1/courses?page=275&per_page=100\n",
      "https://hvl.instructure.com/api/v1/accounts/1/courses?page=276&per_page=100\n",
      "https://hvl.instructure.com/api/v1/accounts/1/courses?page=277&per_page=100\n",
      "https://hvl.instructure.com/api/v1/accounts/1/courses?page=278&per_page=100\n",
      "https://hvl.instructure.com/api/v1/accounts/1/courses?page=279&per_page=100\n",
      "https://hvl.instructure.com/api/v1/accounts/1/courses?page=280&per_page=100\n",
      "https://hvl.instructure.com/api/v1/accounts/1/courses?page=281&per_page=100\n",
      "https://hvl.instructure.com/api/v1/accounts/1/courses?page=282&per_page=100\n",
      "https://hvl.instructure.com/api/v1/accounts/1/courses?page=283&per_page=100\n",
      "https://hvl.instructure.com/api/v1/accounts/1/courses?page=284&per_page=100\n",
      "https://hvl.instructure.com/api/v1/accounts/1/courses?page=285&per_page=100\n",
      "https://hvl.instructure.com/api/v1/accounts/1/courses?page=286&per_page=100\n",
      "https://hvl.instructure.com/api/v1/accounts/1/courses?page=287&per_page=100\n",
      "https://hvl.instructure.com/api/v1/accounts/1/courses?page=288&per_page=100\n",
      "https://hvl.instructure.com/api/v1/accounts/1/courses?page=289&per_page=100\n",
      "https://hvl.instructure.com/api/v1/accounts/1/courses?page=290&per_page=100\n",
      "https://hvl.instructure.com/api/v1/accounts/1/courses?page=291&per_page=100\n",
      "https://hvl.instructure.com/api/v1/accounts/1/courses?page=292&per_page=100\n",
      "https://hvl.instructure.com/api/v1/accounts/1/courses?page=293&per_page=100\n",
      "https://hvl.instructure.com/api/v1/accounts/1/courses?page=294&per_page=100\n",
      "https://hvl.instructure.com/api/v1/accounts/1/courses?page=295&per_page=100\n",
      "https://hvl.instructure.com/api/v1/accounts/1/courses?page=296&per_page=100\n",
      "https://hvl.instructure.com/api/v1/accounts/1/courses?page=297&per_page=100\n",
      "https://hvl.instructure.com/api/v1/accounts/1/courses?page=298&per_page=100\n",
      "https://hvl.instructure.com/api/v1/accounts/1/courses?page=299&per_page=100\n",
      "https://hvl.instructure.com/api/v1/accounts/1/courses?page=300&per_page=100\n",
      "https://hvl.instructure.com/api/v1/accounts/1/courses?page=301&per_page=100\n",
      "https://hvl.instructure.com/api/v1/accounts/1/courses?page=302&per_page=100\n",
      "https://hvl.instructure.com/api/v1/accounts/1/courses?page=303&per_page=100\n",
      "https://hvl.instructure.com/api/v1/accounts/1/courses?page=304&per_page=100\n",
      "https://hvl.instructure.com/api/v1/accounts/1/courses?page=305&per_page=100\n",
      "https://hvl.instructure.com/api/v1/accounts/1/courses?page=306&per_page=100\n",
      "https://hvl.instructure.com/api/v1/accounts/1/courses?page=307&per_page=100\n",
      "https://hvl.instructure.com/api/v1/accounts/1/courses?page=308&per_page=100\n",
      "https://hvl.instructure.com/api/v1/accounts/1/courses?page=309&per_page=100\n",
      "https://hvl.instructure.com/api/v1/accounts/1/courses?page=310&per_page=100\n",
      "https://hvl.instructure.com/api/v1/accounts/1/courses?page=311&per_page=100\n",
      "https://hvl.instructure.com/api/v1/accounts/1/courses?page=312&per_page=100\n",
      "https://hvl.instructure.com/api/v1/accounts/1/courses?page=313&per_page=100\n",
      "https://hvl.instructure.com/api/v1/accounts/1/courses?page=314&per_page=100\n",
      "https://hvl.instructure.com/api/v1/accounts/1/courses?page=315&per_page=100\n",
      "https://hvl.instructure.com/api/v1/accounts/1/courses?page=316&per_page=100\n",
      "https://hvl.instructure.com/api/v1/accounts/1/courses?page=317&per_page=100\n",
      "https://hvl.instructure.com/api/v1/accounts/1/courses?page=318&per_page=100\n",
      "https://hvl.instructure.com/api/v1/accounts/1/courses?page=319&per_page=100\n",
      "https://hvl.instructure.com/api/v1/accounts/1/courses?page=320&per_page=100\n",
      "https://hvl.instructure.com/api/v1/accounts/1/courses?page=321&per_page=100\n"
     ]
    }
   ],
   "source": [
    "dr_liste = []\n",
    "hentmeir = True\n",
    "while hentmeir:\n",
    "    respons = requests.get(url, headers=headers, params=params)\n",
    "    if 200 <= respons.status_code < 300:\n",
    "        data = respons.json()\n",
    "        # print(respons.headers)\n",
    "        hentmeir = \"next\" in respons.headers['link']\n",
    "        if hentmeir:\n",
    "            url = finn_rel(respons.headers['link'])['next']\n",
    "            print(url)   # for kontrollen sin skuld\n",
    "# Hent ut data (NB! dette vil variere frå endepunkt til endepunkt)\n",
    "        dataliste = []\n",
    "        for element in data:\n",
    "            if element['enrollment_term_id'] in terminar:\n",
    "                dataliste.append([element['id'], element['workflow_state']])\n",
    "        df = pd.DataFrame(dataliste, columns=['id', 'workflow_state'])\n",
    "        dr_liste.append(df)\n",
    "    # hentmeir = False\n",
    "# og etter at eg er ferdig å lese inn slår eg dei saman:\n",
    "alledata = pd.concat((df for df in dr_liste if not df.empty), ignore_index=True)"
   ]
  },
  {
   "cell_type": "markdown",
   "id": "714fe068",
   "metadata": {},
   "source": [
    "No vil ramma *alledata* innehalde Canvas-ID for alle emne. Så kan eg gå gjennom kvart emne og hente ut litt info:\n",
    "\n",
    "- er det nokon med \"enrollment\" lik \"teacher\"?\n",
    "- status for emnet"
   ]
  },
  {
   "cell_type": "code",
   "execution_count": 4,
   "id": "be8d9b81",
   "metadata": {},
   "outputs": [
    {
     "data": {
      "application/vnd.microsoft.datawrangler.viewer.v0+json": {
       "columns": [
        {
         "name": "index",
         "rawType": "int64",
         "type": "integer"
        },
        {
         "name": "id",
         "rawType": "int64",
         "type": "integer"
        },
        {
         "name": "workflow_state",
         "rawType": "object",
         "type": "string"
        }
       ],
       "ref": "ff0d25b6-16d7-4e32-a4d5-bac5795cd700",
       "rows": [
        [
         "0",
         "18614",
         "unpublished"
        ],
        [
         "1",
         "21909",
         "available"
        ],
        [
         "2",
         "22659",
         "unpublished"
        ],
        [
         "3",
         "22664",
         "unpublished"
        ],
        [
         "4",
         "25166",
         "available"
        ],
        [
         "5",
         "25943",
         "unpublished"
        ],
        [
         "6",
         "26608",
         "unpublished"
        ],
        [
         "7",
         "26612",
         "unpublished"
        ],
        [
         "8",
         "28487",
         "available"
        ],
        [
         "9",
         "28517",
         "available"
        ],
        [
         "10",
         "28526",
         "available"
        ],
        [
         "11",
         "28575",
         "available"
        ],
        [
         "12",
         "28695",
         "available"
        ],
        [
         "13",
         "28736",
         "available"
        ],
        [
         "14",
         "28747",
         "available"
        ],
        [
         "15",
         "28914",
         "available"
        ],
        [
         "16",
         "29030",
         "unpublished"
        ],
        [
         "17",
         "29080",
         "available"
        ],
        [
         "18",
         "29108",
         "unpublished"
        ],
        [
         "19",
         "29119",
         "unpublished"
        ],
        [
         "20",
         "29132",
         "available"
        ],
        [
         "21",
         "29137",
         "available"
        ],
        [
         "22",
         "29139",
         "unpublished"
        ],
        [
         "23",
         "29149",
         "unpublished"
        ],
        [
         "24",
         "29153",
         "unpublished"
        ],
        [
         "25",
         "29155",
         "available"
        ],
        [
         "26",
         "29160",
         "unpublished"
        ],
        [
         "27",
         "29168",
         "available"
        ],
        [
         "28",
         "29199",
         "unpublished"
        ],
        [
         "29",
         "29227",
         "available"
        ],
        [
         "30",
         "29236",
         "unpublished"
        ],
        [
         "31",
         "29361",
         "available"
        ],
        [
         "32",
         "29412",
         "unpublished"
        ],
        [
         "33",
         "29413",
         "available"
        ],
        [
         "34",
         "29439",
         "unpublished"
        ],
        [
         "35",
         "29479",
         "unpublished"
        ],
        [
         "36",
         "29481",
         "unpublished"
        ],
        [
         "37",
         "29484",
         "unpublished"
        ],
        [
         "38",
         "29486",
         "unpublished"
        ],
        [
         "39",
         "29491",
         "unpublished"
        ],
        [
         "40",
         "29493",
         "unpublished"
        ],
        [
         "41",
         "29631",
         "unpublished"
        ],
        [
         "42",
         "29635",
         "unpublished"
        ],
        [
         "43",
         "29681",
         "unpublished"
        ],
        [
         "44",
         "29683",
         "unpublished"
        ],
        [
         "45",
         "29782",
         "available"
        ],
        [
         "46",
         "29971",
         "unpublished"
        ],
        [
         "47",
         "29984",
         "unpublished"
        ],
        [
         "48",
         "30002",
         "unpublished"
        ],
        [
         "49",
         "30025",
         "unpublished"
        ]
       ],
       "shape": {
        "columns": 2,
        "rows": 466
       }
      },
      "text/html": [
       "<div>\n",
       "<style scoped>\n",
       "    .dataframe tbody tr th:only-of-type {\n",
       "        vertical-align: middle;\n",
       "    }\n",
       "\n",
       "    .dataframe tbody tr th {\n",
       "        vertical-align: top;\n",
       "    }\n",
       "\n",
       "    .dataframe thead th {\n",
       "        text-align: right;\n",
       "    }\n",
       "</style>\n",
       "<table border=\"1\" class=\"dataframe\">\n",
       "  <thead>\n",
       "    <tr style=\"text-align: right;\">\n",
       "      <th></th>\n",
       "      <th>id</th>\n",
       "      <th>workflow_state</th>\n",
       "    </tr>\n",
       "  </thead>\n",
       "  <tbody>\n",
       "    <tr>\n",
       "      <th>0</th>\n",
       "      <td>18614</td>\n",
       "      <td>unpublished</td>\n",
       "    </tr>\n",
       "    <tr>\n",
       "      <th>1</th>\n",
       "      <td>21909</td>\n",
       "      <td>available</td>\n",
       "    </tr>\n",
       "    <tr>\n",
       "      <th>2</th>\n",
       "      <td>22659</td>\n",
       "      <td>unpublished</td>\n",
       "    </tr>\n",
       "    <tr>\n",
       "      <th>3</th>\n",
       "      <td>22664</td>\n",
       "      <td>unpublished</td>\n",
       "    </tr>\n",
       "    <tr>\n",
       "      <th>4</th>\n",
       "      <td>25166</td>\n",
       "      <td>available</td>\n",
       "    </tr>\n",
       "    <tr>\n",
       "      <th>...</th>\n",
       "      <td>...</td>\n",
       "      <td>...</td>\n",
       "    </tr>\n",
       "    <tr>\n",
       "      <th>461</th>\n",
       "      <td>34139</td>\n",
       "      <td>available</td>\n",
       "    </tr>\n",
       "    <tr>\n",
       "      <th>462</th>\n",
       "      <td>34149</td>\n",
       "      <td>available</td>\n",
       "    </tr>\n",
       "    <tr>\n",
       "      <th>463</th>\n",
       "      <td>34150</td>\n",
       "      <td>unpublished</td>\n",
       "    </tr>\n",
       "    <tr>\n",
       "      <th>464</th>\n",
       "      <td>34154</td>\n",
       "      <td>unpublished</td>\n",
       "    </tr>\n",
       "    <tr>\n",
       "      <th>465</th>\n",
       "      <td>34155</td>\n",
       "      <td>available</td>\n",
       "    </tr>\n",
       "  </tbody>\n",
       "</table>\n",
       "<p>466 rows × 2 columns</p>\n",
       "</div>"
      ],
      "text/plain": [
       "        id workflow_state\n",
       "0    18614    unpublished\n",
       "1    21909      available\n",
       "2    22659    unpublished\n",
       "3    22664    unpublished\n",
       "4    25166      available\n",
       "..     ...            ...\n",
       "461  34139      available\n",
       "462  34149      available\n",
       "463  34150    unpublished\n",
       "464  34154    unpublished\n",
       "465  34155      available\n",
       "\n",
       "[466 rows x 2 columns]"
      ]
     },
     "execution_count": 4,
     "metadata": {},
     "output_type": "execute_result"
    }
   ],
   "source": [
    "alledata"
   ]
  },
  {
   "cell_type": "code",
   "execution_count": null,
   "id": "783f9573",
   "metadata": {},
   "outputs": [],
   "source": []
  }
 ],
 "metadata": {
  "kernelspec": {
   "display_name": "Python 3",
   "language": "python",
   "name": "python3"
  },
  "language_info": {
   "codemirror_mode": {
    "name": "ipython",
    "version": 3
   },
   "file_extension": ".py",
   "mimetype": "text/x-python",
   "name": "python",
   "nbconvert_exporter": "python",
   "pygments_lexer": "ipython3",
   "version": "3.13.7"
  }
 },
 "nbformat": 4,
 "nbformat_minor": 5
}
