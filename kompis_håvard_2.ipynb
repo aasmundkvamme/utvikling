{
 "cells": [
  {
   "cell_type": "code",
   "execution_count": 1,
   "metadata": {},
   "outputs": [
    {
     "name": "stdout",
     "output_type": "stream",
     "text": [
      "Filen 'output.csv' er klar!\n"
     ]
    },
    {
     "name": "stderr",
     "output_type": "stream",
     "text": [
      "C:\\Users\\AKV\\AppData\\Local\\Temp\\ipykernel_23328\\357937755.py:62: FutureWarning: Setting an item of incompatible dtype is deprecated and will raise an error in a future version of pandas. Value '' has dtype incompatible with float64, please explicitly cast to a compatible dtype first.\n",
      "  df_prosjekt.fillna(\"\", inplace=True)\n",
      "C:\\Users\\AKV\\AppData\\Local\\Temp\\ipykernel_23328\\357937755.py:63: FutureWarning: Setting an item of incompatible dtype is deprecated and will raise an error in a future version of pandas. Value '' has dtype incompatible with float64, please explicitly cast to a compatible dtype first.\n",
      "  df_publikasjon.fillna(\"\", inplace=True)\n",
      "C:\\Users\\AKV\\AppData\\Local\\Temp\\ipykernel_23328\\357937755.py:64: FutureWarning: Setting an item of incompatible dtype is deprecated and will raise an error in a future version of pandas. Value '' has dtype incompatible with float64, please explicitly cast to a compatible dtype first.\n",
      "  df_utmerkelse.fillna(\"\", inplace=True)\n"
     ]
    }
   ],
   "source": [
    "import requests\n",
    "import pandas as pd\n",
    "import os\n",
    " \n",
    "# Henter data fra API\n",
    "kompispassord = os.environ[\"kompispassord\"]\n",
    "kompisbrukar = os.environ[\"kompisbrukar\"]\n",
    "liste = [10013727, 10013736]\n",
    " \n",
    "temp = []\n",
    "for org_id in liste:\n",
    "    url = f\"https://hvl-dev.outsystemsenterprise.com/CV_API/rest/v1/HentAnsatte?Orgenhet={org_id}\"\n",
    "    resultat = requests.get(url, auth=(kompisbrukar, kompispassord))\n",
    "    temp.append(pd.DataFrame(resultat.json()))\n",
    " \n",
    "# Kombinerer alle data i én DataFrame\n",
    "df = pd.concat(df for df in temp if not df.empty).reset_index(drop=True)\n",
    " \n",
    "# Funksjon for å eksplodere JSON-lister og mappe om til riktig format\n",
    "def explode_and_rename(df, column, rename_map):\n",
    "    \"\"\" Eksploderer en JSON-kolonne og mapper om feltene \"\"\"\n",
    "    if column in df.columns:\n",
    "        df[column] = df[column].apply(lambda x: eval(x) if isinstance(x, str) else x)  # Konverter JSON-streng til liste\n",
    "        df_exp = df.explode(column).reset_index(drop=True)  # Lager en rad per element i listen\n",
    "        df_exp = pd.concat([df_exp.drop(columns=[column]), df_exp[column].apply(pd.Series)], axis=1)  # Ekspanderer JSON-objekter\n",
    "        return df_exp.rename(columns=rename_map)  # Omdøper kolonner til ønskede navn\n",
    "    else:\n",
    "        print(f\"Advarsel: Kolonnen '{column}' finnes ikke i datasettet.\")\n",
    "        return df  # Returnerer df uendret\n",
    " \n",
    "# Definerer kolonnenavnene for de forskjellige eksplosjonene\n",
    "prosjekt_map = {\n",
    "    \"tittel\": \"Prosjekt_tittel\",\n",
    "    \"rolle\": \"Prosjekt_rolle\",\n",
    "    \"eier\": \"Prosjekt_eier\",\n",
    "    \"fradato\": \"Prosjekt_fradato\",\n",
    "    \"tildato\": \"Prosjekt_tildato\",\n",
    "    \"totalbudsjett\": \"Prosjekt_totalbudsjett\"\n",
    "}\n",
    " \n",
    "publikasjon_map = {\n",
    "    \"kategori\": \"Publikasjon_kategori\",\n",
    "    \"tittel\": \"Publikasjon_tittel\",\n",
    "    \"publiseringsaar\": \"Publikasjon_publiseringsår\",\n",
    "    \"kanal\": \"Publikasjon_kanal\",\n",
    "    \"forfatter\": \"Publikasjon_forfatter\"\n",
    "}\n",
    " \n",
    "utmerkelse_map = {\n",
    "    \"tittel\": \"Utmerkelse_tittel\",\n",
    "    \"aar\": \"Utmerkelse_år\",\n",
    "    \"utsteder\": \"Utmerkelse_utsteder\",\n",
    "    \"beskrivelse\": \"Utmerkelse_beskrivelse\"\n",
    "}\n",
    " \n",
    "# Eksploderer JSON-kolonnene og mapper om kolonnenavnene\n",
    "df_prosjekt = explode_and_rename(df, \"prosjekt\", prosjekt_map)\n",
    "df_publikasjon = explode_and_rename(df, \"publikasjon\", publikasjon_map)\n",
    "df_utmerkelse = explode_and_rename(df, \"utmerkelse\", utmerkelse_map)\n",
    " \n",
    "# Setter NaN til tom streng for lesbarhet\n",
    "df_prosjekt.fillna(\"\", inplace=True)\n",
    "df_publikasjon.fillna(\"\", inplace=True)\n",
    "df_utmerkelse.fillna(\"\", inplace=True)\n",
    " \n",
    "# Kombinerer de eksploderte datasettene riktig\n",
    "df_final = pd.concat([df_prosjekt, df_publikasjon, df_utmerkelse]).reset_index(drop=True)\n",
    " \n",
    "# Lagrer til CSV for import i Power BI\n",
    "df_final.to_csv(\"output.csv\", index=False, sep=\";\")\n",
    " \n",
    "print(\"Filen 'output.csv' er klar!\")"
   ]
  }
 ],
 "metadata": {
  "kernelspec": {
   "display_name": "Python 3",
   "language": "python",
   "name": "python3"
  },
  "language_info": {
   "codemirror_mode": {
    "name": "ipython",
    "version": 3
   },
   "file_extension": ".py",
   "mimetype": "text/x-python",
   "name": "python",
   "nbconvert_exporter": "python",
   "pygments_lexer": "ipython3",
   "version": "3.12.3"
  }
 },
 "nbformat": 4,
 "nbformat_minor": 2
}
