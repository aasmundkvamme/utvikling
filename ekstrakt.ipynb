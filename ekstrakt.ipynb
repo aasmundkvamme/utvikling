{
 "cells": [
  {
   "cell_type": "code",
   "execution_count": 7,
   "metadata": {},
   "outputs": [],
   "source": [
    "import json\n",
    "\n",
    "def extract_data(data, prefix=''):\n",
    "    result = {}\n",
    "    if isinstance(data, dict):\n",
    "        for key, value in data.items():\n",
    "            new_key = f\"{prefix}{key}\" if prefix else key\n",
    "            if isinstance(value, (dict, list)):\n",
    "                result.update(extract_data(value, new_key + '.'))\n",
    "            else:\n",
    "                result[new_key] = value\n",
    "    elif isinstance(data, list):\n",
    "        for index, value in enumerate(data):\n",
    "            new_key = f\"{prefix}{index}\" if prefix else str(index)\n",
    "            if isinstance(value, (dict, list)):\n",
    "                result.update(extract_data(value, new_key + '.'))\n",
    "            else:\n",
    "                result[new_key] = value\n",
    "    return result"
   ]
  },
  {
   "cell_type": "code",
   "execution_count": 8,
   "metadata": {},
   "outputs": [
    {
     "data": {
      "text/plain": [
       "{'data.fagpersonerGittPersonlopenumre.0.aktiv': True,\n",
       " 'data.fagpersonerGittPersonlopenumre.0.id': 'MzE6MjAzLDMxOTI0',\n",
       " 'data.fagpersonerGittPersonlopenumre.0.arbeidsadresse.gate': 'Kronstad'}"
      ]
     },
     "execution_count": 8,
     "metadata": {},
     "output_type": "execute_result"
    }
   ],
   "source": [
    "resultat = {\"data\": {\"fagpersonerGittPersonlopenumre\": [{\"aktiv\": True, \"id\": \"MzE6MjAzLDMxOTI0\", \"arbeidsadresse\": {\"gate\": \"Kronstad\"}}]}}\n",
    "data = extract_data(resultat)\n",
    "# data = extract_data(json.loads(resultat))\n",
    "data"
   ]
  }
 ],
 "metadata": {
  "kernelspec": {
   "display_name": "Python 3",
   "language": "python",
   "name": "python3"
  },
  "language_info": {
   "codemirror_mode": {
    "name": "ipython",
    "version": 3
   },
   "file_extension": ".py",
   "mimetype": "text/x-python",
   "name": "python",
   "nbconvert_exporter": "python",
   "pygments_lexer": "ipython3",
   "version": "3.13.1"
  }
 },
 "nbformat": 4,
 "nbformat_minor": 2
}
