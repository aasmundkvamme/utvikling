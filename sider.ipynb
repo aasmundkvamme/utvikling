{
 "cells": [
  {
   "cell_type": "code",
   "execution_count": 1,
   "metadata": {},
   "outputs": [],
   "source": [
    "import pandas as pd\n",
    "import os\n",
    "import requests\n",
    "FSbrukar = os.environ[\"FSbrukar\"]\n",
    "FSpassord = os.environ[\"FSpassord\"]\n",
    "\n",
    "parametreCanvas = {'per_page': '100'}\n",
    "hodeCanvas = {'Authorization': 'Bearer ' + os.environ[\"tokenCanvas\"]}\n",
    "\n",
    "data = pd.read_csv('sider.csv', sep=',')"
   ]
  },
  {
   "cell_type": "code",
   "execution_count": 2,
   "metadata": {},
   "outputs": [],
   "source": [
    "def query_FS_graphql(query, variable):\n",
    "    hode = {\n",
    "        'Accept': 'application/json;version=1',\n",
    "        \"Feature-Flags\": \"beta, experimental\"\n",
    "    }\n",
    "    GraphQLurl = \"https://api.fellesstudentsystem.no/graphql/\"\n",
    "    svar = requests.post(\n",
    "        GraphQLurl, \n",
    "        json = {\n",
    "            'query': query,\n",
    "            'variables': variable\n",
    "        },\n",
    "        headers=hode,\n",
    "        auth=(FSbrukar, FSpassord))\n",
    "    if 200 <= svar.status_code < 300:\n",
    "        return svar.json()\n",
    "    else:\n",
    "        return {}"
   ]
  },
  {
   "cell_type": "code",
   "execution_count": 3,
   "metadata": {},
   "outputs": [],
   "source": [
    "query = \"\"\"\n",
    "    query MyQuery($emnekode: [String!]) {\n",
    "    emner(\n",
    "        filter: {eierInstitusjonsnummer: \"203\", emnekoder: $emnekode, ikkeUtloptITermin: {arstall: 2025, terminbetegnelse: VAR}}\n",
    "    )  {\n",
    "    nodes {\n",
    "      personroller(filter: {erAktiv: true}) {\n",
    "        fsRolle {\n",
    "          navn {\n",
    "            publiseringsnavn\n",
    "          }\n",
    "          erAktiv\n",
    "        }\n",
    "        fagperson {\n",
    "          navn {\n",
    "            etternavn\n",
    "            fornavn\n",
    "          }\n",
    "          feideBruker\n",
    "        }\n",
    "        emne {\n",
    "          navnAlleSprak {\n",
    "            nn\n",
    "          }\n",
    "        }\n",
    "      }\n",
    "    }\n",
    "  }\n",
    "}\n",
    "    \"\"\""
   ]
  },
  {
   "cell_type": "code",
   "execution_count": 4,
   "metadata": {},
   "outputs": [],
   "source": [
    "data['emne'] = data['index'].str.split('/', expand=True)[2]"
   ]
  },
  {
   "cell_type": "code",
   "execution_count": 5,
   "metadata": {},
   "outputs": [
    {
     "name": "stdout",
     "output_type": "stream",
     "text": [
      "BIO207 Ekstern praksis 1: Anita Ryningen, ary@hvl.no\n",
      "VPD200 Vernepleierens helsefaglege kompetanse: Agnes Merete Fotland, agnesf@hvl.no\n",
      "ENG701 Engelsk lingvistikk 2: Andre Storto, ansto@hvl.no\n",
      "FYS130 Grunnleggjande fysiologi : Maria Nordheim Alme, mana@hvl.no\n",
      "GE483 Climate Change: Mette Kusk Gillespie, metteri@hvl.no\n",
      "REAL111 Fysikk : Kyrre Skjerdal, kskj@hvl.no\n",
      "VPL130 Miljøterapeutisk arbeid : Astrid Steffensen, asst@hvl.no\n",
      "MAMET1HE Vitskapsteori, etikk og metode: Anne-Siri Fismen, asfi@hvl.no\n",
      "ELE142 Elektrofagleg basis 2: Bjarte Pollen, bjartepo@hvl.no\n"
     ]
    }
   ],
   "source": [
    "for s in data['emne'].value_counts().index[0:10]:\n",
    "    canvasurl = f\"https://hvl.instructure.com/api/v1/courses/{s}\"\n",
    "    responsCanvas = requests.get(canvasurl, headers=hodeCanvas, params=parametreCanvas)\n",
    "    if 200 <= responsCanvas.status_code < 300:\n",
    "        dataCanvas = responsCanvas.json()\n",
    "        if dataCanvas['sis_course_id'][0:1] == \"U\":\n",
    "            emnekode = dataCanvas['sis_course_id'].split('_')[2]\n",
    "            variable = {\"emnekode\": emnekode}\n",
    "            svar = query_FS_graphql(query, variable)\n",
    "            namn = svar['data']['emner']['nodes'][0]['personroller'][0]['fagperson']['navn']['fornavn'] + ' ' + svar['data']['emner']['nodes'][0]['personroller'][0]['fagperson']['navn']['etternavn']\n",
    "            brukarnamn = svar['data']['emner']['nodes'][0]['personroller'][0]['fagperson']['feideBruker']\n",
    "            emnenamn = svar['data']['emner']['nodes'][0]['personroller'][0]['emne']['navnAlleSprak']['nn']\n",
    "            print(f\"{emnekode} {emnenamn}: {namn}, {brukarnamn}\")"
   ]
  },
  {
   "cell_type": "code",
   "execution_count": 6,
   "metadata": {},
   "outputs": [
    {
     "data": {
      "text/html": [
       "<div>\n",
       "<style scoped>\n",
       "    .dataframe tbody tr th:only-of-type {\n",
       "        vertical-align: middle;\n",
       "    }\n",
       "\n",
       "    .dataframe tbody tr th {\n",
       "        vertical-align: top;\n",
       "    }\n",
       "\n",
       "    .dataframe thead th {\n",
       "        text-align: right;\n",
       "    }\n",
       "</style>\n",
       "<table border=\"1\" class=\"dataframe\">\n",
       "  <thead>\n",
       "    <tr style=\"text-align: right;\">\n",
       "      <th></th>\n",
       "      <th>index</th>\n",
       "      <th>frekvens</th>\n",
       "      <th>emne</th>\n",
       "    </tr>\n",
       "  </thead>\n",
       "  <tbody>\n",
       "    <tr>\n",
       "      <th>0</th>\n",
       "      <td>/courses/29065/pages/world-climate-simulation</td>\n",
       "      <td>62</td>\n",
       "      <td>29065</td>\n",
       "    </tr>\n",
       "    <tr>\n",
       "      <th>1</th>\n",
       "      <td>/courses/30211/pages/mal-for-oppgaver-i-praksi...</td>\n",
       "      <td>50</td>\n",
       "      <td>30211</td>\n",
       "    </tr>\n",
       "    <tr>\n",
       "      <th>2</th>\n",
       "      <td>/courses/28875/pages/torsdag-27-dot-2-f12-sirk...</td>\n",
       "      <td>48</td>\n",
       "      <td>28875</td>\n",
       "    </tr>\n",
       "    <tr>\n",
       "      <th>3</th>\n",
       "      <td>/courses/28114/pages/uke-9-kap-4-dot-1-4-dot-3...</td>\n",
       "      <td>48</td>\n",
       "      <td>28114</td>\n",
       "    </tr>\n",
       "    <tr>\n",
       "      <th>4</th>\n",
       "      <td>/courses/28959/pages/farmakologi-oppgaver-2?mo...</td>\n",
       "      <td>40</td>\n",
       "      <td>28959</td>\n",
       "    </tr>\n",
       "    <tr>\n",
       "      <th>...</th>\n",
       "      <td>...</td>\n",
       "      <td>...</td>\n",
       "      <td>...</td>\n",
       "    </tr>\n",
       "    <tr>\n",
       "      <th>2380</th>\n",
       "      <td>/courses/28709/pages/veke-4-og-5-teorem-r-and-...</td>\n",
       "      <td>1</td>\n",
       "      <td>28709</td>\n",
       "    </tr>\n",
       "    <tr>\n",
       "      <th>2381</th>\n",
       "      <td>/courses/28525/pages/laeringsmal-og-oppgaver-f...</td>\n",
       "      <td>1</td>\n",
       "      <td>28525</td>\n",
       "    </tr>\n",
       "    <tr>\n",
       "      <th>2382</th>\n",
       "      <td>/courses/30100/pages/aktivitet-sovn-og-kvile-2...</td>\n",
       "      <td>1</td>\n",
       "      <td>30100</td>\n",
       "    </tr>\n",
       "    <tr>\n",
       "      <th>2383</th>\n",
       "      <td>/courses/29872/pages/vekselvirkningsprosesser-...</td>\n",
       "      <td>1</td>\n",
       "      <td>29872</td>\n",
       "    </tr>\n",
       "    <tr>\n",
       "      <th>2384</th>\n",
       "      <td>/courses/29610/pages/course-reading-list?modul...</td>\n",
       "      <td>1</td>\n",
       "      <td>29610</td>\n",
       "    </tr>\n",
       "  </tbody>\n",
       "</table>\n",
       "<p>2385 rows × 3 columns</p>\n",
       "</div>"
      ],
      "text/plain": [
       "                                                  index  frekvens   emne\n",
       "0         /courses/29065/pages/world-climate-simulation        62  29065\n",
       "1     /courses/30211/pages/mal-for-oppgaver-i-praksi...        50  30211\n",
       "2     /courses/28875/pages/torsdag-27-dot-2-f12-sirk...        48  28875\n",
       "3     /courses/28114/pages/uke-9-kap-4-dot-1-4-dot-3...        48  28114\n",
       "4     /courses/28959/pages/farmakologi-oppgaver-2?mo...        40  28959\n",
       "...                                                 ...       ...    ...\n",
       "2380  /courses/28709/pages/veke-4-og-5-teorem-r-and-...         1  28709\n",
       "2381  /courses/28525/pages/laeringsmal-og-oppgaver-f...         1  28525\n",
       "2382  /courses/30100/pages/aktivitet-sovn-og-kvile-2...         1  30100\n",
       "2383  /courses/29872/pages/vekselvirkningsprosesser-...         1  29872\n",
       "2384  /courses/29610/pages/course-reading-list?modul...         1  29610\n",
       "\n",
       "[2385 rows x 3 columns]"
      ]
     },
     "execution_count": 6,
     "metadata": {},
     "output_type": "execute_result"
    }
   ],
   "source": [
    "data"
   ]
  },
  {
   "cell_type": "code",
   "execution_count": 12,
   "metadata": {},
   "outputs": [
    {
     "data": {
      "text/plain": [
       "93"
      ]
     },
     "execution_count": 12,
     "metadata": {},
     "output_type": "execute_result"
    }
   ],
   "source": [
    "data[data['emne']==\"28490\"].count()['frekvens']"
   ]
  },
  {
   "cell_type": "code",
   "execution_count": null,
   "metadata": {},
   "outputs": [],
   "source": []
  }
 ],
 "metadata": {
  "kernelspec": {
   "display_name": "Python 3",
   "language": "python",
   "name": "python3"
  },
  "language_info": {
   "codemirror_mode": {
    "name": "ipython",
    "version": 3
   },
   "file_extension": ".py",
   "mimetype": "text/x-python",
   "name": "python",
   "nbconvert_exporter": "python",
   "pygments_lexer": "ipython3",
   "version": "3.12.3"
  }
 },
 "nbformat": 4,
 "nbformat_minor": 2
}
