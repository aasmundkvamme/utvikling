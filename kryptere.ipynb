{
 "cells": [
  {
   "cell_type": "code",
   "execution_count": 1,
   "metadata": {},
   "outputs": [
    {
     "name": "stdout",
     "output_type": "stream",
     "text": [
      "a25ba1abb62f385e6795bcb8ca10bce4e7843c968853f455ad027978f0d7c79d\n"
     ]
    }
   ],
   "source": [
    "import hashlib\n",
    "\n",
    "user_id = 12345\n",
    "string_to_hash = \"hello world\"\n",
    "\n",
    "# Combine the string and user ID into a single string\n",
    "combined_string = f\"{string_to_hash}{user_id}\"\n",
    "\n",
    "# Create a new SHA-256 hash object\n",
    "hash_object = hashlib.sha256()\n",
    "\n",
    "# Update the hash object with the combined string\n",
    "hash_object.update(combined_string.encode('utf-8'))\n",
    "\n",
    "# Get the hashed value as a hexadecimal string\n",
    "hashed_value = hash_object.hexdigest()\n",
    "\n",
    "print(hashed_value)\n"
   ]
  },
  {
   "cell_type": "code",
   "execution_count": 4,
   "metadata": {},
   "outputs": [
    {
     "name": "stdout",
     "output_type": "stream",
     "text": [
      "7794fe3baa17902246474aeb4c6b31ea5b65d29a26b1ba849364d9709e32ef35\n",
      "3a9a6301a2a6202ba5c443e3ca7a2a0fa5e19b38e94324c197eea7ed39e41f98\n",
      "1ec4dbcc62e8b8f93cf900576bef3f8bb8031bab6e387e7898365b8cbc4048b0\n",
      "7794fe3baa17902246474aeb4c6b31ea5b65d29a26b1ba849364d9709e32ef35\n",
      "3a9a6301a2a6202ba5c443e3ca7a2a0fa5e19b38e94324c197eea7ed39e41f98\n",
      "1ec4dbcc62e8b8f93cf900576bef3f8bb8031bab6e387e7898365b8cbc4048b0\n"
     ]
    }
   ],
   "source": [
    "def kryptert(streng):\n",
    "    hemmelighet = \"Kronstad\"\n",
    "    hash_objekt = hashlib.sha256()\n",
    "    hash_objekt.update(f\"{hemmelighet}{streng}\".encode('utf-8'))\n",
    "    hashet_verdi = hash_objekt.hexdigest()\n",
    "    return hashet_verdi\n",
    "\n",
    "for i in ['a','b','c']:\n",
    "    print(kryptert(i))\n",
    "\n",
    "for j in ['a','b','c']:\n",
    "    print(kryptert(j))\n",
    "\n"
   ]
  },
  {
   "cell_type": "code",
   "execution_count": 9,
   "metadata": {},
   "outputs": [
    {
     "data": {
      "text/plain": [
       "b'\\xa2[\\xa1\\xab\\xb6/8^g\\x95\\xbc\\xb8\\xca\\x10\\xbc\\xe4\\xe7\\x84<\\x96\\x88S\\xf4U\\xad\\x02yx\\xf0\\xd7\\xc7\\x9d'"
      ]
     },
     "execution_count": 9,
     "metadata": {},
     "output_type": "execute_result"
    }
   ],
   "source": []
  }
 ],
 "metadata": {
  "kernelspec": {
   "display_name": "Python 3",
   "language": "python",
   "name": "python3"
  },
  "language_info": {
   "codemirror_mode": {
    "name": "ipython",
    "version": 3
   },
   "file_extension": ".py",
   "mimetype": "text/x-python",
   "name": "python",
   "nbconvert_exporter": "python",
   "pygments_lexer": "ipython3",
   "version": "3.10.12"
  }
 },
 "nbformat": 4,
 "nbformat_minor": 2
}
