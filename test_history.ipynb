{
 "cells": [
  {
   "cell_type": "markdown",
   "metadata": {},
   "source": [
    "# Lese web_logs som Canvas_history\n",
    "Først importerer eg alle nødvendige funksjonar:"
   ]
  },
  {
   "cell_type": "code",
   "execution_count": null,
   "metadata": {},
   "outputs": [],
   "source": [
    "import akvut\n",
    "import pandas as pd"
   ]
  },
  {
   "cell_type": "markdown",
   "metadata": {},
   "source": [
    "Så les eg `web_logs` frå det siste døgeret (det tok 5'56.7''):"
   ]
  },
  {
   "cell_type": "code",
   "execution_count": 3,
   "metadata": {},
   "outputs": [
    {
     "name": "stderr",
     "output_type": "stream",
     "text": [
      "2025-02-13 12:13:18,652 - my_logger - INFO - Henta access_token OK.\n",
      "2025-02-13 12:13:18,668 - my_logger - INFO - payload er {\"format\": \"csv\", \"since\": \"2025-02-12T12:13:18.668568Z\"}\n",
      "2025-02-13 12:13:18,670 - my_logger - INFO - Sender (inkrementel) spørjing til https://api-gateway.instructure.com/dap/query/canvas_logs/table/web_logs/data\n"
     ]
    },
    {
     "name": "stdout",
     "output_type": "stream",
     "text": [
      "Har ikkje henta frå Azure\n"
     ]
    },
    {
     "name": "stderr",
     "output_type": "stream",
     "text": [
      "2025-02-13 12:13:19,873 - my_logger - INFO - Sjekker status på jobb 5183192b-3f48-4955-ada6-f4d22da13c1a\n",
      "2025-02-13 12:13:25,509 - my_logger - INFO - Sjekker status på jobb 5183192b-3f48-4955-ada6-f4d22da13c1a\n",
      "2025-02-13 12:13:30,970 - my_logger - INFO - Sjekker status på jobb 5183192b-3f48-4955-ada6-f4d22da13c1a\n",
      "2025-02-13 12:13:36,570 - my_logger - INFO - Sjekker status på jobb 5183192b-3f48-4955-ada6-f4d22da13c1a\n",
      "2025-02-13 12:13:42,055 - my_logger - INFO - Sjekker status på jobb 5183192b-3f48-4955-ada6-f4d22da13c1a\n",
      "2025-02-13 12:13:47,555 - my_logger - INFO - Sjekker status på jobb 5183192b-3f48-4955-ada6-f4d22da13c1a\n",
      "2025-02-13 12:13:53,011 - my_logger - INFO - Sjekker status på jobb 5183192b-3f48-4955-ada6-f4d22da13c1a\n",
      "2025-02-13 12:13:58,508 - my_logger - INFO - Sjekker status på jobb 5183192b-3f48-4955-ada6-f4d22da13c1a\n",
      "2025-02-13 12:14:03,952 - my_logger - INFO - Sjekker status på jobb 5183192b-3f48-4955-ada6-f4d22da13c1a\n",
      "2025-02-13 12:14:09,407 - my_logger - INFO - Sjekker status på jobb 5183192b-3f48-4955-ada6-f4d22da13c1a\n",
      "2025-02-13 12:14:14,868 - my_logger - INFO - Sjekker status på jobb 5183192b-3f48-4955-ada6-f4d22da13c1a\n",
      "2025-02-13 12:14:20,330 - my_logger - INFO - Sjekker status på jobb 5183192b-3f48-4955-ada6-f4d22da13c1a\n",
      "2025-02-13 12:14:25,792 - my_logger - INFO - Sjekker status på jobb 5183192b-3f48-4955-ada6-f4d22da13c1a\n",
      "2025-02-13 12:14:31,247 - my_logger - INFO - Sjekker status på jobb 5183192b-3f48-4955-ada6-f4d22da13c1a\n",
      "2025-02-13 12:14:36,709 - my_logger - INFO - Sjekker status på jobb 5183192b-3f48-4955-ada6-f4d22da13c1a\n",
      "2025-02-13 12:14:42,165 - my_logger - INFO - Sjekker status på jobb 5183192b-3f48-4955-ada6-f4d22da13c1a\n",
      "2025-02-13 12:14:47,607 - my_logger - INFO - Sjekker status på jobb 5183192b-3f48-4955-ada6-f4d22da13c1a\n",
      "2025-02-13 12:14:53,068 - my_logger - INFO - Sjekker status på jobb 5183192b-3f48-4955-ada6-f4d22da13c1a\n",
      "2025-02-13 12:14:58,548 - my_logger - INFO - Sjekker status på jobb 5183192b-3f48-4955-ada6-f4d22da13c1a\n",
      "2025-02-13 12:15:04,006 - my_logger - INFO - Sjekker status på jobb 5183192b-3f48-4955-ada6-f4d22da13c1a\n",
      "2025-02-13 12:15:09,528 - my_logger - INFO - Sjekker status på jobb 5183192b-3f48-4955-ada6-f4d22da13c1a\n",
      "2025-02-13 12:15:14,966 - my_logger - INFO - Sjekker status på jobb 5183192b-3f48-4955-ada6-f4d22da13c1a\n",
      "2025-02-13 12:15:20,625 - my_logger - INFO - Sjekker status på jobb 5183192b-3f48-4955-ada6-f4d22da13c1a\n",
      "2025-02-13 12:15:26,117 - my_logger - INFO - Sjekker status på jobb 5183192b-3f48-4955-ada6-f4d22da13c1a\n",
      "2025-02-13 12:15:31,574 - my_logger - INFO - Sjekker status på jobb 5183192b-3f48-4955-ada6-f4d22da13c1a\n",
      "2025-02-13 12:15:37,040 - my_logger - INFO - Sjekker status på jobb 5183192b-3f48-4955-ada6-f4d22da13c1a\n",
      "2025-02-13 12:15:42,488 - my_logger - INFO - Sjekker status på jobb 5183192b-3f48-4955-ada6-f4d22da13c1a\n",
      "2025-02-13 12:15:47,949 - my_logger - INFO - Sjekker status på jobb 5183192b-3f48-4955-ada6-f4d22da13c1a\n",
      "2025-02-13 12:15:53,448 - my_logger - INFO - Sjekker status på jobb 5183192b-3f48-4955-ada6-f4d22da13c1a\n",
      "2025-02-13 12:15:59,069 - my_logger - INFO - Sjekker status på jobb 5183192b-3f48-4955-ada6-f4d22da13c1a\n",
      "2025-02-13 12:16:04,598 - my_logger - INFO - Sjekker status på jobb 5183192b-3f48-4955-ada6-f4d22da13c1a\n",
      "2025-02-13 12:16:10,066 - my_logger - INFO - Sjekker status på jobb 5183192b-3f48-4955-ada6-f4d22da13c1a\n",
      "2025-02-13 12:16:15,522 - my_logger - INFO - Sjekker status på jobb 5183192b-3f48-4955-ada6-f4d22da13c1a\n",
      "2025-02-13 12:16:20,985 - my_logger - INFO - Sjekker status på jobb 5183192b-3f48-4955-ada6-f4d22da13c1a\n",
      "2025-02-13 12:16:26,475 - my_logger - INFO - Sjekker status på jobb 5183192b-3f48-4955-ada6-f4d22da13c1a\n",
      "2025-02-13 12:16:31,936 - my_logger - INFO - Sjekker status på jobb 5183192b-3f48-4955-ada6-f4d22da13c1a\n",
      "2025-02-13 12:16:37,373 - my_logger - INFO - Sjekker status på jobb 5183192b-3f48-4955-ada6-f4d22da13c1a\n",
      "2025-02-13 12:16:42,855 - my_logger - INFO - Sjekker status på jobb 5183192b-3f48-4955-ada6-f4d22da13c1a\n",
      "2025-02-13 12:16:48,316 - my_logger - INFO - Sjekker status på jobb 5183192b-3f48-4955-ada6-f4d22da13c1a\n",
      "2025-02-13 12:16:53,835 - my_logger - INFO - Sjekker status på jobb 5183192b-3f48-4955-ada6-f4d22da13c1a\n",
      "2025-02-13 12:16:59,275 - my_logger - INFO - Sjekker status på jobb 5183192b-3f48-4955-ada6-f4d22da13c1a\n",
      "2025-02-13 12:17:04,726 - my_logger - INFO - Sjekker status på jobb 5183192b-3f48-4955-ada6-f4d22da13c1a\n",
      "2025-02-13 12:17:10,172 - my_logger - INFO - Sjekker status på jobb 5183192b-3f48-4955-ada6-f4d22da13c1a\n",
      "2025-02-13 12:17:15,614 - my_logger - INFO - Sjekker status på jobb 5183192b-3f48-4955-ada6-f4d22da13c1a\n",
      "2025-02-13 12:17:21,073 - my_logger - INFO - Sjekker status på jobb 5183192b-3f48-4955-ada6-f4d22da13c1a\n",
      "2025-02-13 12:17:26,636 - my_logger - INFO - Sjekker status på jobb 5183192b-3f48-4955-ada6-f4d22da13c1a\n",
      "2025-02-13 12:17:32,054 - my_logger - INFO - Sjekker status på jobb 5183192b-3f48-4955-ada6-f4d22da13c1a\n",
      "2025-02-13 12:17:37,497 - my_logger - INFO - Sjekker status på jobb 5183192b-3f48-4955-ada6-f4d22da13c1a\n",
      "2025-02-13 12:17:42,953 - my_logger - INFO - Sjekker status på jobb 5183192b-3f48-4955-ada6-f4d22da13c1a\n",
      "2025-02-13 12:17:48,414 - my_logger - INFO - Sjekker status på jobb 5183192b-3f48-4955-ada6-f4d22da13c1a\n",
      "2025-02-13 12:17:53,886 - my_logger - INFO - Sjekker status på jobb 5183192b-3f48-4955-ada6-f4d22da13c1a\n",
      "2025-02-13 12:17:59,336 - my_logger - INFO - Sjekker status på jobb 5183192b-3f48-4955-ada6-f4d22da13c1a\n",
      "2025-02-13 12:18:04,793 - my_logger - INFO - Sjekker status på jobb 5183192b-3f48-4955-ada6-f4d22da13c1a\n",
      "2025-02-13 12:18:10,273 - my_logger - INFO - Sjekker status på jobb 5183192b-3f48-4955-ada6-f4d22da13c1a\n",
      "2025-02-13 12:18:15,754 - my_logger - INFO - Sjekker status på jobb 5183192b-3f48-4955-ada6-f4d22da13c1a\n",
      "2025-02-13 12:18:21,275 - my_logger - INFO - Status oppdatert\n",
      "2025-02-13 12:18:21,276 - my_logger - INFO - Totalt for sjekk_status: 302.60752189999994\n",
      "2025-02-13 12:18:21,278 - my_logger - INFO - Hentar datafil nr. 0\n",
      "2025-02-13 12:18:37,555 - my_logger - INFO - Hentar datafil nr. 1\n",
      "2025-02-13 12:19:14,498 - my_logger - INFO - Totalt for hent_filar: 53.219536999999946\n"
     ]
    },
    {
     "name": "stdout",
     "output_type": "stream",
     "text": [
      "Feil ved opplasting av sist oppdatert: ('IM002', '[IM002] [Microsoft][ODBC Driver Manager] Data source name not found and no default driver specified (0) (SQLDriverConnect); [IM002] [Microsoft][ODBC Driver Manager] Invalid connection string attribute (0)')\n",
      "<class 'pandas.core.frame.DataFrame'>\n",
      "Index: 2193350 entries, 0 to 1703527\n",
      "Data columns (total 25 columns):\n",
      " #   Column                              Dtype \n",
      "---  ------                              ----- \n",
      " 0   key.id                              object\n",
      " 1   value.timestamp                     object\n",
      " 2   value.user_id                       object\n",
      " 3   value.real_user_id                  object\n",
      " 4   value.course_id                     object\n",
      " 5   value.quiz_id                       object\n",
      " 6   value.discussion_id                 object\n",
      " 7   value.conversation_id               object\n",
      " 8   value.assignment_id                 object\n",
      " 9   value.url                           object\n",
      " 10  value.http_method                   object\n",
      " 11  value.http_status                   object\n",
      " 12  value.http_version                  object\n",
      " 13  value.remote_ip                     object\n",
      " 14  value.interaction_micros            object\n",
      " 15  value.web_application_controller    object\n",
      " 16  value.web_application_action        object\n",
      " 17  value.web_application_context_type  object\n",
      " 18  value.web_application_context_id    object\n",
      " 19  value.session_id                    object\n",
      " 20  value.developer_key_id              object\n",
      " 21  value.participated                  object\n",
      " 22  value.user_agent                    object\n",
      " 23  meta.ts                             object\n",
      " 24  meta.action                         object\n",
      "dtypes: object(25)\n",
      "memory usage: 435.1+ MB\n",
      "None\n"
     ]
    }
   ],
   "source": [
    "\n",
    "logger = akvut.lag_logger('timer.log')\n",
    "data = akvut.les_web_logs(logger)\n",
    "print(data.info())\n"
   ]
  },
  {
   "cell_type": "markdown",
   "metadata": {},
   "source": [
    "Når eg les `web_logs` lagrer eg rådata i ei fil (`ny_history_alle.csv`). Men eg kan no sende desse vidare til nye rutiner der eg henter ut andre typer data. \n",
    "\n",
    "Litt usikker på om det er rett utval eg gjer her."
   ]
  },
  {
   "cell_type": "code",
   "execution_count": 4,
   "metadata": {},
   "outputs": [
    {
     "name": "stderr",
     "output_type": "stream",
     "text": [
      "2025-02-13 12:20:02,531 - my_logger - INFO - Skriv 2193350 linjer i ny_history_alle.csv (som test)\n",
      "2025-02-13 12:22:26,232 - my_logger - INFO - Antall linjer før reduksjon: 2193350\n",
      "2025-02-13 12:22:26,458 - my_logger - INFO - Fjerner linjer med api\n",
      "2025-02-13 12:22:27,994 - my_logger - INFO - Fjerner linjer med retrieve\n",
      "2025-02-13 12:22:34,744 - my_logger - INFO - Antall linjer etter reduksjon: 340777\n"
     ]
    }
   ],
   "source": [
    "akvut.ny_history(data, logger)"
   ]
  },
  {
   "cell_type": "markdown",
   "metadata": {},
   "source": [
    "## Kven opptrer som kven\n",
    "Eg prøver å lage statistikk over kven som opptrer som kven. Her har eg `user_id` på dei mest vanlege superbrukarane, og så kan eg lage ei liste over \n",
    "\n",
    "- kven dei har opptrådd som\n",
    "- kor mange ganger dei har opptredd\n",
    "\n",
    "NB! Det er mange av desse som er \"Studentvising\", slik at det er mange \"user_id\" som ikkje finst.\n"
   ]
  },
  {
   "cell_type": "code",
   "execution_count": 5,
   "metadata": {},
   "outputs": [
    {
     "name": "stdout",
     "output_type": "stream",
     "text": [
      "Administrator: 2916 (Aasmund)\n",
      "106420: 148\n",
      "110226: 27\n",
      "109587: 12\n",
      "91290: 3\n",
      "69294: 2\n",
      "106055: 2\n",
      "106968: 2\n",
      "105587: 2\n",
      "64804: 1\n",
      "101453: 1\n"
     ]
    }
   ],
   "source": [
    "alias = data[~data['value.real_user_id'].isnull()]\n",
    "adm_namn = {'2916': 'Aasmund', '12353': 'Johan', '3861': 'Casper', '3990': 'Dag Ove', '26737': 'Hege', '97393': 'Henrik', '35965': 'Jan Erik', '14186': 'Andreas Senneset Hove', '6': 'Ivar', '1703': 'Terje'}\n",
    "adm_liste = []\n",
    "for adm in [\"1703\", \"2916\", \"12353\", \"97393\", \"3861\", \"14186\", \"35965\", \"98283\", \"5036\", \"6\", \"86785\", \"26737\", \"3990\"]:\n",
    "    adm_liste.append({'user': adm, 'count': alias[alias['value.real_user_id'] == adm]['value.user_id'].value_counts()})\n",
    "for a in adm_liste:\n",
    "    if len(a['count']) > 0:\n",
    "        print(f\"Administrator: {a['user']} ({adm_namn[a['user']]})\")\n",
    "        for index, item in a['count'].items():\n",
    "            print(f\"{index}: {item}\")\n"
   ]
  },
  {
   "cell_type": "markdown",
   "metadata": {},
   "source": [
    "## Data (til history)\n",
    "Så til det eg eigentleg skulle gjere: hente ut data til U4-prosjektet. Det er fleire krav:\n",
    "1. Feltet `user_id` må innehalde noko\n",
    "2. Feltet `value.http_status` skal være `200`\n",
    "3. Feltet `value.url` skal ikkje starte på \"/api/\"\n",
    "4. Feltet `value.url` skal ikkje innehalde \"preview\"\n",
    "\n",
    "4. I feltet `value.web_application_action` skal eg ta vekk alle som er:\n",
    " - blanke\n",
    " - \"content_tag_assignment_data\"\n",
    " - \"progressions\"\n",
    " - \"backup\""
   ]
  },
  {
   "cell_type": "code",
   "execution_count": 6,
   "metadata": {},
   "outputs": [],
   "source": [
    "temp = data[(data[\"value.user_id\"].notnull()) & (data[\"value.http_status\"].str.startswith(\"2\")) & (~data[\"value.url\"].str.startswith(\"/api/\")) & (~data[\"value.url\"].str.contains(\"preview\"))]\n",
    "utval = temp[(~temp['value.web_application_action'].isin(['content_tag_assignment_data', 'progressions', 'backup']))]\n",
    "utval.info()"
   ]
  },
  {
   "cell_type": "markdown",
   "metadata": {},
   "source": [
    "Eg vil sjå litt nærare på `timestamp`:"
   ]
  },
  {
   "cell_type": "code",
   "execution_count": 9,
   "metadata": {},
   "outputs": [
    {
     "data": {
      "text/plain": [
       "0          2025-02-12T14:00:02.995Z\n",
       "9          2025-02-12T14:00:07.027Z\n",
       "15         2025-02-12T14:00:08.272Z\n",
       "20         2025-02-12T14:00:08.821Z\n",
       "40         2025-02-12T14:00:13.398Z\n",
       "                     ...           \n",
       "1703487    2025-02-13T02:04:09.374Z\n",
       "1703492    2025-02-13T02:04:13.621Z\n",
       "1703493    2025-02-13T02:04:15.684Z\n",
       "1703517    2025-02-13T02:04:39.371Z\n",
       "1703520    2025-02-13T02:04:49.946Z\n",
       "Name: value.timestamp, Length: 215908, dtype: object"
      ]
     },
     "execution_count": 9,
     "metadata": {},
     "output_type": "execute_result"
    }
   ],
   "source": [
    "utval['value.timestamp']"
   ]
  },
  {
   "cell_type": "code",
   "execution_count": 7,
   "metadata": {},
   "outputs": [
    {
     "data": {
      "text/plain": [
       "value.web_application_action\n",
       "session_token                60038\n",
       "show                         41502\n",
       "user_dashboard               27232\n",
       "index                        17267\n",
       "web_app_manifest             17071\n",
       "                             ...  \n",
       "final_grade_overrides            1\n",
       "mobile_login_qr_code             1\n",
       "reorder_assignments              1\n",
       "account_calendar_settings        1\n",
       "confirm                          1\n",
       "Name: count, Length: 83, dtype: int64"
      ]
     },
     "execution_count": 7,
     "metadata": {},
     "output_type": "execute_result"
    }
   ],
   "source": [
    "utval['value.web_application_action'].value_counts()"
   ]
  },
  {
   "cell_type": "markdown",
   "metadata": {},
   "source": [
    "Det er litt usikkert kva vi skal bruke det til, men eg kan sende data til Håvard og be han plukke ut. "
   ]
  },
  {
   "cell_type": "code",
   "execution_count": 10,
   "metadata": {},
   "outputs": [],
   "source": [
    "utval.to_csv(\"history_alle.csv\")"
   ]
  },
  {
   "cell_type": "markdown",
   "metadata": {},
   "source": [
    "Eg kan kanskje sende berre dei som er interessante (håper eg treff på utvalet):"
   ]
  },
  {
   "cell_type": "code",
   "execution_count": 12,
   "metadata": {},
   "outputs": [],
   "source": [
    "redusert_utval = utval[['value.timestamp', 'value.user_id', 'value.course_id', 'value.url', 'value.web_application_controller', 'value.web_application_action', 'value.web_application_context_type']]\n"
   ]
  },
  {
   "cell_type": "code",
   "execution_count": 13,
   "metadata": {},
   "outputs": [
    {
     "name": "stderr",
     "output_type": "stream",
     "text": [
      "C:\\Users\\AKV\\AppData\\Local\\Temp\\ipykernel_15516\\2458858629.py:1: SettingWithCopyWarning: \n",
      "A value is trying to be set on a copy of a slice from a DataFrame.\n",
      "Try using .loc[row_indexer,col_indexer] = value instead\n",
      "\n",
      "See the caveats in the documentation: https://pandas.pydata.org/pandas-docs/stable/user_guide/indexing.html#returning-a-view-versus-a-copy\n",
      "  redusert_utval['dato'] = redusert_utval['value.timestamp'].apply(lambda x: x[0:10])\n"
     ]
    }
   ],
   "source": [
    "redusert_utval['dato'] = redusert_utval['value.timestamp'].apply(lambda x: x[0:10])"
   ]
  },
  {
   "cell_type": "code",
   "execution_count": 14,
   "metadata": {},
   "outputs": [],
   "source": [
    "redusert_utval.to_csv(\"history_redusert_utval.csv\")"
   ]
  },
  {
   "cell_type": "markdown",
   "metadata": {},
   "source": [
    "Her er ei linje for å hente data inn att frå fil (i tilfelle eg har mista data i løpet av dagen):"
   ]
  },
  {
   "cell_type": "code",
   "execution_count": null,
   "metadata": {},
   "outputs": [],
   "source": [
    "redusert_utval = pd.read_csv(\"history_250210_redusert_utval.csv\")"
   ]
  },
  {
   "cell_type": "markdown",
   "metadata": {},
   "source": [
    "Eg kan lage ei liste over kor mange aktive hendingar det er per student:"
   ]
  },
  {
   "cell_type": "code",
   "execution_count": 15,
   "metadata": {},
   "outputs": [
    {
     "data": {
      "text/plain": [
       "value.user_id\n",
       "102082    394\n",
       "105833    259\n",
       "52137     255\n",
       "104370    250\n",
       "92822     239\n",
       "         ... \n",
       "109735      1\n",
       "109981      1\n",
       "25259       1\n",
       "1617        1\n",
       "19466       1\n",
       "Name: count, Length: 10676, dtype: int64"
      ]
     },
     "execution_count": 15,
     "metadata": {},
     "output_type": "execute_result"
    }
   ],
   "source": [
    "redusert_utval['value.user_id'].value_counts()"
   ]
  },
  {
   "cell_type": "code",
   "execution_count": null,
   "metadata": {},
   "outputs": [],
   "source": [
    "redusert_utval"
   ]
  },
  {
   "cell_type": "markdown",
   "metadata": {},
   "source": [
    "## Leit etter duplikat\n",
    "Det neste vert å leite etter duplikat. Det vil sei: rader som har lik verdi i fleire celler. Då må eg eigentleg lage ei ny dataramme; eg går gjennom den første og finn like rader, og så legg eg denne raden (og antalet) i ei ny ramme. Vi prøver med noko enkelt:\n",
    "\n",
    "`user_id`, `course_id`, `web_application_controller`, `web_application_action` og `dato` er like.\n"
   ]
  },
  {
   "cell_type": "code",
   "execution_count": 16,
   "metadata": {},
   "outputs": [],
   "source": [
    "temp_duplikat = redusert_utval[[\"value.user_id\", \"value.course_id\", \"value.web_application_controller\", \"value.web_application_action\", \"value.web_application_context_type\", \"dato\"]].value_counts()\n",
    "duplikat = temp_duplikat.to_frame('frekvens').reset_index()"
   ]
  },
  {
   "cell_type": "markdown",
   "metadata": {},
   "source": [
    "Og så lagrer eg til fil før eg ser på detaljane:"
   ]
  },
  {
   "cell_type": "code",
   "execution_count": 31,
   "metadata": {},
   "outputs": [],
   "source": [
    "duplikat.to_csv('duplikat.csv')"
   ]
  },
  {
   "cell_type": "markdown",
   "metadata": {},
   "source": [
    "Først er eg på dei fem mest brukte linjene:"
   ]
  },
  {
   "cell_type": "code",
   "execution_count": 17,
   "metadata": {},
   "outputs": [
    {
     "data": {
      "text/html": [
       "<div>\n",
       "<style scoped>\n",
       "    .dataframe tbody tr th:only-of-type {\n",
       "        vertical-align: middle;\n",
       "    }\n",
       "\n",
       "    .dataframe tbody tr th {\n",
       "        vertical-align: top;\n",
       "    }\n",
       "\n",
       "    .dataframe thead th {\n",
       "        text-align: right;\n",
       "    }\n",
       "</style>\n",
       "<table border=\"1\" class=\"dataframe\">\n",
       "  <thead>\n",
       "    <tr style=\"text-align: right;\">\n",
       "      <th></th>\n",
       "      <th>value.user_id</th>\n",
       "      <th>value.course_id</th>\n",
       "      <th>value.web_application_controller</th>\n",
       "      <th>value.web_application_action</th>\n",
       "      <th>value.web_application_context_type</th>\n",
       "      <th>dato</th>\n",
       "      <th>frekvens</th>\n",
       "    </tr>\n",
       "  </thead>\n",
       "  <tbody>\n",
       "    <tr>\n",
       "      <th>0</th>\n",
       "      <td>105833</td>\n",
       "      <td>30023</td>\n",
       "      <td>external_tools</td>\n",
       "      <td>retrieve</td>\n",
       "      <td>Course</td>\n",
       "      <td>2025-02-12</td>\n",
       "      <td>216</td>\n",
       "    </tr>\n",
       "    <tr>\n",
       "      <th>1</th>\n",
       "      <td>103192</td>\n",
       "      <td>29164</td>\n",
       "      <td>external_tools</td>\n",
       "      <td>retrieve</td>\n",
       "      <td>Course</td>\n",
       "      <td>2025-02-12</td>\n",
       "      <td>112</td>\n",
       "    </tr>\n",
       "    <tr>\n",
       "      <th>2</th>\n",
       "      <td>73365</td>\n",
       "      <td>29869</td>\n",
       "      <td>external_tools</td>\n",
       "      <td>retrieve</td>\n",
       "      <td>Course</td>\n",
       "      <td>2025-02-12</td>\n",
       "      <td>105</td>\n",
       "    </tr>\n",
       "    <tr>\n",
       "      <th>3</th>\n",
       "      <td>98878</td>\n",
       "      <td>30023</td>\n",
       "      <td>external_tools</td>\n",
       "      <td>retrieve</td>\n",
       "      <td>Course</td>\n",
       "      <td>2025-02-12</td>\n",
       "      <td>88</td>\n",
       "    </tr>\n",
       "    <tr>\n",
       "      <th>4</th>\n",
       "      <td>83680</td>\n",
       "      <td>30297</td>\n",
       "      <td>external_tools</td>\n",
       "      <td>retrieve</td>\n",
       "      <td>Course</td>\n",
       "      <td>2025-02-13</td>\n",
       "      <td>80</td>\n",
       "    </tr>\n",
       "  </tbody>\n",
       "</table>\n",
       "</div>"
      ],
      "text/plain": [
       "  value.user_id value.course_id value.web_application_controller  \\\n",
       "0        105833           30023                   external_tools   \n",
       "1        103192           29164                   external_tools   \n",
       "2         73365           29869                   external_tools   \n",
       "3         98878           30023                   external_tools   \n",
       "4         83680           30297                   external_tools   \n",
       "\n",
       "  value.web_application_action value.web_application_context_type        dato  \\\n",
       "0                     retrieve                             Course  2025-02-12   \n",
       "1                     retrieve                             Course  2025-02-12   \n",
       "2                     retrieve                             Course  2025-02-12   \n",
       "3                     retrieve                             Course  2025-02-12   \n",
       "4                     retrieve                             Course  2025-02-13   \n",
       "\n",
       "   frekvens  \n",
       "0       216  \n",
       "1       112  \n",
       "2       105  \n",
       "3        88  \n",
       "4        80  "
      ]
     },
     "execution_count": 17,
     "metadata": {},
     "output_type": "execute_result"
    }
   ],
   "source": [
    "duplikat.head()"
   ]
  },
  {
   "cell_type": "markdown",
   "metadata": {},
   "source": [
    "Her har altså student 105833 gjort same kommando 216 ganger! Dette er kall til \"external_tools\", så eg må sjekke eksakt *kva* verktøy dette er. (Det var Panopto)"
   ]
  },
  {
   "cell_type": "code",
   "execution_count": 24,
   "metadata": {},
   "outputs": [],
   "source": [
    "student_71923 = data[(data['value.user_id'] == \"71923\") & (data['value.web_application_action'] == \"image_thumbnail\")]\n",
    "student_71923.to_csv('student_71923.csv', index=False)"
   ]
  },
  {
   "cell_type": "markdown",
   "metadata": {},
   "source": [
    "Så tar eg ut ei liste over kor mange ganger kva duplikat-rad opptrer; det viser seg jo at dei aller, aller fleste radene er unike:"
   ]
  },
  {
   "cell_type": "code",
   "execution_count": 20,
   "metadata": {},
   "outputs": [
    {
     "data": {
      "text/plain": [
       "frekvens\n",
       "1      19772\n",
       "2       6656\n",
       "3       2812\n",
       "4       1426\n",
       "5        742\n",
       "6        482\n",
       "7        244\n",
       "8        203\n",
       "9        121\n",
       "10       102\n",
       "11        88\n",
       "12        58\n",
       "13        32\n",
       "14        33\n",
       "15        23\n",
       "16        22\n",
       "17        12\n",
       "18        17\n",
       "19        14\n",
       "20        18\n",
       "21        12\n",
       "22        10\n",
       "23         3\n",
       "24        10\n",
       "25         4\n",
       "26         5\n",
       "27         1\n",
       "28         8\n",
       "29         3\n",
       "30         7\n",
       "31         5\n",
       "32         4\n",
       "33         3\n",
       "34         3\n",
       "35         2\n",
       "37         2\n",
       "40         4\n",
       "41         2\n",
       "42         2\n",
       "43         2\n",
       "48         2\n",
       "52         1\n",
       "53         1\n",
       "54         1\n",
       "55         3\n",
       "59         1\n",
       "62         1\n",
       "72         1\n",
       "80         1\n",
       "88         1\n",
       "105        1\n",
       "112        1\n",
       "216        1\n",
       "Name: count, dtype: int64"
      ]
     },
     "execution_count": 20,
     "metadata": {},
     "output_type": "execute_result"
    }
   ],
   "source": [
    "duplikat['frekvens'].value_counts().sort_index()"
   ]
  },
  {
   "cell_type": "markdown",
   "metadata": {},
   "source": [
    "## Antal unike wiki_pages besøkt\n",
    "Vi kan også sjå på kor mange ganger kvar enkelt wiki_side er besøkt:"
   ]
  },
  {
   "cell_type": "code",
   "execution_count": 21,
   "metadata": {},
   "outputs": [],
   "source": [
    "temp99 = redusert_utval[redusert_utval[\"value.web_application_controller\"]==\"wiki_pages\"]\n",
    "url = temp99[[\"value.user_id\", \"value.course_id\", \"value.url\"]].value_counts()\n",
    "url_ramme = url.to_frame('frekvens').reset_index()"
   ]
  },
  {
   "cell_type": "code",
   "execution_count": 22,
   "metadata": {},
   "outputs": [
    {
     "name": "stdout",
     "output_type": "stream",
     "text": [
      "<class 'pandas.core.frame.DataFrame'>\n",
      "RangeIndex: 4179 entries, 0 to 4178\n",
      "Data columns (total 4 columns):\n",
      " #   Column           Non-Null Count  Dtype \n",
      "---  ------           --------------  ----- \n",
      " 0   value.user_id    4179 non-null   object\n",
      " 1   value.course_id  4179 non-null   object\n",
      " 2   value.url        4179 non-null   object\n",
      " 3   frekvens         4179 non-null   int64 \n",
      "dtypes: int64(1), object(3)\n",
      "memory usage: 130.7+ KB\n"
     ]
    }
   ],
   "source": [
    "url_ramme.info()"
   ]
  },
  {
   "cell_type": "code",
   "execution_count": 31,
   "metadata": {},
   "outputs": [
    {
     "data": {
      "text/html": [
       "<div>\n",
       "<style scoped>\n",
       "    .dataframe tbody tr th:only-of-type {\n",
       "        vertical-align: middle;\n",
       "    }\n",
       "\n",
       "    .dataframe tbody tr th {\n",
       "        vertical-align: top;\n",
       "    }\n",
       "\n",
       "    .dataframe thead th {\n",
       "        text-align: right;\n",
       "    }\n",
       "</style>\n",
       "<table border=\"1\" class=\"dataframe\">\n",
       "  <thead>\n",
       "    <tr style=\"text-align: right;\">\n",
       "      <th></th>\n",
       "      <th>value.user_id</th>\n",
       "      <th>value.course_id</th>\n",
       "      <th>value.url</th>\n",
       "      <th>frekvens</th>\n",
       "    </tr>\n",
       "  </thead>\n",
       "  <tbody>\n",
       "    <tr>\n",
       "      <th>0</th>\n",
       "      <td>52137</td>\n",
       "      <td>30810</td>\n",
       "      <td>/courses/30810/pages/pensum-og-forberedelsesma...</td>\n",
       "      <td>25</td>\n",
       "    </tr>\n",
       "    <tr>\n",
       "      <th>1</th>\n",
       "      <td>52137</td>\n",
       "      <td>30810</td>\n",
       "      <td>/courses/30810/pages/pensum-og-forberedelsesma...</td>\n",
       "      <td>23</td>\n",
       "    </tr>\n",
       "    <tr>\n",
       "      <th>2</th>\n",
       "      <td>1703</td>\n",
       "      <td>86</td>\n",
       "      <td>/courses/86/pages/alt-1-guide</td>\n",
       "      <td>22</td>\n",
       "    </tr>\n",
       "    <tr>\n",
       "      <th>3</th>\n",
       "      <td>52137</td>\n",
       "      <td>30810</td>\n",
       "      <td>/courses/30810/pages/pensum-og-forberedelsesma...</td>\n",
       "      <td>16</td>\n",
       "    </tr>\n",
       "    <tr>\n",
       "      <th>4</th>\n",
       "      <td>107515</td>\n",
       "      <td>30017</td>\n",
       "      <td>/courses/30017/pages/uke-7-kjernefysikk-strali...</td>\n",
       "      <td>14</td>\n",
       "    </tr>\n",
       "    <tr>\n",
       "      <th>...</th>\n",
       "      <td>...</td>\n",
       "      <td>...</td>\n",
       "      <td>...</td>\n",
       "      <td>...</td>\n",
       "    </tr>\n",
       "    <tr>\n",
       "      <th>4174</th>\n",
       "      <td>40208</td>\n",
       "      <td>29744</td>\n",
       "      <td>/courses/29744/pages/framside</td>\n",
       "      <td>1</td>\n",
       "    </tr>\n",
       "    <tr>\n",
       "      <th>4175</th>\n",
       "      <td>40208</td>\n",
       "      <td>29744</td>\n",
       "      <td>/courses/29744/pages/framside/edit</td>\n",
       "      <td>1</td>\n",
       "    </tr>\n",
       "    <tr>\n",
       "      <th>4176</th>\n",
       "      <td>40229</td>\n",
       "      <td>29317</td>\n",
       "      <td>/courses/29317/pages/obligatoriske-laeringsakt...</td>\n",
       "      <td>1</td>\n",
       "    </tr>\n",
       "    <tr>\n",
       "      <th>4177</th>\n",
       "      <td>40382</td>\n",
       "      <td>25541</td>\n",
       "      <td>/courses/25541/pages/sql</td>\n",
       "      <td>1</td>\n",
       "    </tr>\n",
       "    <tr>\n",
       "      <th>4178</th>\n",
       "      <td>99332</td>\n",
       "      <td>29235</td>\n",
       "      <td>/courses/29235/pages/webinaropptak?module_item...</td>\n",
       "      <td>1</td>\n",
       "    </tr>\n",
       "  </tbody>\n",
       "</table>\n",
       "<p>4179 rows × 4 columns</p>\n",
       "</div>"
      ],
      "text/plain": [
       "     value.user_id value.course_id  \\\n",
       "0            52137           30810   \n",
       "1            52137           30810   \n",
       "2             1703              86   \n",
       "3            52137           30810   \n",
       "4           107515           30017   \n",
       "...            ...             ...   \n",
       "4174         40208           29744   \n",
       "4175         40208           29744   \n",
       "4176         40229           29317   \n",
       "4177         40382           25541   \n",
       "4178         99332           29235   \n",
       "\n",
       "                                              value.url  frekvens  \n",
       "0     /courses/30810/pages/pensum-og-forberedelsesma...        25  \n",
       "1     /courses/30810/pages/pensum-og-forberedelsesma...        23  \n",
       "2                         /courses/86/pages/alt-1-guide        22  \n",
       "3     /courses/30810/pages/pensum-og-forberedelsesma...        16  \n",
       "4     /courses/30017/pages/uke-7-kjernefysikk-strali...        14  \n",
       "...                                                 ...       ...  \n",
       "4174                      /courses/29744/pages/framside         1  \n",
       "4175                 /courses/29744/pages/framside/edit         1  \n",
       "4176  /courses/29317/pages/obligatoriske-laeringsakt...         1  \n",
       "4177                           /courses/25541/pages/sql         1  \n",
       "4178  /courses/29235/pages/webinaropptak?module_item...         1  \n",
       "\n",
       "[4179 rows x 4 columns]"
      ]
     },
     "execution_count": 31,
     "metadata": {},
     "output_type": "execute_result"
    }
   ],
   "source": [
    "url_ramme"
   ]
  },
  {
   "cell_type": "markdown",
   "metadata": {},
   "source": [
    "Eg vil no beholde berre *ei* av linjene dersom det er fleire besøk til ei side (sjølvsagt per student), men lage ei ekstra kolonne med antalet (henta frå lista over)."
   ]
  },
  {
   "cell_type": "code",
   "execution_count": 32,
   "metadata": {},
   "outputs": [
    {
     "name": "stdout",
     "output_type": "stream",
     "text": [
      "<class 'pandas.core.frame.DataFrame'>\n",
      "Index: 215908 entries, 0 to 1703520\n",
      "Data columns (total 8 columns):\n",
      " #   Column                              Non-Null Count   Dtype \n",
      "---  ------                              --------------   ----- \n",
      " 0   value.timestamp                     215908 non-null  object\n",
      " 1   value.user_id                       215908 non-null  object\n",
      " 2   value.course_id                     83053 non-null   object\n",
      " 3   value.url                           215908 non-null  object\n",
      " 4   value.web_application_controller    215908 non-null  object\n",
      " 5   value.web_application_action        215908 non-null  object\n",
      " 6   value.web_application_context_type  110229 non-null  object\n",
      " 7   dato                                215908 non-null  object\n",
      "dtypes: object(8)\n",
      "memory usage: 14.8+ MB\n"
     ]
    }
   ],
   "source": [
    "redusert_utval.info()"
   ]
  },
  {
   "cell_type": "code",
   "execution_count": 42,
   "metadata": {},
   "outputs": [],
   "source": [
    "redusert_utval = redusert_utval.reset_index(drop=True)\n",
    "temp999 = redusert_utval[redusert_utval[\"value.web_application_controller\"]==\"wiki_pages\"]\n",
    "redusert_utval['sideklikk'] = temp999.groupby(['value.user_id', 'value.url'])['value.user_id'].transform('count')"
   ]
  },
  {
   "cell_type": "code",
   "execution_count": 44,
   "metadata": {},
   "outputs": [
    {
     "data": {
      "text/html": [
       "<div>\n",
       "<style scoped>\n",
       "    .dataframe tbody tr th:only-of-type {\n",
       "        vertical-align: middle;\n",
       "    }\n",
       "\n",
       "    .dataframe tbody tr th {\n",
       "        vertical-align: top;\n",
       "    }\n",
       "\n",
       "    .dataframe thead th {\n",
       "        text-align: right;\n",
       "    }\n",
       "</style>\n",
       "<table border=\"1\" class=\"dataframe\">\n",
       "  <thead>\n",
       "    <tr style=\"text-align: right;\">\n",
       "      <th></th>\n",
       "      <th>value.timestamp</th>\n",
       "      <th>value.user_id</th>\n",
       "      <th>value.course_id</th>\n",
       "      <th>value.url</th>\n",
       "      <th>value.web_application_controller</th>\n",
       "      <th>value.web_application_action</th>\n",
       "      <th>value.web_application_context_type</th>\n",
       "      <th>dato</th>\n",
       "      <th>sideklikk</th>\n",
       "    </tr>\n",
       "  </thead>\n",
       "  <tbody>\n",
       "    <tr>\n",
       "      <th>29</th>\n",
       "      <td>2025-02-12T14:00:55.428Z</td>\n",
       "      <td>108814</td>\n",
       "      <td>25064</td>\n",
       "      <td>/courses/25064/pages/kildehenvisning-eksempel?...</td>\n",
       "      <td>wiki_pages</td>\n",
       "      <td>show</td>\n",
       "      <td>Course</td>\n",
       "      <td>2025-02-12</td>\n",
       "      <td>1.0</td>\n",
       "    </tr>\n",
       "    <tr>\n",
       "      <th>44</th>\n",
       "      <td>2025-02-12T14:01:12.366Z</td>\n",
       "      <td>90945</td>\n",
       "      <td>29659</td>\n",
       "      <td>/courses/29659/pages/fordypningsoppgavefiler?m...</td>\n",
       "      <td>wiki_pages</td>\n",
       "      <td>show</td>\n",
       "      <td>Course</td>\n",
       "      <td>2025-02-12</td>\n",
       "      <td>1.0</td>\n",
       "    </tr>\n",
       "    <tr>\n",
       "      <th>52</th>\n",
       "      <td>2025-02-12T14:01:18.330Z</td>\n",
       "      <td>106607</td>\n",
       "      <td>29295</td>\n",
       "      <td>/courses/29295/pages/artikkelseminar-3-og-4-kv...</td>\n",
       "      <td>wiki_pages</td>\n",
       "      <td>show</td>\n",
       "      <td>Course</td>\n",
       "      <td>2025-02-12</td>\n",
       "      <td>1.0</td>\n",
       "    </tr>\n",
       "    <tr>\n",
       "      <th>60</th>\n",
       "      <td>2025-02-12T14:01:23.791Z</td>\n",
       "      <td>108814</td>\n",
       "      <td>25064</td>\n",
       "      <td>/courses/25064/pages/eksempel-pa-eksamensoppga...</td>\n",
       "      <td>wiki_pages</td>\n",
       "      <td>show</td>\n",
       "      <td>Course</td>\n",
       "      <td>2025-02-12</td>\n",
       "      <td>1.0</td>\n",
       "    </tr>\n",
       "    <tr>\n",
       "      <th>65</th>\n",
       "      <td>2025-02-12T14:01:32.313Z</td>\n",
       "      <td>101596</td>\n",
       "      <td>28886</td>\n",
       "      <td>/courses/28886/pages/obligatorisk-gruppearbeid...</td>\n",
       "      <td>wiki_pages</td>\n",
       "      <td>show</td>\n",
       "      <td>Course</td>\n",
       "      <td>2025-02-12</td>\n",
       "      <td>3.0</td>\n",
       "    </tr>\n",
       "    <tr>\n",
       "      <th>...</th>\n",
       "      <td>...</td>\n",
       "      <td>...</td>\n",
       "      <td>...</td>\n",
       "      <td>...</td>\n",
       "      <td>...</td>\n",
       "      <td>...</td>\n",
       "      <td>...</td>\n",
       "      <td>...</td>\n",
       "      <td>...</td>\n",
       "    </tr>\n",
       "    <tr>\n",
       "      <th>215181</th>\n",
       "      <td>2025-02-13T01:21:34.384Z</td>\n",
       "      <td>67496</td>\n",
       "      <td>29464</td>\n",
       "      <td>/courses/29464/pages/19-dot-02-dot-2025-utvikl...</td>\n",
       "      <td>wiki_pages</td>\n",
       "      <td>show</td>\n",
       "      <td>Course</td>\n",
       "      <td>2025-02-13</td>\n",
       "      <td>2.0</td>\n",
       "    </tr>\n",
       "    <tr>\n",
       "      <th>215459</th>\n",
       "      <td>2025-02-13T01:32:58.603Z</td>\n",
       "      <td>106405</td>\n",
       "      <td>29313</td>\n",
       "      <td>/courses/29313/pages/deskriptiv-statistikk-2?m...</td>\n",
       "      <td>wiki_pages</td>\n",
       "      <td>show</td>\n",
       "      <td>Course</td>\n",
       "      <td>2025-02-13</td>\n",
       "      <td>1.0</td>\n",
       "    </tr>\n",
       "    <tr>\n",
       "      <th>215793</th>\n",
       "      <td>2025-02-13T01:55:41.058Z</td>\n",
       "      <td>83608</td>\n",
       "      <td>28959</td>\n",
       "      <td>/courses/28959/pages/oppgaver-fra-workshop-for...</td>\n",
       "      <td>wiki_pages</td>\n",
       "      <td>show</td>\n",
       "      <td>Course</td>\n",
       "      <td>2025-02-13</td>\n",
       "      <td>1.0</td>\n",
       "    </tr>\n",
       "    <tr>\n",
       "      <th>215845</th>\n",
       "      <td>2025-02-13T01:59:25.480Z</td>\n",
       "      <td>83608</td>\n",
       "      <td>28959</td>\n",
       "      <td>/courses/28959/pages/farmakologi-oppgaver-2?mo...</td>\n",
       "      <td>wiki_pages</td>\n",
       "      <td>show</td>\n",
       "      <td>Course</td>\n",
       "      <td>2025-02-13</td>\n",
       "      <td>1.0</td>\n",
       "    </tr>\n",
       "    <tr>\n",
       "      <th>215872</th>\n",
       "      <td>2025-02-13T02:01:21.017Z</td>\n",
       "      <td>83608</td>\n",
       "      <td>28959</td>\n",
       "      <td>/courses/28959/pages/alveole-til-a-sette-namn-...</td>\n",
       "      <td>wiki_pages</td>\n",
       "      <td>show</td>\n",
       "      <td>Course</td>\n",
       "      <td>2025-02-13</td>\n",
       "      <td>1.0</td>\n",
       "    </tr>\n",
       "  </tbody>\n",
       "</table>\n",
       "<p>6247 rows × 9 columns</p>\n",
       "</div>"
      ],
      "text/plain": [
       "                 value.timestamp value.user_id value.course_id  \\\n",
       "29      2025-02-12T14:00:55.428Z        108814           25064   \n",
       "44      2025-02-12T14:01:12.366Z         90945           29659   \n",
       "52      2025-02-12T14:01:18.330Z        106607           29295   \n",
       "60      2025-02-12T14:01:23.791Z        108814           25064   \n",
       "65      2025-02-12T14:01:32.313Z        101596           28886   \n",
       "...                          ...           ...             ...   \n",
       "215181  2025-02-13T01:21:34.384Z         67496           29464   \n",
       "215459  2025-02-13T01:32:58.603Z        106405           29313   \n",
       "215793  2025-02-13T01:55:41.058Z         83608           28959   \n",
       "215845  2025-02-13T01:59:25.480Z         83608           28959   \n",
       "215872  2025-02-13T02:01:21.017Z         83608           28959   \n",
       "\n",
       "                                                value.url  \\\n",
       "29      /courses/25064/pages/kildehenvisning-eksempel?...   \n",
       "44      /courses/29659/pages/fordypningsoppgavefiler?m...   \n",
       "52      /courses/29295/pages/artikkelseminar-3-og-4-kv...   \n",
       "60      /courses/25064/pages/eksempel-pa-eksamensoppga...   \n",
       "65      /courses/28886/pages/obligatorisk-gruppearbeid...   \n",
       "...                                                   ...   \n",
       "215181  /courses/29464/pages/19-dot-02-dot-2025-utvikl...   \n",
       "215459  /courses/29313/pages/deskriptiv-statistikk-2?m...   \n",
       "215793  /courses/28959/pages/oppgaver-fra-workshop-for...   \n",
       "215845  /courses/28959/pages/farmakologi-oppgaver-2?mo...   \n",
       "215872  /courses/28959/pages/alveole-til-a-sette-namn-...   \n",
       "\n",
       "       value.web_application_controller value.web_application_action  \\\n",
       "29                           wiki_pages                         show   \n",
       "44                           wiki_pages                         show   \n",
       "52                           wiki_pages                         show   \n",
       "60                           wiki_pages                         show   \n",
       "65                           wiki_pages                         show   \n",
       "...                                 ...                          ...   \n",
       "215181                       wiki_pages                         show   \n",
       "215459                       wiki_pages                         show   \n",
       "215793                       wiki_pages                         show   \n",
       "215845                       wiki_pages                         show   \n",
       "215872                       wiki_pages                         show   \n",
       "\n",
       "       value.web_application_context_type        dato  sideklikk  \n",
       "29                                 Course  2025-02-12        1.0  \n",
       "44                                 Course  2025-02-12        1.0  \n",
       "52                                 Course  2025-02-12        1.0  \n",
       "60                                 Course  2025-02-12        1.0  \n",
       "65                                 Course  2025-02-12        3.0  \n",
       "...                                   ...         ...        ...  \n",
       "215181                             Course  2025-02-13        2.0  \n",
       "215459                             Course  2025-02-13        1.0  \n",
       "215793                             Course  2025-02-13        1.0  \n",
       "215845                             Course  2025-02-13        1.0  \n",
       "215872                             Course  2025-02-13        1.0  \n",
       "\n",
       "[6247 rows x 9 columns]"
      ]
     },
     "execution_count": 44,
     "metadata": {},
     "output_type": "execute_result"
    }
   ],
   "source": [
    "redusert_utval[redusert_utval['value.web_application_controller']==\"wiki_pages\"]"
   ]
  },
  {
   "cell_type": "code",
   "execution_count": 46,
   "metadata": {},
   "outputs": [
    {
     "data": {
      "text/plain": [
       "sideklikk\n",
       "1.0     2987\n",
       "2.0     1562\n",
       "3.0      777\n",
       "4.0      376\n",
       "5.0      210\n",
       "6.0       84\n",
       "7.0       63\n",
       "8.0       16\n",
       "9.0       27\n",
       "10.0      10\n",
       "11.0      22\n",
       "13.0      13\n",
       "14.0      14\n",
       "16.0      16\n",
       "22.0      22\n",
       "23.0      23\n",
       "25.0      25\n",
       "Name: count, dtype: int64"
      ]
     },
     "execution_count": 46,
     "metadata": {},
     "output_type": "execute_result"
    }
   ],
   "source": [
    "redusert_utval['sideklikk'].value_counts().sort_index()"
   ]
  },
  {
   "cell_type": "code",
   "execution_count": null,
   "metadata": {},
   "outputs": [],
   "source": []
  }
 ],
 "metadata": {
  "kernelspec": {
   "display_name": "Python 3",
   "language": "python",
   "name": "python3"
  },
  "language_info": {
   "codemirror_mode": {
    "name": "ipython",
    "version": 3
   },
   "file_extension": ".py",
   "mimetype": "text/x-python",
   "name": "python",
   "nbconvert_exporter": "python",
   "pygments_lexer": "ipython3",
   "version": "3.13.1"
  }
 },
 "nbformat": 4,
 "nbformat_minor": 2
}
