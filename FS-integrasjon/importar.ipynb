{
 "cells": [
  {
   "cell_type": "code",
   "execution_count": 9,
   "id": "7449713f",
   "metadata": {},
   "outputs": [],
   "source": [
    "import requests\n",
    "import os\n",
    "import pandas as pd\n",
    "from datetime import date\n",
    "import time\n",
    "from io import StringIO\n",
    "\n",
    "hodeCanvas = {\"Authorization\": f'Bearer {os.environ[\"tokenCanvas\"]}'}\n",
    "parametreCanvas = {\"per_page\": 100}\n",
    "idag = date.today().isoformat()[0:10]\n",
    "url = \"https://hvl.instructure.com/api/v1/accounts/1/sis_imports\"\n",
    "svar = requests.get(url, headers=hodeCanvas, params=parametreCanvas)\n",
    "importerte_filer = svar.json()\n",
    "\n"
   ]
  },
  {
   "cell_type": "code",
   "execution_count": 10,
   "id": "3dcca7a1",
   "metadata": {},
   "outputs": [
    {
     "data": {
      "text/plain": [
       "100"
      ]
     },
     "execution_count": 10,
     "metadata": {},
     "output_type": "execute_result"
    }
   ],
   "source": [
    "len(importerte_filer['sis_imports'])"
   ]
  },
  {
   "cell_type": "code",
   "execution_count": null,
   "id": "0369cf35",
   "metadata": {},
   "outputs": [],
   "source": [
    "\n",
    "for i in importerte_filer['sis_imports']:\n",
    "\n",
    "    # Her må eg bruke litt ulik logikk for å hente ut ulike filar:\n",
    "    # Feilmeldingar: \"errors_attachment\" in i,\n",
    "    # Ulike vedlegg: \"csv_attachments\\[accounts|courses|enrollments|sections|terms|users_filtered]\" for ulike andre\n",
    "    # Eg kan også med fordel teste på dato/tid for å finne eventuell masteroppdatering (sjølv om dette vert endra med ny import ...)\n",
    "\n",
    "    if (\"errors_attachment\" in i) and (i['created_at'] > idag):\n",
    "        fil = i[\"errors_attachment\"]['url']\n",
    "        data = pd.read_csv(StringIO(requests.get(fil, headers=hodeCanvas).content.decode(\"utf-8\")))\n",
    "        brukarar = data[data['message'].str.startswith('User not found')]\n",
    "        eksisterer = data[data['message'].str.startswith('An existing')]\n",
    "        for b in brukarar['message']:\n",
    "            innhald += f\"{b}\\n\"\n",
    "            antal_feilmeldingar += 1\n",
    "        for e in eksisterer['message']:\n",
    "            innhald += f\"{e}\\n\"\n",
    "            antal_feilmeldingar += 1\n",
    "print(innhald)"
   ]
  }
 ],
 "metadata": {
  "kernelspec": {
   "display_name": "Python 3",
   "language": "python",
   "name": "python3"
  },
  "language_info": {
   "codemirror_mode": {
    "name": "ipython",
    "version": 3
   },
   "file_extension": ".py",
   "mimetype": "text/x-python",
   "name": "python",
   "nbconvert_exporter": "python",
   "pygments_lexer": "ipython3",
   "version": "3.13.1"
  }
 },
 "nbformat": 4,
 "nbformat_minor": 5
}
