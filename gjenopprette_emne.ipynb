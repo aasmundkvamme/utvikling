{
 "cells": [
  {
   "cell_type": "code",
   "execution_count": 6,
   "metadata": {},
   "outputs": [],
   "source": [
    "import pandas as pd\n",
    "import os\n",
    "import requests\n",
    "\n",
    "hodeCanvas = {'Authorization': 'Bearer ' + os.environ[\"tokenCanvas\"]}\n"
   ]
  },
  {
   "cell_type": "markdown",
   "metadata": {},
   "source": [
    "# Gjenopprette emne\n",
    "Dersom eg har sletta eit emne (med \"Delete\") kan eg gjenopprette det:\n",
    "\n",
    "1. Finn emnenummeret ved å ta ut ein rapport som også inneheld *sletta* emne.\n",
    "2. Bruke emnenummeret saman med parametre som her:"
   ]
  },
  {
   "cell_type": "code",
   "execution_count": null,
   "metadata": {},
   "outputs": [],
   "source": [
    "emne = 31146\n",
    "parametreCanvas = {'course[event]': 'undelete'}\n",
    "url = f\"https://hvl.instructure.com/api/v1/courses/{emne}\"\n",
    "resultat = requests.put(url, headers=hodeCanvas, params=parametreCanvas)\n",
    "resultat"
   ]
  }
 ],
 "metadata": {
  "kernelspec": {
   "display_name": "Python 3",
   "language": "python",
   "name": "python3"
  },
  "language_info": {
   "codemirror_mode": {
    "name": "ipython",
    "version": 3
   },
   "file_extension": ".py",
   "mimetype": "text/x-python",
   "name": "python",
   "nbconvert_exporter": "python",
   "pygments_lexer": "ipython3",
   "version": "3.10.12"
  }
 },
 "nbformat": 4,
 "nbformat_minor": 2
}
