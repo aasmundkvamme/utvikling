{
 "cells": [
  {
   "cell_type": "markdown",
   "metadata": {},
   "source": [
    "# Diverse statistikk frå Canvas web_logs\n",
    "Eg lager ulike statistikkar basert på Canvas web_logs her; dersom det er \"vellukka\" kan eg implementere det i den daglege rutina *diverse_statistikk.py*"
   ]
  },
  {
   "cell_type": "code",
   "execution_count": 1,
   "metadata": {},
   "outputs": [],
   "source": [
    "import pandas as pd\n",
    "import glob\n",
    "import os\n",
    "import pyodbc\n",
    "import akvut\n",
    "from datetime import date, timedelta\n",
    "\n",
    "today = date.today()\n",
    "idag = today.isoformat()\n",
    "igår = (today - timedelta(days=1)).isoformat()\n"
   ]
  },
  {
   "cell_type": "markdown",
   "metadata": {},
   "source": [
    "Eg sjekker om det ligg inne web_logs-filer frå i dag:"
   ]
  },
  {
   "cell_type": "code",
   "execution_count": 2,
   "metadata": {},
   "outputs": [],
   "source": [
    "\n",
    "logger = akvut.lag_logger(f'loggfil-diverse_statistikk-{idag}.log')\n",
    "\n",
    "filer = glob.glob(\"web_logs-*.txt\")\n"
   ]
  },
  {
   "cell_type": "markdown",
   "metadata": {},
   "source": [
    "Dersom det gjer det les eg dei inn i ein giga-dataramme:"
   ]
  },
  {
   "cell_type": "code",
   "execution_count": 3,
   "metadata": {},
   "outputs": [
    {
     "name": "stderr",
     "output_type": "stream",
     "text": [
      "2025-01-16 15:52:40,724 - my_logger - INFO - Les 2 filer\n",
      "2025-01-16 15:53:17,641 - my_logger - INFO - Antall linjer: 2521762\n"
     ]
    }
   ],
   "source": [
    "logger.info(f\"Les {len(filer)} filer\")\n",
    "data = pd.concat([pd.read_csv(f) for f in filer])\n",
    "antal = len(data)\n",
    "logger.info(f\"Antall linjer: {antal}\")\n"
   ]
  },
  {
   "cell_type": "markdown",
   "metadata": {},
   "source": [
    "Så kan eg gjere ulike statistikkar.\n",
    "\n",
    "## Antal klikk på profilbilete"
   ]
  },
  {
   "cell_type": "code",
   "execution_count": 8,
   "metadata": {},
   "outputs": [],
   "source": [
    "klikk = len(data[data['value.url'].str.contains('/images/thumbnails/')])\n",
    "andel = klikk/antal\n",
    "ny_liste = pd.DataFrame([{'dato': idag, 'profilbilete': andel}])\n",
    "gamal_liste = pd.read_csv(\"diverse_statistikk.csv\")\n",
    "oppdatert_liste = pd.concat([ny_liste, gamal_liste]).groupby('dato').sum().reset_index()\n",
    "oppdatert_liste.to_csv(\"diverse_statistikk.csv\", index=False)"
   ]
  },
  {
   "cell_type": "markdown",
   "metadata": {},
   "source": [
    "## Data til Håvard om kva klikka vert brukt til\n",
    "Her er vi litt usikre på kva som eigentleg vert vist; vi lager ein tabell og så ser vi over tid kva som står der."
   ]
  },
  {
   "cell_type": "code",
   "execution_count": 4,
   "metadata": {},
   "outputs": [],
   "source": [
    "t1 = data[~data['value.url'].str.contains(\"/api/\")]\n",
    "# utan_user_id = t1[t1['value.user_id'].isna()]\n",
    "med_user_id = t1[~t1['value.user_id'].isna()]"
   ]
  },
  {
   "cell_type": "code",
   "execution_count": 5,
   "metadata": {},
   "outputs": [
    {
     "ename": "InterfaceError",
     "evalue": "('IM002', '[IM002] [Microsoft][ODBC Driver Manager] Data source name not found and no default driver specified (0) (SQLDriverConnect); [IM002] [Microsoft][ODBC Driver Manager] Invalid connection string attribute (0)')",
     "output_type": "error",
     "traceback": [
      "\u001b[1;31m---------------------------------------------------------------------------\u001b[0m",
      "\u001b[1;31mInterfaceError\u001b[0m                            Traceback (most recent call last)",
      "Cell \u001b[1;32mIn[5], line 3\u001b[0m\n\u001b[0;32m      1\u001b[0m bruk_desse \u001b[38;5;241m=\u001b[39m med_user_id[[\u001b[38;5;124m'\u001b[39m\u001b[38;5;124mvalue.timestamp\u001b[39m\u001b[38;5;124m'\u001b[39m, \u001b[38;5;124m'\u001b[39m\u001b[38;5;124mvalue.user_id\u001b[39m\u001b[38;5;124m'\u001b[39m, \u001b[38;5;124m'\u001b[39m\u001b[38;5;124mvalue.course_id\u001b[39m\u001b[38;5;124m'\u001b[39m, \u001b[38;5;124m'\u001b[39m\u001b[38;5;124mvalue.web_application_controller\u001b[39m\u001b[38;5;124m'\u001b[39m, \u001b[38;5;124m'\u001b[39m\u001b[38;5;124mvalue.web_application_action\u001b[39m\u001b[38;5;124m'\u001b[39m, \u001b[38;5;124m'\u001b[39m\u001b[38;5;124mvalue.web_application_context_type\u001b[39m\u001b[38;5;124m'\u001b[39m, \u001b[38;5;124m'\u001b[39m\u001b[38;5;124mvalue.url\u001b[39m\u001b[38;5;124m'\u001b[39m]]\n\u001b[0;32m      2\u001b[0m conn_str \u001b[38;5;241m=\u001b[39m os\u001b[38;5;241m.\u001b[39menviron[\u001b[38;5;124m\"\u001b[39m\u001b[38;5;124mConnection_SQL\u001b[39m\u001b[38;5;124m\"\u001b[39m]\n\u001b[1;32m----> 3\u001b[0m \u001b[38;5;28;01mwith\u001b[39;00m \u001b[43mpyodbc\u001b[49m\u001b[38;5;241;43m.\u001b[39;49m\u001b[43mconnect\u001b[49m\u001b[43m(\u001b[49m\u001b[43mconn_str\u001b[49m\u001b[43m)\u001b[49m \u001b[38;5;28;01mas\u001b[39;00m cnxn:\n\u001b[0;32m      4\u001b[0m     \u001b[38;5;28;01mwith\u001b[39;00m cnxn\u001b[38;5;241m.\u001b[39mcursor() \u001b[38;5;28;01mas\u001b[39;00m cursor:\n\u001b[0;32m      5\u001b[0m         cursor\u001b[38;5;241m.\u001b[39mfast_executemany \u001b[38;5;241m=\u001b[39m \u001b[38;5;28;01mTrue\u001b[39;00m\n",
      "\u001b[1;31mInterfaceError\u001b[0m: ('IM002', '[IM002] [Microsoft][ODBC Driver Manager] Data source name not found and no default driver specified (0) (SQLDriverConnect); [IM002] [Microsoft][ODBC Driver Manager] Invalid connection string attribute (0)')"
     ]
    }
   ],
   "source": [
    "bruk_desse = med_user_id[['value.timestamp', 'value.user_id', 'value.course_id', 'value.web_application_controller', 'value.web_application_action', 'value.web_application_context_type', 'value.url']]\n",
    "conn_str = os.environ[\"Connection_SQL\"]\n",
    "with pyodbc.connect(conn_str) as cnxn:\n",
    "    with cnxn.cursor() as cursor:\n",
    "        cursor.fast_executemany = True\n",
    "        cursor.executemany(\"INSERT INTO dbo.akv_ny_canvas_history VALUES(?, ?, ?, ?, ?, ?, ?)\", bruk_desse.values)"
   ]
  },
  {
   "cell_type": "markdown",
   "metadata": {},
   "source": [
    "Neste steg: finn ut kvifor eg ikkje lengre får kontakt med  databasen frå WSL."
   ]
  },
  {
   "cell_type": "code",
   "execution_count": null,
   "metadata": {},
   "outputs": [],
   "source": [
    "oppdaterte_lister = pd.concat([nye_lister, gamle_lister]).groupby('dato').sum().reset_index()\n",
    "oppdaterte_lister.to_csv(\"diverse_statistikk.csv\", index=False)\n",
    "\n",
    "avsendar = \"aasmund.kvamme@hvl.no\"\n",
    "mottakarar = [\"aasmund.kvamme@hvl.no\"]\n",
    "tittel = \"Diverse statistikk frå web_log\"\n",
    "vedlegg = \"diverse_statistikk.csv\"\n",
    "innhald = f\"Andel klikk på profilbilete: {klikk/antal*100:.2f} ({klikk} av {antal})\"\n",
    "\n",
    "akvut.send_epost(tittel, innhald, avsendar, mottakarar, vedlegg)\n",
    "logger.info(\"Sendt epost til {mottakarar}\")"
   ]
  }
 ],
 "metadata": {
  "kernelspec": {
   "display_name": "Python 3",
   "language": "python",
   "name": "python3"
  },
  "language_info": {
   "codemirror_mode": {
    "name": "ipython",
    "version": 3
   },
   "file_extension": ".py",
   "mimetype": "text/x-python",
   "name": "python",
   "nbconvert_exporter": "python",
   "pygments_lexer": "ipython3",
   "version": "3.12.3"
  }
 },
 "nbformat": 4,
 "nbformat_minor": 2
}
