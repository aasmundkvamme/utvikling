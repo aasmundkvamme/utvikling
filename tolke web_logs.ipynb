{
 "cells": [
  {
   "cell_type": "code",
   "execution_count": 3,
   "metadata": {},
   "outputs": [],
   "source": [
    "import pandas as pd\n",
    "data = pd.read_csv(\"web_logs-202412041409-0.txt\")"
   ]
  },
  {
   "cell_type": "code",
   "execution_count": 17,
   "metadata": {},
   "outputs": [
    {
     "data": {
      "text/plain": [
       "0                                /courses/30080/modules\n",
       "1     /api/v1/courses/29417/pages/fredag-13-septembe...\n",
       "2                                          /api/graphql\n",
       "3           /api/v1/courses/29605?query_string_redacted\n",
       "4                    /api/v1/release_notes/unread_count\n",
       "5                   /courses/30080/modules/progressions\n",
       "6                      /api/v1/accounts/1/courses/30384\n",
       "7         /api/v1/courses/25714/activity_stream/summary\n",
       "8                       /api/v1/accounts/1/courses/4938\n",
       "9           /api/v1/courses/28882?query_string_redacted\n",
       "10    /api/v1/canvadoc_session?blob=%7B%22user_id%22...\n",
       "11    /api/v1/courses/29248/pages/4-problems-and-sol...\n",
       "12                      /web-app-manifest/manifest.json\n",
       "13                                       /courses/30293\n",
       "14                   /api/v1/conversations/unread_count\n",
       "15                     /api/v1/accounts/1/courses/28080\n",
       "16    /images/thumbnails/1478987/vOZj8HEvbWTcxuKs1Ky...\n",
       "17    /courses/30213/quizzes/16901/submissions/backu...\n",
       "18        /api/v1/courses/23255/activity_stream/summary\n",
       "19    /courses/10747~28122/files/10747~2866350/cours...\n",
       "Name: value.url, dtype: object"
      ]
     },
     "execution_count": 17,
     "metadata": {},
     "output_type": "execute_result"
    }
   ],
   "source": [
    "data['value.url'].head(20)"
   ]
  },
  {
   "cell_type": "code",
   "execution_count": 18,
   "metadata": {},
   "outputs": [],
   "source": [
    "emne = data[data['value.url'].str.contains('courses')]"
   ]
  },
  {
   "cell_type": "code",
   "execution_count": 20,
   "metadata": {},
   "outputs": [
    {
     "data": {
      "text/plain": [
       "value.course_id\n",
       "30742.0    80785\n",
       "29207.0    35465\n",
       "12436.0    32099\n",
       "28924.0    23144\n",
       "30668.0    15797\n",
       "           ...  \n",
       "10870.0        1\n",
       "8519.0         1\n",
       "15603.0        1\n",
       "8765.0         1\n",
       "11606.0        1\n",
       "Name: count, Length: 5189, dtype: int64"
      ]
     },
     "execution_count": 20,
     "metadata": {},
     "output_type": "execute_result"
    }
   ],
   "source": [
    "emne['value.course_id'].value_counts()"
   ]
  },
  {
   "cell_type": "code",
   "execution_count": 22,
   "metadata": {},
   "outputs": [
    {
     "data": {
      "text/plain": [
       "value.course_id\n",
       "30742.0    80785\n",
       "29207.0    35465\n",
       "12436.0    32099\n",
       "28924.0    23144\n",
       "30668.0    15797\n",
       "28880.0    13869\n",
       "10747.0    11462\n",
       "29276.0    10505\n",
       "28713.0     8918\n",
       "28293.0     8159\n",
       "29918.0     7621\n",
       "29040.0     7076\n",
       "28040.0     6468\n",
       "28651.0     5438\n",
       "28655.0     5044\n",
       "28155.0     4883\n",
       "30023.0     4813\n",
       "29483.0     4728\n",
       "29417.0     4530\n",
       "28982.0     4261\n",
       "Name: count, dtype: int64"
      ]
     },
     "execution_count": 22,
     "metadata": {},
     "output_type": "execute_result"
    }
   ],
   "source": [
    "data['value.course_id'].value_counts().head(20)"
   ]
  }
 ],
 "metadata": {
  "kernelspec": {
   "display_name": "Python 3",
   "language": "python",
   "name": "python3"
  },
  "language_info": {
   "codemirror_mode": {
    "name": "ipython",
    "version": 3
   },
   "file_extension": ".py",
   "mimetype": "text/x-python",
   "name": "python",
   "nbconvert_exporter": "python",
   "pygments_lexer": "ipython3",
   "version": "3.10.12"
  }
 },
 "nbformat": 4,
 "nbformat_minor": 2
}
