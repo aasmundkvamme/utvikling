{
 "cells": [
  {
   "cell_type": "code",
   "execution_count": 34,
   "metadata": {},
   "outputs": [],
   "source": [
    "import requests\n",
    "import os\n",
    "\n",
    "import pandas as pd\n",
    "tokenCanvas = os.environ['tokenCanvas']\n",
    "\n",
    "headers = {\n",
    "    'Authorization': f'Bearer {tokenCanvas}',\n",
    "}\n",
    "params = {\n",
    "    'per_page': 100,\n",
    "}\n",
    "\n",
    "FSbrukar = os.environ[\"FSbrukar\"]\n",
    "FSpassord = os.environ[\"FSpassord\"]\n",
    "\n",
    "def query_FS_graphql(query, variable):\n",
    "    hode = {\n",
    "        'Accept': 'application/json;version=1',\n",
    "        \"Feature-Flags\": \"beta, experimental\"\n",
    "    }\n",
    "    GraphQLurl = \"https://api.fellesstudentsystem.no/graphql/\"\n",
    "    svar = requests.post(\n",
    "        GraphQLurl, \n",
    "        json = {\n",
    "            'query': query,\n",
    "            'variables': variable\n",
    "        },\n",
    "        headers=hode,\n",
    "        auth=(FSbrukar, FSpassord))\n",
    "    if 200 <= svar.status_code < 300:\n",
    "        return svar.json()\n",
    "    else:\n",
    "        return \n"
   ]
  },
  {
   "cell_type": "code",
   "execution_count": 2,
   "metadata": {},
   "outputs": [],
   "source": [
    "query_termin = \"\"\"\n",
    "query MyQuery($arstall: [Int!], $terminbetegnelse: [ID!]) {\n",
    "  terminer(\n",
    "    filter: {eierOrganisasjonskode: \"0203\", arstall: $arstall, terminbetegnelser: $terminbetegnelse}\n",
    "  ) {\n",
    "    nodes {\n",
    "      id\n",
    "      betegnelse {\n",
    "        kode\n",
    "      }\n",
    "      arstall\n",
    "    }\n",
    "  }\n",
    "}\n",
    "\"\"\"\n",
    "\n",
    "\n",
    "query_emneid = \"\"\"\n",
    "query MyQuery($emnekode: [String!]) {\n",
    "  emner(filter: {eierInstitusjonsnummer: \"0203\", emnekoder: $emnekode}) {\n",
    "    nodes {\n",
    "      id\n",
    "    }\n",
    "  }\n",
    "}\n",
    "\"\"\"\n",
    "\n",
    "query_vurderingsenheter = \"\"\"\n",
    "query MyQuery ($emne_id: [ID!], $termin_id: [ID!], $emnekode: String!) {\n",
    "  vurderingsenheter(\n",
    "    filter: {eierOrganisasjonskode: \"203\", emner: $emne_id, terminer: $termin_id}\n",
    "  ) {\n",
    "    nodes {\n",
    "      vurderingsmeldinger {\n",
    "        student {\n",
    "          vurderingsforsokForEmner(emnekoder: {emnekode: $emnekode, versjonskode: \"1\"}) {\n",
    "            antallTellendeForsok\n",
    "          }\n",
    "          studentnummer\n",
    "        }\n",
    "      }\n",
    "    }\n",
    "  }\n",
    "}\n",
    "\"\"\"\n",
    "\n",
    "query_undervisningsaktiviteter = \"\"\"\n",
    "query MyQuery($emne_id: [ID!], $termin_id: [ID!]) {\n",
    "  undervisningsenheter(\n",
    "    filter: {eierOrganisasjonskode: \"203\", emner: $emne_id, terminer: $termin_id}\n",
    "  ) {\n",
    "    nodes {\n",
    "      undervisningsaktiviteter {\n",
    "        nodes {\n",
    "          id\n",
    "        }\n",
    "      }\n",
    "    }\n",
    "  }\n",
    "}\n",
    "\"\"\"\n",
    "\n",
    "query_partiplassering = \"\"\"\n",
    "query MyQuery($undervisningsaktiviteter: [ID!]) {\n",
    "undervisningspartiplasseringer(\n",
    "    filter: {eierOrganisasjonskode: \"203\", emneSkalEksporteresTilLms: true, undervisningsaktiviteter: $undervisningsaktiviteter}\n",
    "    first: 1000\n",
    "  ) {\n",
    "    nodes {\n",
    "      student {\n",
    "        studentnummer\n",
    "      }\n",
    "      undervisningsaktivitet {\n",
    "        kode\n",
    "      }\n",
    "    }\n",
    "  }\n",
    "}\n",
    "\"\"\""
   ]
  },
  {
   "cell_type": "code",
   "execution_count": 13,
   "metadata": {},
   "outputs": [],
   "source": [
    "emnekode = \"BYG102\"\n",
    "år = 2025\n",
    "termin = \"VÅR\"\n"
   ]
  },
  {
   "cell_type": "code",
   "execution_count": 14,
   "metadata": {},
   "outputs": [
    {
     "name": "stdout",
     "output_type": "stream",
     "text": [
      "MTE2OjIwMywyMDI1LFbDhVI\n"
     ]
    }
   ],
   "source": [
    "\n",
    "if termin == \"VÅR\":\n",
    "    terminbetegnelse = \"MTE3OjIwMyxWw4VS\"\n",
    "else:\n",
    "    terminbetegnelse = \"MTE3OjIwMyxIw5hTVA\"\n",
    "variable = {'arstall': år, 'terminbetegnelse': terminbetegnelse}\n",
    "svar = query_FS_graphql(query_termin, variable)\n",
    "termin_id = svar['data']['terminer']['nodes'][0]['id']\n",
    "print(termin_id)"
   ]
  },
  {
   "cell_type": "code",
   "execution_count": 15,
   "metadata": {},
   "outputs": [
    {
     "name": "stdout",
     "output_type": "stream",
     "text": [
      "MjA6MjAzLDIwMyxCWUcxMDIsMQ\n"
     ]
    }
   ],
   "source": [
    "\n",
    "variable = {'emnekode': emnekode, }\n",
    "svar = query_FS_graphql(query_emneid, variable)\n",
    "emne_id = svar['data']['emner']['nodes'][0]['id']\n",
    "print(emne_id)"
   ]
  },
  {
   "cell_type": "code",
   "execution_count": 16,
   "metadata": {},
   "outputs": [
    {
     "name": "stdout",
     "output_type": "stream",
     "text": [
      "['MTIwOjIwMywyMDMsQllHMTAyLDEsMjAyNSxWw4VSLDEsMA', 'MTIwOjIwMywyMDMsQllHMTAyLDEsMjAyNSxWw4VSLDEsMQ', 'MTIwOjIwMywyMDMsQllHMTAyLDEsMjAyNSxWw4VSLDEsMw', 'MTIwOjIwMywyMDMsQllHMTAyLDEsMjAyNSxWw4VSLDEsNA']\n"
     ]
    }
   ],
   "source": [
    "variable = {'emne_id': emne_id, 'termin_id': termin_id}\n",
    "svar = query_FS_graphql(query_undervisningsaktiviteter, variable)\n",
    "temp = svar['data']['undervisningsenheter']['nodes'][0]['undervisningsaktiviteter']['nodes']\n",
    "UA_liste = []\n",
    "for ua in temp:\n",
    "    UA_liste.append(ua['id'])\n",
    "print(UA_liste)"
   ]
  },
  {
   "cell_type": "code",
   "execution_count": 17,
   "metadata": {},
   "outputs": [
    {
     "name": "stdout",
     "output_type": "stream",
     "text": [
      "157\n"
     ]
    }
   ],
   "source": [
    "variable = {'undervisningsaktiviteter': UA_liste}\n",
    "svar = query_FS_graphql(query_partiplassering, variable)\n",
    "partiplasseringer = svar['data']['undervisningspartiplasseringer']['nodes']\n",
    "plassert = []\n",
    "for p in partiplasseringer:\n",
    "    plassert.append([p['student']['studentnummer'], p['undervisningsaktivitet']['kode']])\n",
    "print(len(plassert))\n"
   ]
  },
  {
   "cell_type": "code",
   "execution_count": 18,
   "metadata": {},
   "outputs": [
    {
     "name": "stdout",
     "output_type": "stream",
     "text": [
      "21\n"
     ]
    }
   ],
   "source": [
    "variable = {'emne_id': emne_id, 'termin': termin_id, 'emnekode': emnekode}\n",
    "svar = query_FS_graphql(query_vurderingsenheter, variable)\n",
    "vurderingsmeldingar = svar['data']['vurderingsenheter']['nodes']\n",
    "ekstra_vurderingsmeldt = []\n",
    "for v in vurderingsmeldingar:\n",
    "    if len(v['vurderingsmeldinger']) > 0:\n",
    "        for s in v['vurderingsmeldinger']:\n",
    "            if len(s['student']['vurderingsforsokForEmner']) > 0:\n",
    "                # print(f\"{s['student']['studentnummer']} - {s['student']['vurderingsforsokForEmner'][0]['antallTellendeForsok']}\")\n",
    "                ekstra_vurderingsmeldt.append(f\"{s['student']['studentnummer']}@stud.hvl.no\")\n",
    "print(len(ekstra_vurderingsmeldt))"
   ]
  },
  {
   "cell_type": "code",
   "execution_count": 19,
   "metadata": {},
   "outputs": [
    {
     "data": {
      "text/plain": [
       "['594287@stud.hvl.no',\n",
       " '584909@stud.hvl.no',\n",
       " '601860@stud.hvl.no',\n",
       " '594287@stud.hvl.no',\n",
       " '584909@stud.hvl.no',\n",
       " '601860@stud.hvl.no',\n",
       " '798386@stud.hvl.no',\n",
       " '594287@stud.hvl.no',\n",
       " '584909@stud.hvl.no',\n",
       " '601860@stud.hvl.no',\n",
       " '798386@stud.hvl.no',\n",
       " '594287@stud.hvl.no',\n",
       " '584909@stud.hvl.no',\n",
       " '601860@stud.hvl.no',\n",
       " '798386@stud.hvl.no',\n",
       " '673182@stud.hvl.no',\n",
       " '594287@stud.hvl.no',\n",
       " '584909@stud.hvl.no',\n",
       " '601860@stud.hvl.no',\n",
       " '798386@stud.hvl.no',\n",
       " '673182@stud.hvl.no']"
      ]
     },
     "execution_count": 19,
     "metadata": {},
     "output_type": "execute_result"
    }
   ],
   "source": [
    "ekstra_vurderingsmeldt"
   ]
  },
  {
   "cell_type": "markdown",
   "metadata": {},
   "source": [
    "For å sjekke om \"query_partiplassering\" spør etter dei rette data kan eg hente ned data som vet sendt frå FS til Canvas kvar natt, og så plukke ut alle som er meldt på i emnet:"
   ]
  },
  {
   "cell_type": "code",
   "execution_count": null,
   "metadata": {},
   "outputs": [
    {
     "name": "stdout",
     "output_type": "stream",
     "text": [
      "161\n"
     ]
    },
    {
     "name": "stderr",
     "output_type": "stream",
     "text": [
      "C:\\Users\\AKV\\AppData\\Local\\Temp\\ipykernel_21748\\2459036833.py:2: DtypeWarning: Columns (0) have mixed types. Specify dtype option on import or set low_memory=False.\n",
      "  enrollments = pd.read_csv(\"enrollments.csv\")\n"
     ]
    }
   ],
   "source": [
    "enrollments = pd.read_csv(\"enrollments.csv\")\n",
    "enrollments = enrollments.copy()\n",
    "enrollments.dropna(subset=['section_id'], inplace=True)\n",
    "emnestreng = f\"{emnekode}_1_{år}_{termin}_1_\"\n",
    "undervisingsmeldt = enrollments[enrollments['section_id'].str.contains(emnestreng)]"
   ]
  },
  {
   "cell_type": "code",
   "execution_count": 32,
   "metadata": {},
   "outputs": [
    {
     "data": {
      "text/plain": [
       "seksjon\n",
       "3    81\n",
       "1    76\n",
       "Name: count, dtype: int64"
      ]
     },
     "execution_count": 32,
     "metadata": {},
     "output_type": "execute_result"
    }
   ],
   "source": [
    "partiplassert = pd.DataFrame(plassert, columns=['studentnummer', 'seksjon'])\n",
    "partiplassert['seksjon'].value_counts()"
   ]
  },
  {
   "cell_type": "code",
   "execution_count": 33,
   "metadata": {},
   "outputs": [
    {
     "data": {
      "text/plain": [
       "seksjon\n",
       "3    83\n",
       "1    78\n",
       "Name: count, dtype: int64"
      ]
     },
     "execution_count": 33,
     "metadata": {},
     "output_type": "execute_result"
    }
   ],
   "source": [
    "undervisingsmeldt = undervisingsmeldt.copy()\n",
    "undervisingsmeldt['seksjon'] = undervisingsmeldt['section_id'].apply(lambda x: x[-1:])\n",
    "undervisingsmeldt['seksjon'].value_counts()"
   ]
  },
  {
   "cell_type": "markdown",
   "metadata": {},
   "source": [
    "Som eit alternativ til å hente frå SIS-import kvar natt (som kan vere ei stor fil) kan eg hente påmeldte studentar drekte frå emnet. Men då må eg vite den interne koden for emnet i Canvas. Den finn eg ikkje frå `emnestreng`."
   ]
  },
  {
   "cell_type": "code",
   "execution_count": 44,
   "metadata": {},
   "outputs": [],
   "source": [
    "url = f\"https://hvl.instructure.com/api/v1/accounts/1?search_term={emnestreng}\"\n",
    "respons = requests.get(url, headers=headers, params=params)\n",
    "emne = respons.json()"
   ]
  },
  {
   "cell_type": "code",
   "execution_count": 45,
   "metadata": {},
   "outputs": [
    {
     "ename": "TypeError",
     "evalue": "string indices must be integers, not 'str'",
     "output_type": "error",
     "traceback": [
      "\u001b[1;31m---------------------------------------------------------------------------\u001b[0m",
      "\u001b[1;31mTypeError\u001b[0m                                 Traceback (most recent call last)",
      "Cell \u001b[1;32mIn[45], line 2\u001b[0m\n\u001b[0;32m      1\u001b[0m \u001b[38;5;28;01mfor\u001b[39;00m e \u001b[38;5;129;01min\u001b[39;00m emne:\n\u001b[1;32m----> 2\u001b[0m     \u001b[38;5;28mprint\u001b[39m(\u001b[43me\u001b[49m\u001b[43m[\u001b[49m\u001b[38;5;124;43m'\u001b[39;49m\u001b[38;5;124;43mid\u001b[39;49m\u001b[38;5;124;43m'\u001b[39;49m\u001b[43m]\u001b[49m, e[\u001b[38;5;124m'\u001b[39m\u001b[38;5;124mname\u001b[39m\u001b[38;5;124m'\u001b[39m])\n",
      "\u001b[1;31mTypeError\u001b[0m: string indices must be integers, not 'str'"
     ]
    }
   ],
   "source": [
    "for e in emne:\n",
    "    print(e['id'], e['name'])"
   ]
  },
  {
   "cell_type": "code",
   "execution_count": 46,
   "metadata": {},
   "outputs": [
    {
     "data": {
      "text/plain": [
       "{'id': 1,\n",
       " 'name': 'Høgskulen på Vestlandet',\n",
       " 'workflow_state': 'active',\n",
       " 'parent_account_id': None,\n",
       " 'root_account_id': None,\n",
       " 'uuid': 'KjYXFlWyqIP306jMLrOxOE6QSU1S8oF5m5tfbXyd',\n",
       " 'default_storage_quota_mb': 524,\n",
       " 'default_user_storage_quota_mb': 524,\n",
       " 'default_group_storage_quota_mb': 524,\n",
       " 'default_time_zone': 'Europe/Copenhagen',\n",
       " 'course_template_id': None}"
      ]
     },
     "execution_count": 46,
     "metadata": {},
     "output_type": "execute_result"
    }
   ],
   "source": [
    "emne"
   ]
  },
  {
   "cell_type": "code",
   "execution_count": null,
   "metadata": {},
   "outputs": [],
   "source": []
  }
 ],
 "metadata": {
  "kernelspec": {
   "display_name": "Python 3",
   "language": "python",
   "name": "python3"
  },
  "language_info": {
   "codemirror_mode": {
    "name": "ipython",
    "version": 3
   },
   "file_extension": ".py",
   "mimetype": "text/x-python",
   "name": "python",
   "nbconvert_exporter": "python",
   "pygments_lexer": "ipython3",
   "version": "3.12.3"
  }
 },
 "nbformat": 4,
 "nbformat_minor": 2
}
