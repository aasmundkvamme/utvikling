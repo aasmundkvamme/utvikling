{
 "cells": [
  {
   "cell_type": "code",
   "execution_count": 22,
   "metadata": {},
   "outputs": [],
   "source": [
    "import requests\n",
    "import pandas as pd\n",
    "\n",
    "tokenCanvas=\"10747~lGBNJqxBXPlYOYvb8lHvCNn9yXQo91Gu6LC3vfySqhrVl0F2hjzKNyD8KBVOsGKL\"\n",
    "parametreCanvas = {'per_page': '100'}\n",
    "hodeCanvas = {'Authorization': 'Bearer ' + tokenCanvas}\n",
    "\n",
    "def finn_rel(link_header):\n",
    "    link_header_dict = {}\n",
    "    for link in link_header.split(\",\"):\n",
    "        url, rel = link.strip().split(\";\")\n",
    "        rel = rel.split('=')[1]\n",
    "        link_header_dict[rel.strip().replace('\"', '')] = url.strip().replace('<', '').replace('>', '')      # Kommentar: denne er med BERRE for å skape balanse i .org-fila: \\\"\n",
    "    return link_header_dict\n",
    "\n",
    "emne = 10747\n",
    "emne_url = f\"https://hvl.instructure.com:443/api/v1/courses/{emne}\"\n",
    "resultat = requests.get(emne_url, headers=hodeCanvas)\n",
    "if 200 <= resultat.status_code < 300:\n",
    "    data = resultat.json()\n",
    "    emnenamn = data['name']\n",
    "    emnekode = data['sis_course_id']\n",
    "else:\n",
    "    emnenamn = \"Manglar namn\"\n",
    "    emnekode = \"0\"\n",
    "gruppe_url = f\"https://hvl.instructure.com:443/api/v1/courses/{emne}/groups\"\n",
    "resultat = requests.get(gruppe_url, )\n",
    "\n",
    "dr_liste = []\n",
    "hentmeir = True\n",
    "while hentmeir:\n",
    "    respons = requests.get(gruppe_url, headers=hodeCanvas, params=parametreCanvas)\n",
    "    if 200 <= respons.status_code < 300:\n",
    "        data = respons.json()\n",
    "        hentmeir = \"next\" in respons.headers['link']\n",
    "        if hentmeir:\n",
    "            url = finn_rel(respons.headers['link'])['next']\n",
    "            print(url)   # for kontrollen sin skuld\n",
    "# Hent ut data (NB! dette vil variere frå endepunkt til endepunkt)\n",
    "        dataliste = []\n",
    "        for element in data:\n",
    "            if element['members_count'] > 0:\n",
    "                dataliste.append([element['id'], element['name'], element['members_count']])\n",
    "        df = pd.DataFrame(dataliste, columns=['id', 'name', 'antal'])\n",
    "        dr_liste.append(df)\n",
    "# og etter at eg er ferdig å lese inn slår eg dei saman:\n",
    "grupper = pd.concat((df for df in dr_liste if not df.empty), ignore_index=True).to_dict('records')"
   ]
  },
  {
   "cell_type": "code",
   "execution_count": 8,
   "metadata": {},
   "outputs": [
    {
     "data": {
      "text/plain": [
       "[{'id': 127438, 'name': 'Isolert gruppe', 'antal': 1},\n",
       " {'id': 80951, 'name': 'Praksis 1', 'antal': 2},\n",
       " {'id': 80950, 'name': 'Praksis 2', 'antal': 1},\n",
       " {'id': 101388, 'name': 'Aasmunds testgruppe', 'antal': 4},\n",
       " {'id': 127435, 'name': 'Gruppe A', 'antal': 2},\n",
       " {'id': 127433, 'name': 'Gruppe B', 'antal': 2}]"
      ]
     },
     "execution_count": 8,
     "metadata": {},
     "output_type": "execute_result"
    }
   ],
   "source": [
    "grupper"
   ]
  },
  {
   "cell_type": "code",
   "execution_count": 34,
   "metadata": {},
   "outputs": [
    {
     "name": "stdout",
     "output_type": "stream",
     "text": [
      "Isolert gruppe\n",
      "Praksis 1\n",
      "Praksis 2\n",
      "Aasmunds testgruppe\n",
      "Gruppe A\n",
      "Gruppe B\n",
      "course_id, section_id, status, sis_user_id\n",
      "HVL180219-E1,HVL180219-E1_Isolert gruppe,active,fs:203:668693\n",
      "HVL180219-E1,HVL180219-E1_Praksis 1,active,fs:203:31924\n",
      "HVL180219-E1,HVL180219-E1_Praksis 1,active,hvl220602-p1-akv\n",
      "HVL180219-E1,HVL180219-E1_Praksis 2,active,hvl-160824-tp1-aliry\n",
      "HVL180219-E1,HVL180219-E1_Aasmunds testgruppe,active,fs:203:668693\n",
      "HVL180219-E1,HVL180219-E1_Aasmunds testgruppe,active,fs:203:31924\n",
      "HVL180219-E1,HVL180219-E1_Aasmunds testgruppe,active,hvl220602-p1-akv\n",
      "HVL180219-E1,HVL180219-E1_Aasmunds testgruppe,active,hvl-160824-tp1-aliry\n",
      "HVL180219-E1,HVL180219-E1_Gruppe A,active,fs:203:668693\n",
      "HVL180219-E1,HVL180219-E1_Gruppe A,active,fs:203:31924\n",
      "HVL180219-E1,HVL180219-E1_Gruppe B,active,hvl220602-p1-akv\n",
      "HVL180219-E1,HVL180219-E1_Gruppe B,active,hvl-160824-tp1-aliry\n"
     ]
    }
   ],
   "source": [
    "sis_fil = \"course_id, section_id, status, sis_user_id\"\n",
    "for g in grupper:\n",
    "    parametre = {'course_section[name]': g['name'], 'course_section[sis_section_id]': f\"{emnekode}_{g['name']}\", 'course_section[workflow_state]': 'active'}\n",
    "    url = f\"https://hvl.instructure.com/api/v1/courses/{emne}/sections\"\n",
    "    resultat = requests.post(url, headers=hodeCanvas, params=parametre)\n",
    "    tekstline = f\"{emnekode},{emnekode}_{g['name']},active\"\n",
    "    print(g['name'])\n",
    "    url = f\"https://hvl.instructure.com/api/v1/groups/{g['id']}/users\"\n",
    "    respons = requests.get(url, headers=hodeCanvas)\n",
    "    if 200 <= respons.status_code < 300:\n",
    "        data = respons.json()\n",
    "        for i in data:\n",
    "            tekstline += f\",{i['sis_user_id']}\"\n",
    "            sis_fil += f\"\\n{tekstline}\"\n",
    "            tekstline = f\"{emnekode},{emnekode}_{g['name']},active\"\n",
    "print(sis_fil)"
   ]
  },
  {
   "cell_type": "code",
   "execution_count": null,
   "metadata": {},
   "outputs": [],
   "source": []
  }
 ],
 "metadata": {
  "kernelspec": {
   "display_name": "Python 3",
   "language": "python",
   "name": "python3"
  },
  "language_info": {
   "codemirror_mode": {
    "name": "ipython",
    "version": 3
   },
   "file_extension": ".py",
   "mimetype": "text/x-python",
   "name": "python",
   "nbconvert_exporter": "python",
   "pygments_lexer": "ipython3",
   "version": "3.10.12"
  }
 },
 "nbformat": 4,
 "nbformat_minor": 2
}
