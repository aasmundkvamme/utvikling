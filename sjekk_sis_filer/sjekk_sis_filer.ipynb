{
 "cells": [
  {
   "cell_type": "code",
   "execution_count": 1,
   "metadata": {},
   "outputs": [],
   "source": [
    "import requests\n",
    "import pandas as pd\n",
    "import os\n",
    "from io import StringIO\n",
    "from datetime import datetime\n",
    "\n",
    "Canvastoken = os.environ[\"tokenCanvas\"]\n",
    "idag = datetime.today().isoformat()[0:10]"
   ]
  },
  {
   "cell_type": "code",
   "execution_count": 72,
   "metadata": {},
   "outputs": [
    {
     "name": "stdout",
     "output_type": "stream",
     "text": [
      "2025-02-06T02:25:10Z\n"
     ]
    }
   ],
   "source": [
    "url = \"https://hvl.instructure.com/api/v1/accounts/1/sis_imports\"\n",
    "svar = requests.get(url, headers={\"Authorization\": f\"Bearer {Canvastoken}\"})\n",
    "importer = svar.json()\n",
    "for i in importer['sis_imports']:\n",
    "    if (\"errors_attachment\" in i) and (i['created_at'] > idag):\n",
    "        print(i['created_at'])\n",
    "        fil = i[\"errors_attachment\"]['url']\n",
    "        data = pd.read_csv(StringIO(requests.get(fil, headers={\"Authorization\": f\"Bearer {Canvastoken}\"}).content.decode(\"utf-8\")))"
   ]
  },
  {
   "cell_type": "code",
   "execution_count": 73,
   "metadata": {},
   "outputs": [
    {
     "name": "stdout",
     "output_type": "stream",
     "text": [
      "<class 'pandas.core.frame.DataFrame'>\n",
      "RangeIndex: 35939 entries, 0 to 35938\n",
      "Data columns (total 4 columns):\n",
      " #   Column         Non-Null Count  Dtype \n",
      "---  ------         --------------  ----- \n",
      " 0   sis_import_id  35939 non-null  int64 \n",
      " 1   file           35939 non-null  object\n",
      " 2   message        35939 non-null  object\n",
      " 3   row            35939 non-null  int64 \n",
      "dtypes: int64(2), object(2)\n",
      "memory usage: 1.1+ MB\n"
     ]
    }
   ],
   "source": [
    "\n",
    "data.info()"
   ]
  },
  {
   "cell_type": "code",
   "execution_count": 76,
   "metadata": {},
   "outputs": [],
   "source": [
    "brukarar = data[data['message'].str.startswith('User not found')]"
   ]
  },
  {
   "cell_type": "code",
   "execution_count": 80,
   "metadata": {},
   "outputs": [
    {
     "name": "stdout",
     "output_type": "stream",
     "text": [
      "User not found for enrollment (User ID: fs:203:137906, Course ID: , Section ID: UA_203_FHS8201_1_2025_VÅR_1_1)\n",
      "User not found for enrollment (User ID: fs:203:137906, Course ID: , Section ID: ST_0203100000)\n",
      "User not found for enrollment (User ID: fs:203:187098, Course ID: , Section ID: UE_203_RE6-2008_1_2024_HØST_1)\n",
      "User not found for enrollment (User ID: fs:203:1306162, Course ID: , Section ID: UE_203_PHDINN903_1_2025_VÅR_1)\n",
      "User not found for enrollment (User ID: fs:203:137906, Course ID: , Section ID: UE_203_FHS8202_1_2025_VÅR_1)\n",
      "User not found for enrollment (User ID: fs:203:137906, Course ID: , Section ID: UE_203_FHS8201_1_2025_VÅR_1)\n"
     ]
    }
   ],
   "source": [
    "for b in brukarar['message']:\n",
    "    print(b)"
   ]
  },
  {
   "cell_type": "code",
   "execution_count": null,
   "metadata": {},
   "outputs": [],
   "source": []
  },
  {
   "cell_type": "code",
   "execution_count": null,
   "metadata": {},
   "outputs": [],
   "source": []
  },
  {
   "cell_type": "code",
   "execution_count": null,
   "metadata": {},
   "outputs": [],
   "source": []
  },
  {
   "cell_type": "code",
   "execution_count": null,
   "metadata": {},
   "outputs": [],
   "source": []
  },
  {
   "cell_type": "code",
   "execution_count": null,
   "metadata": {},
   "outputs": [],
   "source": []
  }
 ],
 "metadata": {
  "kernelspec": {
   "display_name": "Python 3",
   "language": "python",
   "name": "python3"
  },
  "language_info": {
   "codemirror_mode": {
    "name": "ipython",
    "version": 3
   },
   "file_extension": ".py",
   "mimetype": "text/x-python",
   "name": "python",
   "nbconvert_exporter": "python",
   "pygments_lexer": "ipython3",
   "version": "3.12.3"
  }
 },
 "nbformat": 4,
 "nbformat_minor": 2
}
