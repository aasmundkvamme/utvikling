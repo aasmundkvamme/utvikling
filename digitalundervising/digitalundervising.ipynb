{
 "cells": [
  {
   "cell_type": "code",
   "execution_count": 4,
   "metadata": {},
   "outputs": [],
   "source": [
    "import pandas as pd\n",
    "import glob\n",
    "\n",
    "def finn_side(lenke):\n",
    "    return lenke.split(\"?\")[0].split(\"/\")[-1]\n"
   ]
  },
  {
   "cell_type": "markdown",
   "metadata": {},
   "source": [
    "# Statistikk over sider på \"Digitalundervising\"\n",
    "\n",
    "Eg lager ein oversikt over kor mange ganger enkelte sider i emnet vert besøkt.."
   ]
  },
  {
   "cell_type": "code",
   "execution_count": null,
   "metadata": {},
   "outputs": [],
   "source": [
    "# Get list of all files starting with \"digitalundervising\"\n",
    "files = glob.glob(\"digitalundervising_*.csv\")\n",
    "sideoversikt = pd.DataFrame(columns=['side', 'antal'])\n",
    "\n",
    "# Read all files into a list of dataframes\n",
    "for file in files:\n",
    "    df = pd.read_csv(file)\n",
    "    df['side'] = df['index'].apply(finn_side)\n",
    "\n",
    "    for i, r in df.iterrows():\n",
    "        if r['side'] in sideoversikt['side'].values:\n",
    "            sideoversikt.loc[sideoversikt['side'] == r['side'], 'antal'] += r['frekvens']\n",
    "        else:\n",
    "            ny_rad = pd.DataFrame({'side': [r['side']], 'antal': [r['frekvens']]})  # Note the square brackets here\n",
    "            sideoversikt = pd.concat([sideoversikt, ny_rad], ignore_index=True)\n",
    "    \n",
    "\n",
    "sideoversikt.to_csv('sideoversikt.csv', index=False)"
   ]
  },
  {
   "cell_type": "code",
   "execution_count": null,
   "metadata": {},
   "outputs": [],
   "source": []
  }
 ],
 "metadata": {
  "kernelspec": {
   "display_name": "Python 3",
   "language": "python",
   "name": "python3"
  },
  "language_info": {
   "codemirror_mode": {
    "name": "ipython",
    "version": 3
   },
   "file_extension": ".py",
   "mimetype": "text/x-python",
   "name": "python",
   "nbconvert_exporter": "python",
   "pygments_lexer": "ipython3",
   "version": "3.12.3"
  }
 },
 "nbformat": 4,
 "nbformat_minor": 2
}
