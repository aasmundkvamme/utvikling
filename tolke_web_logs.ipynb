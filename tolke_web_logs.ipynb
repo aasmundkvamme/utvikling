{
 "cells": [
  {
   "cell_type": "code",
   "execution_count": 1,
   "metadata": {},
   "outputs": [],
   "source": [
    "import pandas as pd\n",
    "data1 = pd.read_csv(\"web_logs-202501141026-0.txt\")\n",
    "data2 = pd.read_csv(\"web_logs-202501141027-1.txt\")"
   ]
  },
  {
   "cell_type": "code",
   "execution_count": 2,
   "metadata": {},
   "outputs": [],
   "source": [
    "data = pd.concat([data1, data2])"
   ]
  },
  {
   "cell_type": "code",
   "execution_count": 9,
   "metadata": {},
   "outputs": [],
   "source": [
    "assets = data[['value.user_id', 'value.timestamp', 'value.url', 'value.course_id', 'value.web_application_controller', 'value.web_application_action', 'value.web_application_context_type']]"
   ]
  },
  {
   "cell_type": "code",
   "execution_count": 19,
   "metadata": {},
   "outputs": [
    {
     "name": "stdout",
     "output_type": "stream",
     "text": [
      "<class 'pandas.core.frame.DataFrame'>\n",
      "Index: 3512279 entries, 0 to 1872409\n",
      "Data columns (total 6 columns):\n",
      " #   Column                              Dtype  \n",
      "---  ------                              -----  \n",
      " 0   value.user_id                       float64\n",
      " 1   value.url                           object \n",
      " 2   value.course_id                     float64\n",
      " 3   value.web_application_controller    object \n",
      " 4   value.web_application_action        object \n",
      " 5   value.web_application_context_type  object \n",
      "dtypes: float64(2), object(4)\n",
      "memory usage: 187.6+ MB\n"
     ]
    }
   ],
   "source": [
    "assets.info()"
   ]
  },
  {
   "cell_type": "code",
   "execution_count": 10,
   "metadata": {},
   "outputs": [],
   "source": [
    "temp = assets[~assets['value.url'].str.contains('/api/')]\n",
    "bruk = temp.dropna(subset=['value.user_id', 'value.web_application_context_type'])\n"
   ]
  },
  {
   "cell_type": "code",
   "execution_count": 12,
   "metadata": {},
   "outputs": [],
   "source": [
    "bruk.to_csv('bruk.csv', index=False)"
   ]
  },
  {
   "cell_type": "code",
   "execution_count": 11,
   "metadata": {},
   "outputs": [
    {
     "data": {
      "text/plain": [
       "value.web_application_context_type\n",
       "Course                234730\n",
       "User                   71344\n",
       "Group                   2665\n",
       "UserProfile              331\n",
       "Account                   74\n",
       "AssessmentQuestion        31\n",
       "CourseSection              1\n",
       "Name: count, dtype: int64"
      ]
     },
     "execution_count": 11,
     "metadata": {},
     "output_type": "execute_result"
    }
   ],
   "source": [
    "bruk['value.web_application_context_type'].value_counts()"
   ]
  },
  {
   "cell_type": "code",
   "execution_count": 20,
   "metadata": {},
   "outputs": [],
   "source": [
    "utan_emne = bruk[bruk['value.course_id'].isnull()]"
   ]
  },
  {
   "cell_type": "code",
   "execution_count": 22,
   "metadata": {},
   "outputs": [
    {
     "data": {
      "text/plain": [
       "value.web_application_action\n",
       "user_dashboard                      48138\n",
       "public_feed                         13973\n",
       "show                                10570\n",
       "index                                 785\n",
       "roster                                177\n",
       "settings                              128\n",
       "create_pending                        118\n",
       "manageable_courses                    113\n",
       "communication                          81\n",
       "front_page                             59\n",
       "react_files                            58\n",
       "user_index                             50\n",
       "retrieve                               32\n",
       "assessment_question_show               31\n",
       "render_past_global_announcements       30\n",
       "qr_mobile_login                        22\n",
       "new                                    19\n",
       "create                                 11\n",
       "users                                   9\n",
       "edit                                    9\n",
       "roster_user                             8\n",
       "join                                    6\n",
       "destroy                                 5\n",
       "clone_with_name                         3\n",
       "update                                  2\n",
       "content_shares                          2\n",
       "success                                 1\n",
       "roster_user_services                    1\n",
       "close                                   1\n",
       "Name: count, dtype: int64"
      ]
     },
     "execution_count": 22,
     "metadata": {},
     "output_type": "execute_result"
    }
   ],
   "source": [
    "utan_emne['value.web_application_action'].value_counts()"
   ]
  },
  {
   "cell_type": "code",
   "execution_count": 25,
   "metadata": {},
   "outputs": [
    {
     "data": {
      "text/plain": [
       "value.web_application_controller\n",
       "files                    62545\n",
       "courses                  24747\n",
       "discussion_topics        15270\n",
       "wiki_pages               10475\n",
       "file_previews             4986\n",
       "external_tools            3804\n",
       "assignments               3547\n",
       "quizzes/quizzes           2885\n",
       "calendars                 1921\n",
       "groups                     773\n",
       "context_modules            653\n",
       "announcements              203\n",
       "submissions/previews       156\n",
       "gradebooks                 102\n",
       "collaborations              79\n",
       "submissions/downloads       75\n",
       "submissions                 61\n",
       "accounts                    37\n",
       "calendar_events             35\n",
       "profile                     23\n",
       "users                       16\n",
       "appointment_groups           9\n",
       "sections                     1\n",
       "Name: count, dtype: int64"
      ]
     },
     "execution_count": 25,
     "metadata": {},
     "output_type": "execute_result"
    }
   ],
   "source": [
    "bruk[bruk['value.web_application_action']==\"show\"]['value.web_application_controller'].value_counts()"
   ]
  },
  {
   "cell_type": "code",
   "execution_count": 26,
   "metadata": {},
   "outputs": [],
   "source": [
    "ekstern = bruk[bruk[\"value.web_application_controller\"] == \"external_tool\"]"
   ]
  },
  {
   "cell_type": "code",
   "execution_count": 27,
   "metadata": {},
   "outputs": [
    {
     "data": {
      "text/html": [
       "<div>\n",
       "<style scoped>\n",
       "    .dataframe tbody tr th:only-of-type {\n",
       "        vertical-align: middle;\n",
       "    }\n",
       "\n",
       "    .dataframe tbody tr th {\n",
       "        vertical-align: top;\n",
       "    }\n",
       "\n",
       "    .dataframe thead th {\n",
       "        text-align: right;\n",
       "    }\n",
       "</style>\n",
       "<table border=\"1\" class=\"dataframe\">\n",
       "  <thead>\n",
       "    <tr style=\"text-align: right;\">\n",
       "      <th></th>\n",
       "      <th>value.user_id</th>\n",
       "      <th>value.timestamp</th>\n",
       "      <th>value.url</th>\n",
       "      <th>value.course_id</th>\n",
       "      <th>value.web_application_controller</th>\n",
       "      <th>value.web_application_action</th>\n",
       "      <th>value.web_application_context_type</th>\n",
       "    </tr>\n",
       "  </thead>\n",
       "  <tbody>\n",
       "  </tbody>\n",
       "</table>\n",
       "</div>"
      ],
      "text/plain": [
       "Empty DataFrame\n",
       "Columns: [value.user_id, value.timestamp, value.url, value.course_id, value.web_application_controller, value.web_application_action, value.web_application_context_type]\n",
       "Index: []"
      ]
     },
     "execution_count": 27,
     "metadata": {},
     "output_type": "execute_result"
    }
   ],
   "source": [
    "ekstern"
   ]
  },
  {
   "cell_type": "code",
   "execution_count": null,
   "metadata": {},
   "outputs": [],
   "source": []
  }
 ],
 "metadata": {
  "kernelspec": {
   "display_name": "Python 3",
   "language": "python",
   "name": "python3"
  },
  "language_info": {
   "codemirror_mode": {
    "name": "ipython",
    "version": 3
   },
   "file_extension": ".py",
   "mimetype": "text/x-python",
   "name": "python",
   "nbconvert_exporter": "python",
   "pygments_lexer": "ipython3",
   "version": "3.12.3"
  }
 },
 "nbformat": 4,
 "nbformat_minor": 2
}
