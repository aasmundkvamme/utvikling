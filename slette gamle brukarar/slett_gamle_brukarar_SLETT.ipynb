<<<<<<< Updated upstream
{
 "cells": [
  {
   "cell_type": "code",
   "execution_count": 93,
   "metadata": {},
   "outputs": [],
   "source": [
    "import requests\n",
    "import os\n",
    "import pandas as pd\n",
    "tokenCanvas = os.environ['tokenCanvas']\n",
    "\n",
    "headers = {\n",
    "    'Authorization': f'Bearer {tokenCanvas}',\n",
    "}\n",
    "params = {\n",
    "    'per_page': 100,\n",
    "}\n"
   ]
  },
  {
   "cell_type": "markdown",
   "metadata": {},
   "source": [
    "# Slette gamle brukarar\n",
    "Først les eg inn dei som er mest aktuelle å slette i første omgang:\n"
   ]
  },
  {
   "cell_type": "code",
   "execution_count": 102,
   "metadata": {},
   "outputs": [],
   "source": [
    "andre = pd.read_csv(\"andre.csv\")\n",
    "utan_sis = pd.read_csv(\"utan_sis.csv\")\n"
   ]
  },
  {
   "cell_type": "markdown",
   "metadata": {},
   "source": [
    "## Finne sist pålogging\n"
   ]
  },
  {
   "cell_type": "markdown",
   "metadata": {},
   "source": [
    "### Forsøk 1 (ikkje optimalt)\n",
    "Neste steg er tabellen `enrollments`; her får eg feltet `last_activity_at` som i følge dokumentasjonen er \n",
    "\n",
    "> The last activity time of the user for the enrollment. This time stamp updates when a user navigates through the course using the Course Navigation menu, replies to a discussion or submits an assignment or quiz, and when they access course files and pages (does not include mobile interactions or group participation).\n",
    "\n",
    "Det eg får ut er siste gang ein brukar var inne i eit gitt emne. Så eg må sjå på *alle* slike oppføringar for ein brukar, og så plukke ut den yngste. NB! Eg har henta data med skriptet \"les_CD2_tabell.ipynb\", men eg har berre lagra `user_id` og `course_id`. Dokumentasjonen tilrår å sjekke `course_section_id` og `role_id` også, for ein brukar kan jo ha vore logga på som student i eit emne og litt seinare som tilsett (eller studentassistent) i emnet. Men eg trur risikoen for dette er liten (det er jo eksterne faglærarar og kursdeltakarar dette).\n",
    "\n",
    "Eg vil helst gå gjennom lista `utan_sis` og sjekke siste pålogging for alle der (basert på `id`). Alle som har blank eller tidlegare enn 2024 kan eg sikkert slette?"
   ]
  },
  {
   "cell_type": "markdown",
   "metadata": {},
   "source": [
    "Eg må altså ta utgangspunkt i listene `utan_sis` og  `andre`, og så finne alle enrollments for dei personane. `enrollments` kan eg finne via CD2.\n",
    "\n",
    "I fila `enrollments.csv` har eg ei liste over person/emne/siste aktivitet, og då kan eg koble denne mot `utan_sis` og `andre`."
   ]
  },
  {
   "cell_type": "code",
   "execution_count": 95,
   "metadata": {},
   "outputs": [],
   "source": [
    "innmeldingar = pd.read_csv(\"enrollments.csv\")"
   ]
  },
  {
   "cell_type": "code",
   "execution_count": 96,
   "metadata": {},
   "outputs": [
    {
     "name": "stdout",
     "output_type": "stream",
     "text": [
      "<class 'pandas.core.frame.DataFrame'>\n",
      "RangeIndex: 352089 entries, 0 to 352088\n",
      "Data columns (total 7 columns):\n",
      " #   Column                  Non-Null Count   Dtype \n",
      "---  ------                  --------------   ----- \n",
      " 0   value.user_id           352089 non-null  int64 \n",
      " 1   value.course_id         352089 non-null  int64 \n",
      " 2   value.created_at        352089 non-null  object\n",
      " 3   value.workflow_state    352089 non-null  object\n",
      " 4   value.updated_at        352089 non-null  object\n",
      " 5   value.last_activity_at  255823 non-null  object\n",
      " 6   value.type              352089 non-null  object\n",
      "dtypes: int64(2), object(5)\n",
      "memory usage: 18.8+ MB\n"
     ]
    }
   ],
   "source": [
    "innmeldingar.info()"
   ]
  },
  {
   "cell_type": "markdown",
   "metadata": {},
   "source": [
    "Så plukker eg ut alle som har registrert siste aktivitet (ca. to tredelar av alle)"
   ]
  },
  {
   "cell_type": "code",
   "execution_count": 97,
   "metadata": {},
   "outputs": [],
   "source": [
    "registrert_sist_aktivitet = innmeldingar.dropna(subset=['value.last_activity_at'])"
   ]
  },
  {
   "cell_type": "markdown",
   "metadata": {},
   "source": [
    "Så går eg gjennom `andre.csv` (personar som ikkje kjem frå FS) og den nyaste aktiviteten i alle emne:"
   ]
  },
  {
   "cell_type": "code",
   "execution_count": null,
   "metadata": {},
   "outputs": [
    {
     "name": "stderr",
     "output_type": "stream",
     "text": [
      "C:\\Users\\AKV\\AppData\\Local\\Temp\\ipykernel_13848\\1240655680.py:10: FutureWarning: Series.__getitem__ treating keys as positions is deprecated. In a future version, integer keys will always be treated as labels (consistent with DataFrame behavior). To access a value by position, use `ser.iloc[pos]`\n",
      "  url = f\"https://hvl.instructure.com/api/v1/courses/{siste_emne[1]}\"\n"
     ]
    }
   ],
   "source": [
    "liste = []\n",
    "for i in andre['id']:\n",
    "    temp = registrert_sist_aktivitet[registrert_sist_aktivitet['value.user_id'] == i]\n",
    "    if len(temp) > 0:\n",
    "        url = f\"https://hvl.instructure.com/api/v1/users/{i}\"\n",
    "        respons = requests.get(url, headers=headers)\n",
    "        brukarnamn = respons.json()['name']\n",
    "        brukarepost = respons.json()['email']\n",
    "        siste_emne = temp.sort_values(by='value.last_activity_at', ascending=False).iloc[0]\n",
    "        url = f\"https://hvl.instructure.com/api/v1/courses/{siste_emne[1]}\"\n",
    "        respons = requests.get(url, headers=headers)\n",
    "        emne = respons.json()['name']\n",
    "        # print(f\"{i} ({brukar}) har aktivitet i {len(temp)} emne; siste aktivitet er {siste_emne['value.last_activity_at']} i emnet {siste_emne['value.course_id']}\")\n",
    "        liste.append([i, brukarnamn, brukarepost, siste_emne['value.last_activity_at'][:10], siste_emne['value.course_id'], emne])"
   ]
  },
  {
   "cell_type": "markdown",
   "metadata": {},
   "source": [
    "Og skriv denne til ei CSV-fil (for eventuell fletting til e-post):"
   ]
  },
  {
   "cell_type": "code",
   "execution_count": 99,
   "metadata": {},
   "outputs": [],
   "source": [
    "pd.DataFrame(liste, columns=['id', 'name', 'email', 'last_activity_at', 'course_id', 'course_name']).to_csv('liste.csv', index=False)"
   ]
  },
  {
   "cell_type": "markdown",
   "metadata": {},
   "source": [
    "Så finn eg namn på alle dei som ikkje har SIS-ID (uavhengig av om dei har `last_activity_at` eller ikkje):"
   ]
  },
  {
   "cell_type": "code",
   "execution_count": 103,
   "metadata": {},
   "outputs": [
    {
     "name": "stderr",
     "output_type": "stream",
     "text": [
      "C:\\Users\\AKV\\AppData\\Local\\Temp\\ipykernel_13848\\4043907790.py:10: FutureWarning: Series.__getitem__ treating keys as positions is deprecated. In a future version, integer keys will always be treated as labels (consistent with DataFrame behavior). To access a value by position, use `ser.iloc[pos]`\n",
      "  url = f\"https://hvl.instructure.com/api/v1/courses/{siste_emne[1]}\"\n"
     ]
    }
   ],
   "source": [
    "liste_utan_sis = []\n",
    "for i in utan_sis['id']:\n",
    "    temp = registrert_sist_aktivitet[registrert_sist_aktivitet['value.user_id'] == i]\n",
    "    if len(temp) > 0:\n",
    "        url = f\"https://hvl.instructure.com/api/v1/users/{i}\"\n",
    "        respons = requests.get(url, headers=headers)\n",
    "        brukarnamn = respons.json()['name']\n",
    "        brukarepost = respons.json()['email']\n",
    "        siste_emne = temp.sort_values(by='value.last_activity_at', ascending=False).iloc[0]\n",
    "        url = f\"https://hvl.instructure.com/api/v1/courses/{siste_emne[1]}\"\n",
    "        respons = requests.get(url, headers=headers)\n",
    "        emne = respons.json()['name']\n",
    "        # print(f\"{i} ({brukar}) har aktivitet i {len(temp)} emne; siste aktivitet er {siste_emne['value.last_activity_at']} i emnet {siste_emne['value.course_id']}\")\n",
    "        liste_utan_sis.append([i, brukarnamn, brukarepost, siste_emne['value.last_activity_at'][:10], siste_emne['value.course_id'], emne])\n"
   ]
  },
  {
   "cell_type": "markdown",
   "metadata": {},
   "source": [
    "Denne lista er ganske kort, og eg har no gått gjennom alle og sletta dei som ikkje skal vere der, og laga SIS-ID på dei andre.\n",
    "\n",
    "Så gjenstår den store tingen: kva med alle dei som eg ikkje har registrert `last_activity_at` på? Eg kan hente dei ut:"
   ]
  },
  {
   "cell_type": "code",
   "execution_count": 107,
   "metadata": {},
   "outputs": [
    {
     "data": {
      "text/plain": [
       "value.user_id\n",
       "2266      99\n",
       "110617    58\n",
       "4060      42\n",
       "5049      39\n",
       "5266      39\n",
       "          ..\n",
       "45646      1\n",
       "35013      1\n",
       "45604      1\n",
       "45647      1\n",
       "85243      1\n",
       "Name: count, Length: 45074, dtype: int64"
      ]
     },
     "execution_count": 107,
     "metadata": {},
     "output_type": "execute_result"
    }
   ],
   "source": [
    "ingen_siste_aktivitet = innmeldingar[innmeldingar['value.last_activity_at'].isna()]\n",
    "ingen_siste_aktivitet['value.user_id'].value_counts()"
   ]
  },
  {
   "cell_type": "markdown",
   "metadata": {},
   "source": [
    "Her har eg altså 45000 unike brukarar som eg i utgangspunktet ikkje veit kven er. Eg kan leite dei opp ved å sjekke opp mot rapporten \"klargjering - brukarar\":"
   ]
  },
  {
   "cell_type": "code",
   "execution_count": 115,
   "metadata": {},
   "outputs": [
    {
     "name": "stderr",
     "output_type": "stream",
     "text": [
      "C:\\Users\\AKV\\AppData\\Local\\Temp\\ipykernel_13848\\3596050243.py:1: DtypeWarning: Columns (2) have mixed types. Specify dtype option on import or set low_memory=False.\n",
      "  brukarar = pd.read_csv('brukarar.csv')\n"
     ]
    }
   ],
   "source": [
    "brukarar = pd.read_csv('brukarar.csv')"
   ]
  },
  {
   "cell_type": "code",
   "execution_count": 116,
   "metadata": {},
   "outputs": [
    {
     "name": "stdout",
     "output_type": "stream",
     "text": [
      "          full_name       login_id  status\n",
      "57406  Sara Karlsen  670498@hvl.no  active\n",
      "            full_name       login_id  status\n",
      "59346  Kristine Bidne  124054@hvl.no  active\n",
      "                full_name       login_id  status\n",
      "59140  Silje Lidi Rugholm  668933@hvl.no  active\n",
      "                             full_name       login_id  status\n",
      "57411  Katharina Utne Abildgaard Sloth  670127@hvl.no  active\n",
      "                full_name       login_id  status\n",
      "59376  Trygve Bruun Endal  123189@hvl.no  active\n",
      "                      full_name       login_id  status\n",
      "59186  Eline Aarthun Schjølberg  668948@hvl.no  active\n",
      "                 full_name       login_id  status\n",
      "57474  Gunvor Hamre Nornes  670340@hvl.no  active\n",
      "                    full_name       login_id  status\n",
      "59408  Miriam Birgitte Godman  669039@hvl.no  active\n",
      "                      full_name       login_id  status\n",
      "59243  Thea Sofie Lihaug Kismul  670079@hvl.no  active\n",
      "                       full_name       login_id  status\n",
      "57499  Victoria Myklebust Nilsen  670405@hvl.no  active\n"
     ]
    }
   ],
   "source": [
    "sjekk_desse = ingen_siste_aktivitet['value.user_id'].unique()\n",
    "for i in sjekk_desse[0:10]:\n",
    "    if i in brukarar['canvas_user_id']:\n",
    "        print(f\"{data.loc[data['canvas_user_id'] == i, ['full_name', 'login_id', 'status']]}\")"
   ]
  },
  {
   "cell_type": "markdown",
   "metadata": {},
   "source": [
    "Ein kjapp test viser at det er mange studentar her:\n"
   ]
  },
  {
   "cell_type": "code",
   "execution_count": 117,
   "metadata": {},
   "outputs": [
    {
     "ename": "ValueError",
     "evalue": "The truth value of a Series is ambiguous. Use a.empty, a.bool(), a.item(), a.any() or a.all().",
     "output_type": "error",
     "traceback": [
      "\u001b[1;31m---------------------------------------------------------------------------\u001b[0m",
      "\u001b[1;31mValueError\u001b[0m                                Traceback (most recent call last)",
      "\u001b[1;32m~\\AppData\\Local\\Temp\\ipykernel_13848\\1002064167.py\u001b[0m in \u001b[0;36m?\u001b[1;34m()\u001b[0m\n\u001b[0;32m      1\u001b[0m \u001b[1;32mfor\u001b[0m \u001b[0mi\u001b[0m \u001b[1;32min\u001b[0m \u001b[0msjekk_desse\u001b[0m\u001b[1;33m[\u001b[0m\u001b[1;36m0\u001b[0m\u001b[1;33m:\u001b[0m\u001b[1;36m10\u001b[0m\u001b[1;33m]\u001b[0m\u001b[1;33m:\u001b[0m\u001b[1;33m\u001b[0m\u001b[1;33m\u001b[0m\u001b[0m\n\u001b[0;32m      2\u001b[0m     \u001b[1;32mif\u001b[0m \u001b[0mi\u001b[0m \u001b[1;32min\u001b[0m \u001b[0mbrukarar\u001b[0m\u001b[1;33m[\u001b[0m\u001b[1;34m'canvas_user_id'\u001b[0m\u001b[1;33m]\u001b[0m\u001b[1;33m:\u001b[0m\u001b[1;33m\u001b[0m\u001b[1;33m\u001b[0m\u001b[0m\n\u001b[1;32m----> 3\u001b[1;33m         \u001b[1;32mif\u001b[0m \u001b[0mbrukarar\u001b[0m\u001b[1;33m.\u001b[0m\u001b[0mloc\u001b[0m\u001b[1;33m[\u001b[0m\u001b[0mbrukarar\u001b[0m\u001b[1;33m[\u001b[0m\u001b[1;34m'canvas_user_id'\u001b[0m\u001b[1;33m]\u001b[0m \u001b[1;33m==\u001b[0m \u001b[0mi\u001b[0m\u001b[1;33m,\u001b[0m \u001b[1;34m'login_id'\u001b[0m\u001b[1;33m]\u001b[0m\u001b[1;33m.\u001b[0m\u001b[0mstr\u001b[0m\u001b[1;33m.\u001b[0m\u001b[0mcontains\u001b[0m\u001b[1;33m(\u001b[0m\u001b[1;34m'hvl.no'\u001b[0m\u001b[1;33m)\u001b[0m\u001b[1;33m:\u001b[0m\u001b[1;33m\u001b[0m\u001b[1;33m\u001b[0m\u001b[0m\n\u001b[0m\u001b[0;32m      4\u001b[0m             \u001b[0mprint\u001b[0m\u001b[1;33m(\u001b[0m\u001b[1;33mf\"\u001b[0m\u001b[1;33m{\u001b[0m\u001b[0mi\u001b[0m\u001b[1;33m}\u001b[0m\u001b[1;33m er ein student\u001b[0m\u001b[1;33m\"\u001b[0m\u001b[1;33m)\u001b[0m\u001b[1;33m\u001b[0m\u001b[1;33m\u001b[0m\u001b[0m\n",
      "\u001b[1;32m~\\AppData\\Roaming\\Python\\Python312\\site-packages\\pandas\\core\\generic.py\u001b[0m in \u001b[0;36m?\u001b[1;34m(self)\u001b[0m\n\u001b[0;32m   1575\u001b[0m     \u001b[1;33m@\u001b[0m\u001b[0mfinal\u001b[0m\u001b[1;33m\u001b[0m\u001b[1;33m\u001b[0m\u001b[0m\n\u001b[0;32m   1576\u001b[0m     \u001b[1;32mdef\u001b[0m \u001b[0m__nonzero__\u001b[0m\u001b[1;33m(\u001b[0m\u001b[0mself\u001b[0m\u001b[1;33m)\u001b[0m \u001b[1;33m->\u001b[0m \u001b[0mNoReturn\u001b[0m\u001b[1;33m:\u001b[0m\u001b[1;33m\u001b[0m\u001b[1;33m\u001b[0m\u001b[0m\n\u001b[1;32m-> 1577\u001b[1;33m         raise ValueError(\n\u001b[0m\u001b[0;32m   1578\u001b[0m             \u001b[1;33mf\"\u001b[0m\u001b[1;33mThe truth value of a \u001b[0m\u001b[1;33m{\u001b[0m\u001b[0mtype\u001b[0m\u001b[1;33m(\u001b[0m\u001b[0mself\u001b[0m\u001b[1;33m)\u001b[0m\u001b[1;33m.\u001b[0m\u001b[0m__name__\u001b[0m\u001b[1;33m}\u001b[0m\u001b[1;33m is ambiguous. \u001b[0m\u001b[1;33m\"\u001b[0m\u001b[1;33m\u001b[0m\u001b[1;33m\u001b[0m\u001b[0m\n\u001b[0;32m   1579\u001b[0m             \u001b[1;34m\"Use a.empty, a.bool(), a.item(), a.any() or a.all().\"\u001b[0m\u001b[1;33m\u001b[0m\u001b[1;33m\u001b[0m\u001b[0m\n\u001b[0;32m   1580\u001b[0m         \u001b[1;33m)\u001b[0m\u001b[1;33m\u001b[0m\u001b[1;33m\u001b[0m\u001b[0m\n",
      "\u001b[1;31mValueError\u001b[0m: The truth value of a Series is ambiguous. Use a.empty, a.bool(), a.item(), a.any() or a.all()."
     ]
    }
   ],
   "source": [
    "for i in sjekk_desse[0:10]:\n",
    "    if i in brukarar['canvas_user_id']:\n",
    "        if brukarar.loc[brukarar['canvas_user_id'] == i, 'login_id'].str.contains('hvl.no'):\n",
    "            print(f\"{i} er ein student\")"
   ]
  },
  {
   "cell_type": "code",
   "execution_count": null,
   "metadata": {},
   "outputs": [],
   "source": []
  }
 ],
 "metadata": {
  "kernelspec": {
   "display_name": "Python 3",
   "language": "python",
   "name": "python3"
  },
  "language_info": {
   "codemirror_mode": {
    "name": "ipython",
    "version": 3
   },
   "file_extension": ".py",
   "mimetype": "text/x-python",
   "name": "python",
   "nbconvert_exporter": "python",
   "pygments_lexer": "ipython3",
   "version": "3.12.3"
  }
 },
 "nbformat": 4,
 "nbformat_minor": 2
}
=======
{
 "cells": [
  {
   "cell_type": "code",
   "execution_count": 14,
   "metadata": {},
   "outputs": [],
   "source": [
    "import requests\n",
    "import os\n",
    "import pandas as pd\n",
    "tokenCanvas = os.environ['tokenCanvas']\n",
    "\n",
    "headers = {\n",
    "    'Authorization': f'Bearer {tokenCanvas}',\n",
    "}\n",
    "params = {\n",
    "    'per_page': 100,\n",
    "}\n"
   ]
  },
  {
   "cell_type": "markdown",
   "metadata": {},
   "source": [
    "# Slette gamle brukarar\n",
    "Først les eg inn dei som er mest aktuelle å slette i første omgang:\n"
   ]
  },
  {
   "cell_type": "code",
   "execution_count": 15,
   "metadata": {},
   "outputs": [],
   "source": [
    "andre = pd.read_csv(\"andre.csv\")\n",
    "utan_sis = pd.read_csv(\"utan_sis.csv\")\n"
   ]
  },
  {
   "cell_type": "markdown",
   "metadata": {},
   "source": [
    "## Finne sist pålogging\n"
   ]
  },
  {
   "cell_type": "markdown",
   "metadata": {},
   "source": [
    "### Forsøk 1 (ikkje optimalt)\n",
    "Neste steg er tabellen `enrollments`; her får eg feltet `last_activity_at` som i følge dokumentasjonen er \n",
    "\n",
    "> The last activity time of the user for the enrollment. This time stamp updates when a user navigates through the course using the Course Navigation menu, replies to a discussion or submits an assignment or quiz, and when they access course files and pages (does not include mobile interactions or group participation).\n",
    "\n",
    "Det eg får ut er siste gang ein brukar var inne i eit gitt emne. Så eg må sjå på *alle* slike oppføringar for ein brukar, og så plukke ut den yngste. NB! Eg har henta data med skriptet \"les_CD2_tabell.ipynb\", men eg har berre lagra `user_id` og `course_id`. Dokumentasjonen tilrår å sjekke `course_section_id` og `role_id` også, for ein brukar kan jo ha vore logga på som student i eit emne og litt seinare som tilsett (eller studentassistent) i emnet. Men eg trur risikoen for dette er liten (det er jo eksterne faglærarar og kursdeltakarar dette).\n",
    "\n",
    "Eg vil helst gå gjennom lista `utan_sis` og sjekke siste pålogging for alle der (basert på `id`). Alle som har blank eller tidlegare enn 2024 kan eg sikkert slette?"
   ]
  },
  {
   "cell_type": "markdown",
   "metadata": {},
   "source": [
    "### Forsøk 2: \n",
    "Eg prøver så CD2-tabellen \"users\"; den har feltet `last_logged_out`. Eg har tatt eit uttrekk av data etter 1. mai 2025: "
   ]
  },
  {
   "cell_type": "code",
   "execution_count": 4,
   "metadata": {},
   "outputs": [],
   "source": [
    "utlogga = pd.read_csv(\"brukarar_last_logged_out.csv\")"
   ]
  },
  {
   "cell_type": "code",
   "execution_count": null,
   "metadata": {},
   "outputs": [],
   "source": [
    "utlogga.head()"
   ]
  },
  {
   "cell_type": "code",
   "execution_count": null,
   "metadata": {},
   "outputs": [],
   "source": [
    "andre.head()"
   ]
  },
  {
   "cell_type": "code",
   "execution_count": null,
   "metadata": {},
   "outputs": [],
   "source": [
    "utan_sis.head()"
   ]
  },
  {
   "cell_type": "markdown",
   "metadata": {},
   "source": [
    "No er `key.id` og `id` felles nøkkel i alle tabellane, så eg kan gå gjennom alle i ei av `utan_sis` og vise (om dei finst i `utlogga`) dato for sist utlogga: "
   ]
  },
  {
   "cell_type": "code",
   "execution_count": 8,
   "metadata": {},
   "outputs": [],
   "source": [
    "utlogga_utan_sis = pd.merge(utlogga, utan_sis, left_on='key.id', right_on='id', how='right')"
   ]
  },
  {
   "cell_type": "code",
   "execution_count": null,
   "metadata": {},
   "outputs": [],
   "source": [
    "utlogga_utan_sis[utlogga_utan_sis['value.last_logged_out'].notnull()]"
   ]
  },
  {
   "cell_type": "code",
   "execution_count": 10,
   "metadata": {},
   "outputs": [],
   "source": [
    "utlogga_andre = pd.merge(utlogga, andre, left_on='key.id', right_on='id', how='right')"
   ]
  },
  {
   "cell_type": "code",
   "execution_count": null,
   "metadata": {},
   "outputs": [],
   "source": [
    "utlogga_andre[utlogga_andre['value.last_logged_out'].notnull()]"
   ]
  },
  {
   "cell_type": "code",
   "execution_count": 12,
   "metadata": {},
   "outputs": [],
   "source": [
    "eldre = utlogga_andre[utlogga_andre['value.last_logged_out'] < '2024-01-01']"
   ]
  },
  {
   "cell_type": "code",
   "execution_count": null,
   "metadata": {},
   "outputs": [],
   "source": [
    "eldre"
   ]
  },
  {
   "cell_type": "markdown",
   "metadata": {},
   "source": [
    "Konklusjon: det ser ut som at det er veldig vanskeleg å finne noko her. Så det kan hende eg må gå tilbakee til å sjekke siste aktivitet i kvart emne :-("
   ]
  },
  {
   "cell_type": "markdown",
   "metadata": {},
   "source": [
    "### Forsøk 3 (forsøk 1 ein gang til)\n",
    "\n",
    "Eg må altså ta utgangspunkt i listene `utan_sis` og  `andre`, og så finne alle enrollments for dei personane. `enrollments` kan eg finne via CD2.\n",
    "\n",
    "I fila `enrollments.csv` har eg ei liste over person/emne/siste aktivitet, og då kan eg koble denne mot `utan_sis` og `andre`."
   ]
  },
  {
   "cell_type": "markdown",
   "metadata": {},
   "source": []
  }
 ],
 "metadata": {
  "kernelspec": {
   "display_name": "Python 3",
   "language": "python",
   "name": "python3"
  },
  "language_info": {
   "codemirror_mode": {
    "name": "ipython",
    "version": 3
   },
   "file_extension": ".py",
   "mimetype": "text/x-python",
   "name": "python",
   "nbconvert_exporter": "python",
   "pygments_lexer": "ipython3",
   "version": "3.12.3"
  }
 },
 "nbformat": 4,
 "nbformat_minor": 2
}
>>>>>>> Stashed changes
