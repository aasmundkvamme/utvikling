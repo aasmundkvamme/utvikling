{
 "cells": [
  {
   "cell_type": "markdown",
   "id": "7a605ef2",
   "metadata": {},
   "source": [
    "# Hente terminar\n",
    "Dette er ei lita rutine for å hente ut alle formelle terminar som vert brukt i undervising. "
   ]
  },
  {
   "cell_type": "code",
   "execution_count": 1,
   "id": "3cd44773",
   "metadata": {},
   "outputs": [],
   "source": [
    "import requests\n",
    "import os\n",
    "import pandas as pd\n",
    "tokenCanvas = os.environ['tokenCanvas']\n",
    "\n",
    "headers = {\n",
    "    'Authorization': f'Bearer {tokenCanvas}',\n",
    "}\n",
    "params = {\n",
    "    'per_page': 100,\n",
    "}\n",
    "\n",
    "def finn_rel(link_header):\n",
    "    link_header_dict = {}\n",
    "    for link in link_header.split(\",\"):\n",
    "        url, rel = link.strip().split(\";\")\n",
    "        rel = rel.split('=')[1]\n",
    "        link_header_dict[rel.strip().replace('\"', '')] = url.strip().replace('<', '').replace('>', '')      # Kommentar: denne er med BERRE for å skape balanse i .org-fila: \\\"\n",
    "    return link_header_dict"
   ]
  },
  {
   "cell_type": "markdown",
   "id": "4918a6f5",
   "metadata": {},
   "source": [
    "Først henter eg ut alle terminar frå Canvas:"
   ]
  },
  {
   "cell_type": "code",
   "execution_count": 14,
   "id": "35687ded",
   "metadata": {},
   "outputs": [
    {
     "name": "stdout",
     "output_type": "stream",
     "text": [
      "https://hvl.instructure.com/api/v1/accounts/1/terms\n",
      "https://hvl.instructure.com/api/v1/accounts/1/terms?page=2&per_page=100\n"
     ]
    }
   ],
   "source": [
    "url = \"https://hvl.instructure.com/api/v1/accounts/1/terms\"\n",
    "termin = 353\n",
    "dr_liste = []\n",
    "hentmeir = True\n",
    "while hentmeir:\n",
    "    print(url)   # for kontrollen sin skuld\n",
    "    respons = requests.get(url, headers=headers, params=params)\n",
    "    if 200 <= respons.status_code < 300:\n",
    "        data = respons.json()['enrollment_terms']\n",
    "        # print(respons.headers)\n",
    "        hentmeir = \"next\" in respons.headers['link']\n",
    "        if hentmeir:\n",
    "            url = finn_rel(respons.headers['link'])['next']\n",
    "# Hent ut data (NB! dette vil variere frå endepunkt til endepunkt)\n",
    "        dataliste = []\n",
    "        for element in data:\n",
    "            dataliste.append([element['id'], element['name']])\n",
    "        df = pd.DataFrame(dataliste, columns=['id', 'name'])\n",
    "        dr_liste.append(df)\n",
    "    # hentmeir = False\n",
    "# og etter at eg er ferdig å lese inn slår eg dei saman:\n",
    "alledata = pd.concat((df for df in dr_liste if not df.empty), ignore_index=True)"
   ]
  },
  {
   "cell_type": "markdown",
   "id": "d4d0db4c",
   "metadata": {},
   "source": [
    "Så lager eg to nye kolonner; ei for startsemester og ei for sluttsemester. Dei er på forma YYYYa og YYYYb der \"a\" er VÅR og \"b\" er HØST, lik at det er lettare å sjekke om ein termin ligg etter eller før eit gitt start- eller sluttsemester. "
   ]
  },
  {
   "cell_type": "code",
   "execution_count": 17,
   "id": "f9b4f9e4",
   "metadata": {},
   "outputs": [],
   "source": [
    "temp = alledata.iloc[:, 1].astype(str).str.split(\"-\", expand=True)"
   ]
  },
  {
   "cell_type": "code",
   "execution_count": 21,
   "id": "b30a6996",
   "metadata": {},
   "outputs": [],
   "source": [
    "alledata['startsemester'] = temp[0].astype(str)\n",
    "alledata['sluttsemester'] = temp[1].astype(str)"
   ]
  },
  {
   "cell_type": "code",
   "execution_count": 24,
   "id": "5350f3fe",
   "metadata": {},
   "outputs": [],
   "source": [
    "alledata['startsemester'] = alledata['startsemester'].str.replace(\" VÅR\", \"a\", regex=False)\n",
    "alledata['sluttsemester'] = alledata['sluttsemester'].str.replace(\" VÅR\", \"a\", regex=False)\n",
    "alledata['startsemester'] = alledata['startsemester'].str.replace(\" HØST\", \"b\", regex=False)\n",
    "alledata['sluttsemester'] = alledata['sluttsemester'].str.replace(\" HØST\", \"b\", regex=False)"
   ]
  },
  {
   "cell_type": "code",
   "execution_count": 25,
   "id": "749b894c",
   "metadata": {},
   "outputs": [
    {
     "data": {
      "application/vnd.microsoft.datawrangler.viewer.v0+json": {
       "columns": [
        {
         "name": "index",
         "rawType": "int64",
         "type": "integer"
        },
        {
         "name": "id",
         "rawType": "int64",
         "type": "integer"
        },
        {
         "name": "name",
         "rawType": "object",
         "type": "string"
        },
        {
         "name": "startsemester",
         "rawType": "object",
         "type": "string"
        },
        {
         "name": "sluttsemester",
         "rawType": "object",
         "type": "string"
        }
       ],
       "ref": "38fb9f80-4a9a-44c0-a6fc-125046501758",
       "rows": [
        [
         "0",
         "1",
         "Standardsemester",
         "Standardsemester",
         "None"
        ],
        [
         "1",
         "2",
         "2017 HØST",
         "2017b",
         "None"
        ],
        [
         "2",
         "6",
         "2017 HØST",
         "2017b",
         "None"
        ],
        [
         "3",
         "7",
         "2017 VÅR",
         "2017a",
         "None"
        ],
        [
         "4",
         "8",
         "2018 VÅR",
         "2018a",
         "None"
        ],
        [
         "5",
         "12",
         "2017 HØST-2018 VÅR",
         "2017b",
         "2018a"
        ],
        [
         "6",
         "13",
         "2018 VÅR-2019 VÅR",
         "2018a",
         "2019a"
        ],
        [
         "7",
         "14",
         "2018 VÅR-2018 HØST",
         "2018a",
         "2018b"
        ],
        [
         "8",
         "15",
         "2018 HØST-2019 VÅR",
         "2018b",
         "2019a"
        ],
        [
         "9",
         "16",
         "2016 HØST",
         "2016b",
         "None"
        ],
        [
         "10",
         "17",
         "2017 VÅR-2017 HØST",
         "2017a",
         "2017b"
        ],
        [
         "11",
         "18",
         "2016 HØST-2017 HØST",
         "2016b",
         "2017b"
        ],
        [
         "12",
         "19",
         "2016 HØST-2018 HØST",
         "2016b",
         "2018b"
        ],
        [
         "13",
         "20",
         "2018 HØST-2020 HØST",
         "2018b",
         "2020b"
        ],
        [
         "14",
         "21",
         "2017 VÅR-2018 VÅR",
         "2017a",
         "2018a"
        ],
        [
         "15",
         "22",
         "2018 HØST-2019 HØST",
         "2018b",
         "2019b"
        ],
        [
         "16",
         "23",
         "2016 HØST-2020 VÅR",
         "2016b",
         "2020a"
        ],
        [
         "17",
         "24",
         "2017 VÅR-2020 HØST",
         "2017a",
         "2020b"
        ],
        [
         "18",
         "25",
         "2018 HØST-2022 VÅR",
         "2018b",
         "2022a"
        ],
        [
         "19",
         "26",
         "2018 HØST-2020 VÅR",
         "2018b",
         "2020a"
        ],
        [
         "20",
         "27",
         "2017 HØST-2018 HØST",
         "2017b",
         "2018b"
        ],
        [
         "21",
         "28",
         "2017 HØST-2019 HØST",
         "2017b",
         "2019b"
        ],
        [
         "22",
         "29",
         "2017 HØST-2019 VÅR",
         "2017b",
         "2019a"
        ],
        [
         "23",
         "30",
         "2018 VÅR-2019 HØST",
         "2018a",
         "2019b"
        ],
        [
         "24",
         "31",
         "2017 HØST-2021 VÅR",
         "2017b",
         "2021a"
        ],
        [
         "25",
         "32",
         "2018 VÅR-2021 HØST",
         "2018a",
         "2021b"
        ],
        [
         "26",
         "33",
         "2019 VÅR",
         "2019a",
         "None"
        ],
        [
         "27",
         "34",
         "2019 VÅR-2019 HØST",
         "2019a",
         "2019b"
        ],
        [
         "28",
         "35",
         "2019 VÅR-2020 VÅR",
         "2019a",
         "2020a"
        ],
        [
         "29",
         "36",
         "2019 VÅR-2020 HØST",
         "2019a",
         "2020b"
        ],
        [
         "30",
         "39",
         "2019 VÅR-2022 HØST",
         "2019a",
         "2022b"
        ],
        [
         "31",
         "40",
         "2019 HØST-2020 VÅR",
         "2019b",
         "2020a"
        ],
        [
         "32",
         "41",
         "2019 HØST",
         "2019b",
         "None"
        ],
        [
         "33",
         "73",
         "2019 HØST-2021 VÅR",
         "2019b",
         "2021a"
        ],
        [
         "34",
         "74",
         "2019 HØST-2021 HØST",
         "2019b",
         "2021b"
        ],
        [
         "35",
         "75",
         "2019 HØST-2020 HØST",
         "2019b",
         "2020b"
        ],
        [
         "36",
         "76",
         "2019 HØST-2023 VÅR",
         "2019b",
         "2023a"
        ],
        [
         "37",
         "77",
         "2020 VÅR",
         "2020a",
         "None"
        ],
        [
         "38",
         "78",
         "1008 VÅR",
         "1008a",
         "None"
        ],
        [
         "39",
         "79",
         "2020 VÅR-2020 HØST",
         "2020a",
         "2020b"
        ],
        [
         "40",
         "80",
         "1008 HØST",
         "1008b",
         "None"
        ],
        [
         "41",
         "81",
         "2020 VÅR-2021 VÅR",
         "2020a",
         "2021a"
        ],
        [
         "42",
         "82",
         "2020 VÅR-2021 HØST",
         "2020a",
         "2021b"
        ],
        [
         "43",
         "83",
         "2020 VÅR-2023 HØST",
         "2020a",
         "2023b"
        ],
        [
         "44",
         "84",
         "2020 HØST",
         "2020b",
         "None"
        ],
        [
         "45",
         "85",
         "2020 HØST-2021 VÅR",
         "2020b",
         "2021a"
        ],
        [
         "46",
         "86",
         "2020 HØST-2022 HØST",
         "2020b",
         "2022b"
        ],
        [
         "47",
         "87",
         "2020 HØST-2021 HØST",
         "2020b",
         "2021b"
        ],
        [
         "48",
         "88",
         "2020 HØST-2022 VÅR",
         "2020b",
         "2022a"
        ],
        [
         "49",
         "89",
         "2020 HØST-2024 VÅR",
         "2020b",
         "2024a"
        ]
       ],
       "shape": {
        "columns": 4,
        "rows": 126
       }
      },
      "text/html": [
       "<div>\n",
       "<style scoped>\n",
       "    .dataframe tbody tr th:only-of-type {\n",
       "        vertical-align: middle;\n",
       "    }\n",
       "\n",
       "    .dataframe tbody tr th {\n",
       "        vertical-align: top;\n",
       "    }\n",
       "\n",
       "    .dataframe thead th {\n",
       "        text-align: right;\n",
       "    }\n",
       "</style>\n",
       "<table border=\"1\" class=\"dataframe\">\n",
       "  <thead>\n",
       "    <tr style=\"text-align: right;\">\n",
       "      <th></th>\n",
       "      <th>id</th>\n",
       "      <th>name</th>\n",
       "      <th>startsemester</th>\n",
       "      <th>sluttsemester</th>\n",
       "    </tr>\n",
       "  </thead>\n",
       "  <tbody>\n",
       "    <tr>\n",
       "      <th>0</th>\n",
       "      <td>1</td>\n",
       "      <td>Standardsemester</td>\n",
       "      <td>Standardsemester</td>\n",
       "      <td>None</td>\n",
       "    </tr>\n",
       "    <tr>\n",
       "      <th>1</th>\n",
       "      <td>2</td>\n",
       "      <td>2017 HØST</td>\n",
       "      <td>2017b</td>\n",
       "      <td>None</td>\n",
       "    </tr>\n",
       "    <tr>\n",
       "      <th>2</th>\n",
       "      <td>6</td>\n",
       "      <td>2017 HØST</td>\n",
       "      <td>2017b</td>\n",
       "      <td>None</td>\n",
       "    </tr>\n",
       "    <tr>\n",
       "      <th>3</th>\n",
       "      <td>7</td>\n",
       "      <td>2017 VÅR</td>\n",
       "      <td>2017a</td>\n",
       "      <td>None</td>\n",
       "    </tr>\n",
       "    <tr>\n",
       "      <th>4</th>\n",
       "      <td>8</td>\n",
       "      <td>2018 VÅR</td>\n",
       "      <td>2018a</td>\n",
       "      <td>None</td>\n",
       "    </tr>\n",
       "    <tr>\n",
       "      <th>...</th>\n",
       "      <td>...</td>\n",
       "      <td>...</td>\n",
       "      <td>...</td>\n",
       "      <td>...</td>\n",
       "    </tr>\n",
       "    <tr>\n",
       "      <th>121</th>\n",
       "      <td>362</td>\n",
       "      <td>2025VÅR</td>\n",
       "      <td>2025VÅR</td>\n",
       "      <td>None</td>\n",
       "    </tr>\n",
       "    <tr>\n",
       "      <th>122</th>\n",
       "      <td>363</td>\n",
       "      <td>ULK6 HØST</td>\n",
       "      <td>ULK6b</td>\n",
       "      <td>None</td>\n",
       "    </tr>\n",
       "    <tr>\n",
       "      <th>123</th>\n",
       "      <td>364</td>\n",
       "      <td>ULK7 HØST</td>\n",
       "      <td>ULK7b</td>\n",
       "      <td>None</td>\n",
       "    </tr>\n",
       "    <tr>\n",
       "      <th>124</th>\n",
       "      <td>365</td>\n",
       "      <td>2025 HØST-2027 VÅR</td>\n",
       "      <td>2025b</td>\n",
       "      <td>2027a</td>\n",
       "    </tr>\n",
       "    <tr>\n",
       "      <th>125</th>\n",
       "      <td>11</td>\n",
       "      <td>2018 HØST</td>\n",
       "      <td>2018b</td>\n",
       "      <td>None</td>\n",
       "    </tr>\n",
       "  </tbody>\n",
       "</table>\n",
       "<p>126 rows × 4 columns</p>\n",
       "</div>"
      ],
      "text/plain": [
       "      id                name     startsemester sluttsemester\n",
       "0      1    Standardsemester  Standardsemester          None\n",
       "1      2           2017 HØST             2017b          None\n",
       "2      6           2017 HØST             2017b          None\n",
       "3      7            2017 VÅR             2017a          None\n",
       "4      8            2018 VÅR             2018a          None\n",
       "..   ...                 ...               ...           ...\n",
       "121  362             2025VÅR           2025VÅR          None\n",
       "122  363           ULK6 HØST             ULK6b          None\n",
       "123  364           ULK7 HØST             ULK7b          None\n",
       "124  365  2025 HØST-2027 VÅR             2025b         2027a\n",
       "125   11           2018 HØST             2018b          None\n",
       "\n",
       "[126 rows x 4 columns]"
      ]
     },
     "execution_count": 25,
     "metadata": {},
     "output_type": "execute_result"
    }
   ],
   "source": [
    "alledata"
   ]
  },
  {
   "cell_type": "code",
   "execution_count": 31,
   "id": "19e0cf8e",
   "metadata": {},
   "outputs": [],
   "source": [
    "termin = \"2025b\"\n",
    "terminar = alledata[(alledata['startsemester']<=termin)&(alledata['sluttsemester']>=termin)&(alledata['sluttsemester']!=\"None\")]['id'].tolist()"
   ]
  },
  {
   "cell_type": "code",
   "execution_count": null,
   "id": "394a8ef7",
   "metadata": {},
   "outputs": [],
   "source": []
  }
 ],
 "metadata": {
  "kernelspec": {
   "display_name": "Python 3",
   "language": "python",
   "name": "python3"
  },
  "language_info": {
   "codemirror_mode": {
    "name": "ipython",
    "version": 3
   },
   "file_extension": ".py",
   "mimetype": "text/x-python",
   "name": "python",
   "nbconvert_exporter": "python",
   "pygments_lexer": "ipython3",
   "version": "3.13.7"
  }
 },
 "nbformat": 4,
 "nbformat_minor": 5
}
