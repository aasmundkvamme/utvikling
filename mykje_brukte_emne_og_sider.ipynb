{
 "cells": [
  {
   "cell_type": "code",
   "execution_count": 1,
   "metadata": {},
   "outputs": [],
   "source": [
    "import pandas as pd\n",
    "import os\n",
    "import requests\n",
    "from datetime import datetime, date, timedelta\n",
    "import time\n",
    "import logging\n",
    "import traceback\n",
    "import io\n",
    "import hjelpemiddel as hj\n"
   ]
  },
  {
   "cell_type": "code",
   "execution_count": null,
   "metadata": {},
   "outputs": [
    {
     "name": "stdout",
     "output_type": "stream",
     "text": [
      "Sender søk til https://api-gateway.instructure.com/dap/query/canvas/table/wiki_pages/data\n",
      "{'id': 'f4f13879-e519-41a4-847a-a789258de303', 'status': 'running', 'expires_at': '2024-12-04T17:33:55Z'}\n",
      "{'id': 'f4f13879-e519-41a4-847a-a789258de303', 'status': 'complete', 'objects': [{'id': 'f4f13879-e519-41a4-847a-a789258de303/part-00000-cd62716e-5dae-4f1e-a358-56d4eba2b720-c000.csv.gz'}, {'id': 'f4f13879-e519-41a4-847a-a789258de303/part-00001-cd62716e-5dae-4f1e-a358-56d4eba2b720-c000.csv.gz'}, {'id': 'f4f13879-e519-41a4-847a-a789258de303/part-00005-cd62716e-5dae-4f1e-a358-56d4eba2b720-c000.csv.gz'}], 'expires_at': '2024-12-04T17:33:55Z', 'schema_version': 2, 'since': '2024-12-03T14:27:26Z', 'until': '2024-12-03T16:24:27Z'}\n",
      "[{'id': 'f4f13879-e519-41a4-847a-a789258de303/part-00000-cd62716e-5dae-4f1e-a358-56d4eba2b720-c000.csv.gz'}, {'id': 'f4f13879-e519-41a4-847a-a789258de303/part-00001-cd62716e-5dae-4f1e-a358-56d4eba2b720-c000.csv.gz'}, {'id': 'f4f13879-e519-41a4-847a-a789258de303/part-00005-cd62716e-5dae-4f1e-a358-56d4eba2b720-c000.csv.gz'}]\n"
     ]
    }
   ],
   "source": [
    "CD2_base_url = os.environ['CD2_base_url']\n",
    "CD2_client_id = os.environ['CD2_client_id']\n",
    "CD2_client_secret = os.environ['CD2_client_secret']\n",
    "\n",
    "tabell = \"wiki_pages\"\n",
    "logging.basicConfig(filename='{tabell}.log', encoding='utf-8', level=logging.DEBUG)\n",
    "alledata, sist_oppdatert, denne_oppdateringa = hj.akv_les_CD2_tabell(tabell)\n",
    "hj.akv_lagre_sist_oppdatert(tabell, denne_oppdateringa)\n",
    "sider = alledata[['key.id', 'value.created_at', 'value.title', 'value.url', 'value.context_id', 'value.context_type']]\n"
   ]
  },
  {
   "cell_type": "code",
   "execution_count": 7,
   "metadata": {},
   "outputs": [
    {
     "name": "stdout",
     "output_type": "stream",
     "text": [
      "<class 'pandas.core.frame.DataFrame'>\n",
      "Index: 101 entries, 0 to 96\n",
      "Data columns (total 21 columns):\n",
      " #   Column                   Non-Null Count  Dtype  \n",
      "---  ------                   --------------  -----  \n",
      " 0   key.id                   101 non-null    int64  \n",
      " 1   value.user_id            32 non-null     float64\n",
      " 2   value.created_at         101 non-null    object \n",
      " 3   value.updated_at         101 non-null    object \n",
      " 4   value.workflow_state     101 non-null    object \n",
      " 5   value.context_id         101 non-null    int64  \n",
      " 6   value.context_type       101 non-null    object \n",
      " 7   value.assignment_id      0 non-null      float64\n",
      " 8   value.migration_id       75 non-null     object \n",
      " 9   value.wiki_id            101 non-null    int64  \n",
      " 10  value.old_assignment_id  0 non-null      float64\n",
      " 11  value.todo_date          0 non-null      float64\n",
      " 12  value.editing_roles      101 non-null    object \n",
      " 13  value.revised_at         101 non-null    object \n",
      " 14  value.body               95 non-null     object \n",
      " 15  value.url                101 non-null    object \n",
      " 16  value.title              101 non-null    object \n",
      " 17  value.protected_editing  101 non-null    bool   \n",
      " 18  value.could_be_locked    83 non-null     object \n",
      " 19  meta.ts                  101 non-null    object \n",
      " 20  meta.action              101 non-null    object \n",
      "dtypes: bool(1), float64(4), int64(3), object(13)\n",
      "memory usage: 16.7+ KB\n"
     ]
    }
   ],
   "source": [
    "alledata.info()"
   ]
  },
  {
   "cell_type": "markdown",
   "metadata": {},
   "source": [
    "Men denne koden viser berre _oppretta_ sider, ikkje _besøkte_ sider. Der skal eg kanskje like godt hente ut data frå web_logs? \n",
    "\n",
    "I web_logs kan eg hente ut alle liner med \"pages\" i url-en (eller noko slikt)."
   ]
  },
  {
   "cell_type": "code",
   "execution_count": null,
   "metadata": {},
   "outputs": [],
   "source": []
  }
 ],
 "metadata": {
  "kernelspec": {
   "display_name": "Python 3",
   "language": "python",
   "name": "python3"
  },
  "language_info": {
   "codemirror_mode": {
    "name": "ipython",
    "version": 3
   },
   "file_extension": ".py",
   "mimetype": "text/x-python",
   "name": "python",
   "nbconvert_exporter": "python",
   "pygments_lexer": "ipython3",
   "version": "3.10.12"
  }
 },
 "nbformat": 4,
 "nbformat_minor": 2
}
