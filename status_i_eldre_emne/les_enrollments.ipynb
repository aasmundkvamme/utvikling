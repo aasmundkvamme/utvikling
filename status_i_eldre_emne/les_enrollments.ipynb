{
 "cells": [
  {
   "cell_type": "code",
   "execution_count": 1,
   "id": "f15af6da",
   "metadata": {},
   "outputs": [
    {
     "name": "stdout",
     "output_type": "stream",
     "text": [
      "                                                  0\n",
      "0  fs:203:609424,hvl200130-e2-akv,student,completed\n",
      "1  fs:203:609424,hvl200130-e2-akv,student,completed\n",
      "2    fs:203:3978,hvl200130-e2-akv,student,completed\n",
      "3  fs:203:416810,hvl200130-e2-akv,student,completed\n",
      "4  fs:203:602566,hvl200130-e2-akv,student,completed\n"
     ]
    }
   ],
   "source": [
    "import pandas as pd\n",
    "data = pd.read_csv(\"deaktiver_desse.csv\")\n",
    "print(data.head())"
   ]
  },
  {
   "cell_type": "code",
   "execution_count": null,
   "id": "0d18c2ed",
   "metadata": {},
   "outputs": [],
   "source": []
  }
 ],
 "metadata": {
  "kernelspec": {
   "display_name": "Python 3",
   "language": "python",
   "name": "python3"
  },
  "language_info": {
   "codemirror_mode": {
    "name": "ipython",
    "version": 3
   },
   "file_extension": ".py",
   "mimetype": "text/x-python",
   "name": "python",
   "nbconvert_exporter": "python",
   "pygments_lexer": "ipython3",
   "version": "3.12.3"
  }
 },
 "nbformat": 4,
 "nbformat_minor": 5
}
