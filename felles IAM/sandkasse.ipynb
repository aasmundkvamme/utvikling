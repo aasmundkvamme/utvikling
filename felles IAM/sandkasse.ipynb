{
 "cells": [
  {
   "cell_type": "code",
   "execution_count": 1,
   "metadata": {},
   "outputs": [],
   "source": [
    "import requests\n",
    "import os\n",
    "import pandas as pd\n",
    "tokenCanvas = os.environ['tokenCanvas']\n",
    "\n",
    "FSbrukar = os.environ[\"FSbrukar\"]\n",
    "FSpassord = os.environ[\"FSpassord\"]\n",
    "\n",
    "headers = {\n",
    "    'Authorization': f'Bearer {tokenCanvas}',\n",
    "}\n",
    "params = {\n",
    "    'per_page': 100,\n",
    "}\n"
   ]
  },
  {
   "cell_type": "code",
   "execution_count": 31,
   "metadata": {},
   "outputs": [],
   "source": [
    "rådata = pd.read_csv(\"fiam_250809.csv\")"
   ]
  },
  {
   "cell_type": "code",
   "execution_count": 32,
   "metadata": {},
   "outputs": [
    {
     "name": "stdout",
     "output_type": "stream",
     "text": [
      "<class 'pandas.core.frame.DataFrame'>\n",
      "RangeIndex: 90134 entries, 0 to 90133\n",
      "Data columns (total 14 columns):\n",
      " #   Column                      Non-Null Count  Dtype  \n",
      "---  ------                      --------------  -----  \n",
      " 0   canvas_user_id              90134 non-null  int64  \n",
      " 1   user_id                     89312 non-null  object \n",
      " 2   integration_id              4 non-null      object \n",
      " 3   authentication_provider_id  4108 non-null   float64\n",
      " 4   login_id                    90134 non-null  object \n",
      " 5   first_name                  90107 non-null  object \n",
      " 6   last_name                   90068 non-null  object \n",
      " 7   full_name                   90134 non-null  object \n",
      " 8   sortable_name               90107 non-null  object \n",
      " 9   short_name                  31459 non-null  object \n",
      " 10  email                       89723 non-null  object \n",
      " 11  status                      90134 non-null  object \n",
      " 12  created_by_sis              90134 non-null  bool   \n",
      " 13  uuid                        90134 non-null  object \n",
      "dtypes: bool(1), float64(1), int64(1), object(11)\n",
      "memory usage: 9.0+ MB\n"
     ]
    }
   ],
   "source": [
    "rådata.info()"
   ]
  },
  {
   "cell_type": "code",
   "execution_count": 33,
   "metadata": {},
   "outputs": [],
   "source": [
    "rådata = rådata[['user_id', 'login_id', 'email']]"
   ]
  },
  {
   "cell_type": "code",
   "execution_count": 34,
   "metadata": {},
   "outputs": [
    {
     "name": "stdout",
     "output_type": "stream",
     "text": [
      "<class 'pandas.core.frame.DataFrame'>\n",
      "RangeIndex: 90134 entries, 0 to 90133\n",
      "Data columns (total 3 columns):\n",
      " #   Column    Non-Null Count  Dtype \n",
      "---  ------    --------------  ----- \n",
      " 0   user_id   89312 non-null  object\n",
      " 1   login_id  90134 non-null  object\n",
      " 2   email     89723 non-null  object\n",
      "dtypes: object(3)\n",
      "memory usage: 2.1+ MB\n"
     ]
    }
   ],
   "source": [
    "rådata.info()"
   ]
  },
  {
   "cell_type": "code",
   "execution_count": 40,
   "metadata": {},
   "outputs": [],
   "source": [
    "aktuell = rådata[rådata['email'].str.match(r'^[a-z]{4,5}\\d{4}@hvl.no$', na=False)]"
   ]
  },
  {
   "cell_type": "code",
   "execution_count": 41,
   "metadata": {},
   "outputs": [
    {
     "name": "stdout",
     "output_type": "stream",
     "text": [
      "<class 'pandas.core.frame.DataFrame'>\n",
      "Index: 9112 entries, 10 to 90132\n",
      "Data columns (total 3 columns):\n",
      " #   Column    Non-Null Count  Dtype \n",
      "---  ------    --------------  ----- \n",
      " 0   user_id   9105 non-null   object\n",
      " 1   login_id  9112 non-null   object\n",
      " 2   email     9112 non-null   object\n",
      "dtypes: object(3)\n",
      "memory usage: 284.8+ KB\n"
     ]
    }
   ],
   "source": [
    "aktuell.info()"
   ]
  },
  {
   "cell_type": "code",
   "execution_count": 42,
   "metadata": {},
   "outputs": [
    {
     "data": {
      "text/html": [
       "<div>\n",
       "<style scoped>\n",
       "    .dataframe tbody tr th:only-of-type {\n",
       "        vertical-align: middle;\n",
       "    }\n",
       "\n",
       "    .dataframe tbody tr th {\n",
       "        vertical-align: top;\n",
       "    }\n",
       "\n",
       "    .dataframe thead th {\n",
       "        text-align: right;\n",
       "    }\n",
       "</style>\n",
       "<table border=\"1\" class=\"dataframe\">\n",
       "  <thead>\n",
       "    <tr style=\"text-align: right;\">\n",
       "      <th></th>\n",
       "      <th>user_id</th>\n",
       "      <th>login_id</th>\n",
       "      <th>email</th>\n",
       "    </tr>\n",
       "  </thead>\n",
       "  <tbody>\n",
       "    <tr>\n",
       "      <th>10</th>\n",
       "      <td>fs:203:1377725</td>\n",
       "      <td>johop1828@hvl.no</td>\n",
       "      <td>johop1828@hvl.no</td>\n",
       "    </tr>\n",
       "    <tr>\n",
       "      <th>14</th>\n",
       "      <td>fs:203:153189</td>\n",
       "      <td>histr5943@hvl.no</td>\n",
       "      <td>histr5943@hvl.no</td>\n",
       "    </tr>\n",
       "    <tr>\n",
       "      <th>21</th>\n",
       "      <td>fs:203:98917</td>\n",
       "      <td>mikir5940@hvl.no</td>\n",
       "      <td>mikir5940@hvl.no</td>\n",
       "    </tr>\n",
       "    <tr>\n",
       "      <th>33</th>\n",
       "      <td>fs:203:261895</td>\n",
       "      <td>122424@hvl.no</td>\n",
       "      <td>bomae6729@hvl.no</td>\n",
       "    </tr>\n",
       "    <tr>\n",
       "      <th>55</th>\n",
       "      <td>fs:203:129496</td>\n",
       "      <td>chdal2177@hvl.no</td>\n",
       "      <td>chdal2177@hvl.no</td>\n",
       "    </tr>\n",
       "    <tr>\n",
       "      <th>...</th>\n",
       "      <td>...</td>\n",
       "      <td>...</td>\n",
       "      <td>...</td>\n",
       "    </tr>\n",
       "    <tr>\n",
       "      <th>90122</th>\n",
       "      <td>fs:203:161494</td>\n",
       "      <td>tisol4150@hvl.no</td>\n",
       "      <td>tisol4150@hvl.no</td>\n",
       "    </tr>\n",
       "    <tr>\n",
       "      <th>90126</th>\n",
       "      <td>fs:203:1394541</td>\n",
       "      <td>tusty1843@hvl.no</td>\n",
       "      <td>tusty1843@hvl.no</td>\n",
       "    </tr>\n",
       "    <tr>\n",
       "      <th>90127</th>\n",
       "      <td>fs:203:284950</td>\n",
       "      <td>hetel0156@hvl.no</td>\n",
       "      <td>hetel0156@hvl.no</td>\n",
       "    </tr>\n",
       "    <tr>\n",
       "      <th>90128</th>\n",
       "      <td>fs:203:560826</td>\n",
       "      <td>mihau8552@hvl.no</td>\n",
       "      <td>mihau8552@hvl.no</td>\n",
       "    </tr>\n",
       "    <tr>\n",
       "      <th>90132</th>\n",
       "      <td>fs:203:620432</td>\n",
       "      <td>siaar3097@hvl.no</td>\n",
       "      <td>siaar3097@hvl.no</td>\n",
       "    </tr>\n",
       "  </tbody>\n",
       "</table>\n",
       "<p>9112 rows × 3 columns</p>\n",
       "</div>"
      ],
      "text/plain": [
       "              user_id          login_id             email\n",
       "10     fs:203:1377725  johop1828@hvl.no  johop1828@hvl.no\n",
       "14      fs:203:153189  histr5943@hvl.no  histr5943@hvl.no\n",
       "21       fs:203:98917  mikir5940@hvl.no  mikir5940@hvl.no\n",
       "33      fs:203:261895     122424@hvl.no  bomae6729@hvl.no\n",
       "55      fs:203:129496  chdal2177@hvl.no  chdal2177@hvl.no\n",
       "...               ...               ...               ...\n",
       "90122   fs:203:161494  tisol4150@hvl.no  tisol4150@hvl.no\n",
       "90126  fs:203:1394541  tusty1843@hvl.no  tusty1843@hvl.no\n",
       "90127   fs:203:284950  hetel0156@hvl.no  hetel0156@hvl.no\n",
       "90128   fs:203:560826  mihau8552@hvl.no  mihau8552@hvl.no\n",
       "90132   fs:203:620432  siaar3097@hvl.no  siaar3097@hvl.no\n",
       "\n",
       "[9112 rows x 3 columns]"
      ]
     },
     "execution_count": 42,
     "metadata": {},
     "output_type": "execute_result"
    }
   ],
   "source": [
    "aktuell"
   ]
  },
  {
   "cell_type": "code",
   "execution_count": 43,
   "metadata": {},
   "outputs": [],
   "source": [
    "ulike = aktuell[aktuell['email'] != aktuell['login_id']]"
   ]
  },
  {
   "cell_type": "code",
   "execution_count": 44,
   "metadata": {},
   "outputs": [
    {
     "data": {
      "text/html": [
       "<div>\n",
       "<style scoped>\n",
       "    .dataframe tbody tr th:only-of-type {\n",
       "        vertical-align: middle;\n",
       "    }\n",
       "\n",
       "    .dataframe tbody tr th {\n",
       "        vertical-align: top;\n",
       "    }\n",
       "\n",
       "    .dataframe thead th {\n",
       "        text-align: right;\n",
       "    }\n",
       "</style>\n",
       "<table border=\"1\" class=\"dataframe\">\n",
       "  <thead>\n",
       "    <tr style=\"text-align: right;\">\n",
       "      <th></th>\n",
       "      <th>user_id</th>\n",
       "      <th>login_id</th>\n",
       "      <th>email</th>\n",
       "    </tr>\n",
       "  </thead>\n",
       "  <tbody>\n",
       "    <tr>\n",
       "      <th>33</th>\n",
       "      <td>fs:203:261895</td>\n",
       "      <td>122424@hvl.no</td>\n",
       "      <td>bomae6729@hvl.no</td>\n",
       "    </tr>\n",
       "    <tr>\n",
       "      <th>268</th>\n",
       "      <td>123515</td>\n",
       "      <td>123515</td>\n",
       "      <td>asytr4748@hvl.no</td>\n",
       "    </tr>\n",
       "    <tr>\n",
       "      <th>512</th>\n",
       "      <td>fs:203:454837</td>\n",
       "      <td>148530@hvl.no</td>\n",
       "      <td>bates6886@hvl.no</td>\n",
       "    </tr>\n",
       "    <tr>\n",
       "      <th>531</th>\n",
       "      <td>fs:203:139242</td>\n",
       "      <td>980619@hvl.no</td>\n",
       "      <td>mabug4648@hvl.no</td>\n",
       "    </tr>\n",
       "    <tr>\n",
       "      <th>802</th>\n",
       "      <td>fs:203:233058</td>\n",
       "      <td>231263@hvl.no</td>\n",
       "      <td>erste6262@hvl.no</td>\n",
       "    </tr>\n",
       "    <tr>\n",
       "      <th>...</th>\n",
       "      <td>...</td>\n",
       "      <td>...</td>\n",
       "      <td>...</td>\n",
       "    </tr>\n",
       "    <tr>\n",
       "      <th>87890</th>\n",
       "      <td>fs:203:578643</td>\n",
       "      <td>sln@hvl.no</td>\n",
       "      <td>sinor0858@hvl.no</td>\n",
       "    </tr>\n",
       "    <tr>\n",
       "      <th>88787</th>\n",
       "      <td>fs:203:1154454</td>\n",
       "      <td>674089@hvl.no</td>\n",
       "      <td>tokna4056@hvl.no</td>\n",
       "    </tr>\n",
       "    <tr>\n",
       "      <th>89356</th>\n",
       "      <td>fs:203:1127524</td>\n",
       "      <td>tssa@hvl.no</td>\n",
       "      <td>toand2882@hvl.no</td>\n",
       "    </tr>\n",
       "    <tr>\n",
       "      <th>89465</th>\n",
       "      <td>fs:203:941962</td>\n",
       "      <td>597948@hvl.no</td>\n",
       "      <td>lipek0488@hvl.no</td>\n",
       "    </tr>\n",
       "    <tr>\n",
       "      <th>89702</th>\n",
       "      <td>fs:203:95144</td>\n",
       "      <td>107594@hvl.no</td>\n",
       "      <td>jahei0046@hvl.no</td>\n",
       "    </tr>\n",
       "  </tbody>\n",
       "</table>\n",
       "<p>406 rows × 3 columns</p>\n",
       "</div>"
      ],
      "text/plain": [
       "              user_id       login_id             email\n",
       "33      fs:203:261895  122424@hvl.no  bomae6729@hvl.no\n",
       "268            123515         123515  asytr4748@hvl.no\n",
       "512     fs:203:454837  148530@hvl.no  bates6886@hvl.no\n",
       "531     fs:203:139242  980619@hvl.no  mabug4648@hvl.no\n",
       "802     fs:203:233058  231263@hvl.no  erste6262@hvl.no\n",
       "...               ...            ...               ...\n",
       "87890   fs:203:578643     sln@hvl.no  sinor0858@hvl.no\n",
       "88787  fs:203:1154454  674089@hvl.no  tokna4056@hvl.no\n",
       "89356  fs:203:1127524    tssa@hvl.no  toand2882@hvl.no\n",
       "89465   fs:203:941962  597948@hvl.no  lipek0488@hvl.no\n",
       "89702    fs:203:95144  107594@hvl.no  jahei0046@hvl.no\n",
       "\n",
       "[406 rows x 3 columns]"
      ]
     },
     "execution_count": 44,
     "metadata": {},
     "output_type": "execute_result"
    }
   ],
   "source": [
    "ulike"
   ]
  },
  {
   "cell_type": "code",
   "execution_count": null,
   "metadata": {},
   "outputs": [],
   "source": []
  }
 ],
 "metadata": {
  "kernelspec": {
   "display_name": "Python 3",
   "language": "python",
   "name": "python3"
  },
  "language_info": {
   "codemirror_mode": {
    "name": "ipython",
    "version": 3
   },
   "file_extension": ".py",
   "mimetype": "text/x-python",
   "name": "python",
   "nbconvert_exporter": "python",
   "pygments_lexer": "ipython3",
   "version": "3.10.12"
  }
 },
 "nbformat": 4,
 "nbformat_minor": 2
}
