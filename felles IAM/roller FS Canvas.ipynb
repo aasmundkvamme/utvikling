{
 "cells": [
  {
   "cell_type": "code",
   "execution_count": 1,
   "metadata": {},
   "outputs": [],
   "source": [
    "import pandas as pd\n",
    "import datetime"
   ]
  },
  {
   "cell_type": "markdown",
   "metadata": {},
   "source": [
    "## Lese inn data\n",
    "Eg les alle kolonnene inn som \"str\"; på den måten er det lettare å jobbe med dei. Når eg set `sheet_name` lik `None` får eg ein dictionary med kvart ark som eitt element."
   ]
  },
  {
   "cell_type": "code",
   "execution_count": 6,
   "metadata": {},
   "outputs": [],
   "source": [
    "data = pd.read_excel(\"roller FS Canvas.xlsx\", sheet_name=None, dtype='str')"
   ]
  },
  {
   "cell_type": "markdown",
   "metadata": {},
   "source": [
    "Eg skal i utgangspunktet berre finne dei som er aktive; det vil sei dei som har `dato_fra` mindre enn i dag og `dato_til` større enn i dag (eller lik `NaN`). Når eg har funnet alle (ved å gå gjennom lista over neøkkelord til dictionaryen) kan eg lese data frå eitt og eitt ark og lagre til kvar si fil:"
   ]
  },
  {
   "cell_type": "code",
   "execution_count": 9,
   "metadata": {},
   "outputs": [
    {
     "name": "stdout",
     "output_type": "stream",
     "text": [
      "EMNEANSVAR 4013\n",
      "PRAKSKOORD 10\n",
      "ASSISTENT 0\n",
      "PRAKSIS 2\n",
      "INTKOORD 30\n",
      "KONTAKT 89\n",
      "FAGLIG LED 525\n",
      "VEILEDER 6\n",
      "KULL 8\n",
      "PROGANSV 14\n",
      "FAGLÆRER 1906\n",
      "PROGKORD 81\n",
      "OBSERVATØR 34\n"
     ]
    }
   ],
   "source": [
    "idag = '2025-03-25'  # Dette kunne eg funnet på ein meir proff måte ...\n",
    "for rolle in data.keys():\n",
    "    if rolle != \"Canvas\":\n",
    "        utval = data[rolle]\n",
    "        temp1 = utval[utval['dato_til'].isna()]\n",
    "        temp11 = temp1[temp1['dato_fra']<idag]\n",
    "        temp2 = utval[utval['dato_til']>idag]\n",
    "        temp22 = temp2[temp2['dato_fra']<idag]\n",
    "        aktive = pd.concat([temp1, temp2])\n",
    "        aktive.to_csv(f\"{rolle}.csv\", index=False)\n",
    "        print(rolle, len(aktive))"
   ]
  }
 ],
 "metadata": {
  "kernelspec": {
   "display_name": "Python 3",
   "language": "python",
   "name": "python3"
  },
  "language_info": {
   "codemirror_mode": {
    "name": "ipython",
    "version": 3
   },
   "file_extension": ".py",
   "mimetype": "text/x-python",
   "name": "python",
   "nbconvert_exporter": "python",
   "pygments_lexer": "ipython3",
   "version": "3.12.3"
  }
 },
 "nbformat": 4,
 "nbformat_minor": 2
}
