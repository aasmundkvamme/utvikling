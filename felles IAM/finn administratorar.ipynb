{
 "cells": [
  {
   "cell_type": "code",
   "execution_count": 2,
   "metadata": {},
   "outputs": [],
   "source": [
    "import requests\n",
    "import os\n",
    "import pandas as pd\n",
    "tokenCanvas = os.environ['tokenCanvas']\n",
    "\n",
    "headers = {\n",
    "    'Authorization': f'Bearer {tokenCanvas}',\n",
    "}\n",
    "params = {\n",
    "    'per_page': 100,\n",
    "    'show_inherited': True\n",
    "}\n"
   ]
  },
  {
   "cell_type": "markdown",
   "metadata": {},
   "source": [
    "# Første oppdrag: Finne alle roller i Canvas\n",
    "Her er alle rollene i `hvl.test.instructure.com`: "
   ]
  },
  {
   "cell_type": "code",
   "execution_count": 3,
   "metadata": {},
   "outputs": [
    {
     "name": "stdout",
     "output_type": "stream",
     "text": [
      "1: Account admin (AccountAdmin)\n",
      "3: Student (StudentEnrollment)\n",
      "4: Teacher (TeacherEnrollment)\n",
      "5: TA (TaEnrollment)\n",
      "6: Course Designer (DesignerEnrollment)\n",
      "7: Observer (ObserverEnrollment)\n",
      "11: Informasjonskonsulent (Informasjonskonsulent)\n",
      "18: Emneadministrator (Emneadministrator)\n",
      "19: Førstelinje (Førstelinje)\n",
      "25: Quizzes.Next Service (Quizzes.Next Service)\n",
      "26: Outcomes Service (Outcomes Service)\n",
      "163: Pensumtenesta (Pensumtenesta)\n",
      "164: Gjest (Gjest)\n"
     ]
    }
   ],
   "source": [
    "url = f\"https://hvl.test.instructure.com/api/v1/accounts/54/roles\"\n",
    "respons = requests.get(url, headers=headers, params=params)\n",
    "for r in respons.json():\n",
    "    print(f\"{r['id']}: {r['label']} ({r['role']})\")"
   ]
  },
  {
   "cell_type": "markdown",
   "metadata": {},
   "source": [
    "og i `hvl.instructure.com`:"
   ]
  },
  {
   "cell_type": "code",
   "execution_count": 4,
   "metadata": {},
   "outputs": [
    {
     "name": "stdout",
     "output_type": "stream",
     "text": [
      "1: Kontoadministrator (AccountAdmin)\n",
      "3: Student (StudentEnrollment)\n",
      "4: Faglærar (TeacherEnrollment)\n",
      "5: Undervisingsassistent (TaEnrollment)\n",
      "6: Designar (DesignerEnrollment)\n",
      "7: Observatør (ObserverEnrollment)\n",
      "18: Emneinnsyn (Emneinnsyn)\n",
      "25: Quizzes.Next Service (Quizzes.Next Service)\n",
      "26: Outcomes Service (Outcomes Service)\n",
      "163: Leganto (Leganto)\n",
      "164: Gjest (Gjest)\n",
      "165: Emneredigering (Emneredigering)\n"
     ]
    }
   ],
   "source": [
    "url = f\"https://hvl.instructure.com/api/v1/accounts/54/roles\"\n",
    "respons = requests.get(url, headers=headers, params=params)\n",
    "for r in respons.json():\n",
    "    print(f\"{r['id']}: {r['label']} ({r['role']})\")"
   ]
  },
  {
   "cell_type": "markdown",
   "metadata": {},
   "source": [
    "# Andre oppdrag: finne alle administratorar\n",
    "Eg må gå gjennom alle konti (som det er bruk for å sjekke) og finne alle administratorane. Eg har ein mistanke om at eg har gjort det før, men eg finn ikkje att den koden."
   ]
  },
  {
   "cell_type": "code",
   "execution_count": 5,
   "metadata": {},
   "outputs": [
    {
     "name": "stdout",
     "output_type": "stream",
     "text": [
      "1,Conditional Release API,None,conditional-release-service@instructure.auth,1,AccountAdmin\n",
      "1,Professional Services Admin [Do NOT Delete],pseng,pseng@hvl.no,1,AccountAdmin\n",
      "1,Aasmund Kvamme Administrator,hvl190125-p1-akv,akvadm,1,AccountAdmin\n",
      "1,Dag Ove Admin Vareberg,None,dagoveadm,1,AccountAdmin\n",
      "1,Terje Rudi (admin),hvl230817-p3-dp,x-str,1,AccountAdmin\n",
      "1,Casper Håland,fs:203:668693,chal@hvl.no,1,AccountAdmin\n",
      "1,Time-Edit bruker,None,time-e,1,AccountAdmin\n",
      "1,Quizzes.Next Service API,None,quizzes.next+api@instructure.invalid,25,Quizzes.Next Service\n",
      "1,Outcomes Service API,None,outcomes+api@instructure.invalid,26,Outcomes Service\n",
      "1,Jan Erik Ølmheim ADM,HVL190806-P1-JEO,admjano,1,AccountAdmin\n",
      "1,NOA admin,20191312-DP1,oystein@stephansen.org,1,AccountAdmin\n",
      "1,Andreas Senneset Hove,fs:203:203103,andrehov@hvl.no,1,AccountAdmin\n",
      "1,Alisa Rysaeva,fs:203:1144222,aliry@hvl.no,1,AccountAdmin\n",
      "1,Hege Stein,fs:203:168145,hste@hvl.no,1,AccountAdmin\n",
      "1,Grethe Høyvik Hansen,fs:203:116248,gho@hvl.no,163,Leganto\n",
      "1,Christoffer Naustdal,fs:203:379438,cni@hvl.no,163,Leganto\n",
      "1,Daniel Bruvoll Tangen,fs:203:1226726,data@hvl.no,163,Leganto\n",
      "1,Bente Olderkjær,fs:203:183593,beol@hvl.no,1,AccountAdmin\n",
      "1,Systembruker IntArk,hvl250520-p1-akv,olbr@hvl.no,1,AccountAdmin\n",
      "1,Rune Hjelmeseter,fs:203:29503,rhj@hvl.no,1,AccountAdmin\n",
      "54,Håvard Berge,fs:203:388560,haabe@hvl.no,18,Emneinnsyn\n",
      "54,Martin Mo,fs:203:523244,mamo@hvl.no,18,Emneinnsyn\n",
      "54,Håvard Moe Hagen,fs:203:154634,hmha@hvl.no,18,Emneinnsyn\n",
      "54,Jenny Marie Sørby Mikkelsen,fs:203:1221647,jmsm@hvl.no,18,Emneinnsyn\n",
      "54,Anita Svedal,fs:203:119299,anitasv@hvl.no,18,Emneinnsyn\n",
      "54,Bodil Moss,fs:203:646662,bomo@hvl.no,18,Emneinnsyn\n",
      "54,Else Brita Ness,fs:203:56480,ebne@hvl.no,18,Emneinnsyn\n",
      "54,Gunhild Helene Austrheim,fs:203:139463,gau@hvl.no,18,Emneinnsyn\n",
      "54,Irene Waage,fs:203:158231,iwa@hvl.no,18,Emneinnsyn\n",
      "54,Kåre Johan Mjør,fs:203:751140,kmj@hvl.no,18,Emneinnsyn\n",
      "54,Lars Malvin Røsseland Kvinge,fs:203:159188,lmk@hvl.no,18,Emneinnsyn\n",
      "54,Lillian Olsen,fs:203:272765,lol@hvl.no,18,Emneinnsyn\n",
      "54,Lise Vik-Haugen,fs:203:62207,lisevikh@hvl.no,18,Emneinnsyn\n",
      "54,Mai Linn Bolkan Eidet,fs:203:159672,mlbe@hvl.no,18,Emneinnsyn\n",
      "54,Mari Fredrikke Osen,fs:203:130830,mfo@hvl.no,18,Emneinnsyn\n",
      "54,Maria Lefdal Jenssen,fs:203:112024,mlje@hvl.no,18,Emneinnsyn\n",
      "54,Sondre Mula Myhre,fs:203:1016262,somm@hvl.no,18,Emneinnsyn\n",
      "54,Susanne Osland,fs:203:418314,suos@hvl.no,18,Emneinnsyn\n",
      "54,Tonje Bakke Velde,fs:203:231573,tv@hvl.no,18,Emneinnsyn\n",
      "54,Toril Engesæter,fs:203:128598,torilen@hvl.no,18,Emneinnsyn\n",
      "54,Torild Tveit,fs:203:31458,ttv@hvl.no,18,Emneinnsyn\n",
      "54,Trude Hals,fs:203:353058,trha@hvl.no,18,Emneinnsyn\n",
      "54,Aleksander Rebbeng Aulie,fs:203:1115084,alau@hvl.no,18,Emneinnsyn\n",
      "54,Maia Vatlestad,fs:203:147079,mavat@hvl.no,18,Emneinnsyn\n",
      "54,Helge Olsen,fs:203:172147,hols@hvl.no,18,Emneinnsyn\n",
      "54,Anna Sambor,fs:203:1321936,ansam@hvl.no,18,Emneinnsyn\n",
      "54,Ragnhild Alice Bjerk Steinsland,fs:203:235881,ras@hvl.no,18,Emneinnsyn\n",
      "54,Tone Hølleland,fs:203:28561,tho@hvl.no,18,Emneinnsyn\n",
      "54,Mariann Kjøpstad,fs:203:588371,mk@hvl.no,18,Emneinnsyn\n",
      "54,Ingvild Blanceflor Hvidsten,fs:203:536192,ibhv@hvl.no,18,Emneinnsyn\n",
      "54,Wenke Wüsthoff Jortveit,fs:203:118025,wwj@hvl.no,18,Emneinnsyn\n",
      "54,Ingrid Heiberg-Andersen,fs:203:1386100,iha@hvl.no,18,Emneinnsyn\n",
      "54,Inger Marie Vik,fs:203:478790,imv@hvl.no,18,Emneinnsyn\n",
      "54,Henrik Dalstø,fs:203:1170592,hda@hvl.no,1,AccountAdmin\n",
      "54,Ivar Rosenberg,fs:203:666040,ivro@hvl.no,1,AccountAdmin\n",
      "198,Merete-Anett Hoddevik,fs:203:193059,meah@hvl.no,18,Emneinnsyn\n",
      "198,Helene Oestreich,fs:203:214334,hoe@hvl.no,18,Emneinnsyn\n",
      "198,Christina Havn,fs:203:255714,cha@hvl.no,18,Emneinnsyn\n",
      "198,Mia Louise Farstad,fs:203:121270,milfa@hvl.no,18,Emneinnsyn\n",
      "198,Gry Sjøholt,fs:203:174742,gsj@hvl.no,18,Emneinnsyn\n",
      "198,Giselda Di Giovanni,fs:203:177074,gdg@hvl.no,18,Emneinnsyn\n",
      "198,Elisabeth Aase Sæther,fs:203:940637,easa@hvl.no,18,Emneinnsyn\n",
      "198,Unni Margrethe Uren Aasen,fs:203:660455,unnimua@hvl.no,18,Emneinnsyn\n",
      "198,Helene Holsen Foss,fs:203:198060,hhfo@hvl.no,18,Emneinnsyn\n",
      "198,Andreas Rande Nesheim,fs:203:107114,anne@hvl.no,18,Emneinnsyn\n",
      "198,Hanne Søvik Bårdsen,fs:203:74840,hsba@hvl.no,18,Emneinnsyn\n",
      "198,Bergljot Sundfør,fs:203:592186,bergljos@hvl.no,18,Emneinnsyn\n",
      "199,Thale Jacobsen Åsli,fs:203:830642,tjaa@hvl.no,18,Emneinnsyn\n",
      "199,Kristine Selvikvåg Lundervold,fs:203:431967,krse@hvl.no,18,Emneinnsyn\n",
      "199,Helene Flatland Erfjord,fs:203:86407,helenefe@hvl.no,18,Emneinnsyn\n",
      "199,Gro-Mette Rønning Eikemo,fs:203:19792,gme@hvl.no,18,Emneinnsyn\n",
      "199,Gunn Berge,fs:203:1116909,gbe@hvl.no,18,Emneinnsyn\n",
      "199,Ingvild Nilssen,fs:203:1054652,inil@hvl.no,18,Emneinnsyn\n",
      "199,Øystein Abrahamsen,fs:203:209830,oab@hvl.no,18,Emneinnsyn\n",
      "199,Hilde Albertine Gjertsen,fs:203:377376,hagj@hvl.no,18,Emneinnsyn\n",
      "199,Anne Birgitte Rodal,fs:203:254624,abr@hvl.no,18,Emneinnsyn\n",
      "199,Leah Junge,fs:203:1224001,lju@hvl.no,18,Emneinnsyn\n",
      "199,Helen Sæverud,fs:203:209170,hse@hvl.no,18,Emneinnsyn\n",
      "199,Eli Tjerandsen,fs:203:272473,elt@hvl.no,18,Emneinnsyn\n",
      "199,Lena Strandheim,fs:203:66068,lenst@hvl.no,18,Emneinnsyn\n",
      "200,Lise Jamt Tønjum,fs:203:276862,lito@hvl.no,18,Emneinnsyn\n",
      "200,Jorunn Sætre Miljeteig,fs:203:595043,jsm@hvl.no,18,Emneinnsyn\n",
      "200,Birthe Berven Dahle,fs:203:1234072,bbda@hvl.no,18,Emneinnsyn\n",
      "200,Anne Jorunn Vikdal,fs:203:184901,ajvi@hvl.no,18,Emneinnsyn\n",
      "200,Kirsti Møller Bruland,fs:203:63209,kirstimb@hvl.no,18,Emneinnsyn\n",
      "200,Mona Straume Selstø,fs:203:320896,msse@hvl.no,165,Emneredigering\n",
      "200,Vedran Bubalo,fs:203:100782,vbu@hvl.no,18,Emneinnsyn\n",
      "200,Vibeke Henriette Kvarven,fs:203:143369,vihk@hvl.no,165,Emneredigering\n",
      "429,Anny Aasprang,fs:203:383195,annyaa@hvl.no,18,Emneinnsyn\n",
      "429,Kristina Johannessen Tolås,fs:203:237604,krjt@hvl.no,18,Emneinnsyn\n",
      "429,Johannes Haltbakk,fs:203:204404,joha@hvl.no,18,Emneinnsyn\n",
      "429,Astrid Fjell,fs:203:271280,afj@hvl.no,18,Emneinnsyn\n",
      "429,Terje Årsvoll Olsen,fs:203:174016,tao@hvl.no,18,Emneinnsyn\n",
      "429,Marianne Fjose,fs:203:120528,marianng@hvl.no,18,Emneinnsyn\n",
      "429,Torill Synnøve Harneshaug,fs:203:245429,thg@hvl.no,18,Emneinnsyn\n",
      "429,Henriette Bakke Pedersen,fs:203:98153,hped@hvl.no,18,Emneinnsyn\n",
      "429,Marianne Kambe,fs:203:29993,mkm@hvl.no,18,Emneinnsyn\n",
      "429,Anne-Margrethe Aguirre Hjertenes,fs:203:46441,anne-mhj@hvl.no,18,Emneinnsyn\n",
      "430,Birthe Unneland Napsholm,fs:203:653761,buna@hvl.no,18,Emneinnsyn\n",
      "430,Ingvild Hollekve,fs:203:38345,ingvilho@hvl.no,18,Emneinnsyn\n",
      "430,Aleksander Vie,fs:203:127299,alvi@hvl.no,18,Emneinnsyn\n",
      "430,Karin Strand,fs:203:160810,kast@hvl.no,18,Emneinnsyn\n",
      "430,Bente Andersen,fs:203:3706,band@hvl.no,18,Emneinnsyn\n",
      "430,Siri Birgitte Bakke Eriksen,fs:203:164287,seri@hvl.no,18,Emneinnsyn\n",
      "430,Vigdis Reisæter,fs:203:32313,vigdisre@hvl.no,165,Emneredigering\n",
      "15738,Hilde Sandhåland,fs:203:378348,hsa@hvl.no,18,Emneinnsyn\n",
      "15738,Jorunn Steensnæs,fs:203:518945,jost@hvl.no,18,Emneinnsyn\n",
      "15738,Robert Drønen,fs:203:215689,rodr@hvl.no,18,Emneinnsyn\n",
      "15737,Lars Kvestad,fs:203:728356,lahk@hvl.no,18,Emneinnsyn\n",
      "15739,Ingunn Skjelbreidalen,fs:203:437549,ingunnsk@hvl.no,18,Emneinnsyn\n",
      "15739,André Seidel,fs:203:1065207,ansei@hvl.no,19,Førstelinje\n",
      "15739,Knut Steffen Vall Kvala,fs:203:114925,ksk@hvl.no,1,AccountAdmin\n",
      "15739,Harald Bjørnøy,fs:203:1266424,habjoe@hvl.no,24,Emneinnsyn\n",
      "15739,Tone Merete Brekke,fs:203:595425,tmb@hvl.no,1,AccountAdmin\n",
      "15739,Ingvild Nilssen,fs:203:1054652,inil@hvl.no,1,AccountAdmin\n",
      "15739,Anne Birgitte Rodal,fs:203:254624,abr@hvl.no,24,Emneinnsyn\n",
      "15739,Øyvind Stokkenes Eliassen,fs:203:416039,oese@hvl.no,1,AccountAdmin\n",
      "441,Oded Ben-Horin,fs:203:287483,obh@hvl.no,18,Emneinnsyn\n"
     ]
    }
   ],
   "source": [
    "kontoar = [1, 54, 198, 199, 200, 355, 429, 430, 5316, 15738, 5313, 15737, 15739, 15740, 438, 441, 439, 440]\n",
    "for k in kontoar:\n",
    "    url = f\"https://hvl.instructure.com/api/v1/accounts/{k}/admins\"\n",
    "    respons = requests.get(url, headers=headers, params=params)\n",
    "    for r in respons.json():\n",
    "        print(f\"{k},{r['user']['name']},{r['user']['sis_user_id']},{r['user']['login_id']},{r['role_id']},{r['role']}\")\n",
    "\n",
    "\n",
    "\n",
    "\n",
    "\n",
    "\n"
   ]
  },
  {
   "cell_type": "code",
   "execution_count": 6,
   "metadata": {},
   "outputs": [
    {
     "name": "stdout",
     "output_type": "stream",
     "text": [
      "{'id': 905, 'role': 'Emneinnsyn', 'role_id': 18, 'user': {'id': 543, 'name': 'Oded Ben-Horin', 'created_at': '2017-08-10T17:07:50+02:00', 'sortable_name': 'Ben-Horin, Oded', 'short_name': 'Oded Ben-Horin', 'sis_user_id': 'fs:203:287483', 'integration_id': None, 'sis_import_id': 17218, 'root_account': 'hvl.instructure.com', 'login_id': 'obh@hvl.no'}, 'workflow_state': 'active'}\n"
     ]
    }
   ],
   "source": [
    "print(r)\n"
   ]
  },
  {
   "cell_type": "code",
   "execution_count": null,
   "metadata": {},
   "outputs": [],
   "source": []
  }
 ],
 "metadata": {
  "kernelspec": {
   "display_name": "Python 3",
   "language": "python",
   "name": "python3"
  },
  "language_info": {
   "codemirror_mode": {
    "name": "ipython",
    "version": 3
   },
   "file_extension": ".py",
   "mimetype": "text/x-python",
   "name": "python",
   "nbconvert_exporter": "python",
   "pygments_lexer": "ipython3",
   "version": "3.12.3"
  }
 },
 "nbformat": 4,
 "nbformat_minor": 2
}
