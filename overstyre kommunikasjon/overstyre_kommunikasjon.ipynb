{
 "cells": [
  {
   "cell_type": "code",
   "execution_count": 1,
   "metadata": {},
   "outputs": [],
   "source": [
    "import requests\n",
    "import os\n",
    "import pandas as pd\n",
    "tokenCanvas = os.environ['tokenCanvas']\n",
    "\n",
    "headers = {\n",
    "    'Authorization': f'Bearer {tokenCanvas}',\n",
    "}\n",
    "params = {\n",
    "    'per_page': 100,\n",
    "}"
   ]
  },
  {
   "cell_type": "markdown",
   "metadata": {},
   "source": [
    "# Overstyre kommunikasjonskanal\n",
    "Når vi legg brukarar inn manuelt i Canvas (med data frå FS) må vi også sørge for at dei stadfester e-postadressa som kommunikasjonskanal, for ellers kan ikkje kollegaer finne dei. Det enklaste er at vi gjer dette i det vi legg inn brukaren (eller vi overstyrer for eksisterande brukarar). Dette skriptet henter fram ein ikkje stadfesta kanal (e-post), sletter den og legg den til att som stadfesta kanal (utan at brukaren merker det)."
   ]
  },
  {
   "cell_type": "markdown",
   "metadata": {},
   "source": [
    "Først henter vi kanalen (med `id` og `address`):"
   ]
  },
  {
   "cell_type": "code",
   "execution_count": 9,
   "metadata": {},
   "outputs": [],
   "source": [
    "user_id = 112016\n",
    "url = f\"https://hvl.instructure.com/api/v1/users/{user_id}/communication_channels\"\n",
    "respons = requests.get(url, headers=headers, params=params)\n",
    "svar = respons.json()\n",
    "id = svar[0]['id']\n",
    "epost = svar[0]['address']"
   ]
  },
  {
   "cell_type": "markdown",
   "metadata": {},
   "source": [
    "Så sletter vi denne:"
   ]
  },
  {
   "cell_type": "code",
   "execution_count": 11,
   "metadata": {},
   "outputs": [],
   "source": [
    "url = f\"https://hvl.instructure.com/api/v1/users/{user_id}/communication_channels/{id}\"\n",
    "respons = requests.delete(url, headers=headers, params=params)\n",
    "svar = respons.json()"
   ]
  },
  {
   "cell_type": "markdown",
   "metadata": {},
   "source": [
    "Og gjenoppretter den:"
   ]
  },
  {
   "cell_type": "code",
   "execution_count": 13,
   "metadata": {},
   "outputs": [],
   "source": [
    "params = {'communication_channel[address]': epost, 'communication_channel[type]': 'email', 'skip_confirmation': True}\n",
    "url = f\"https://hvl.instructure.com/api/v1/users/{user_id}/communication_channels\"\n",
    "respons = requests.post(url, headers=headers, params=params)\n",
    "respons.json()"
   ]
  },
  {
   "cell_type": "code",
   "execution_count": null,
   "metadata": {},
   "outputs": [],
   "source": []
  }
 ],
 "metadata": {
  "kernelspec": {
   "display_name": "Python 3",
   "language": "python",
   "name": "python3"
  },
  "language_info": {
   "codemirror_mode": {
    "name": "ipython",
    "version": 3
   },
   "file_extension": ".py",
   "mimetype": "text/x-python",
   "name": "python",
   "nbconvert_exporter": "python",
   "pygments_lexer": "ipython3",
   "version": "3.12.3"
  }
 },
 "nbformat": 4,
 "nbformat_minor": 2
}
