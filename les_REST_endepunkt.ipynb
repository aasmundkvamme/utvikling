{
 "cells": [
  {
   "cell_type": "markdown",
   "metadata": {},
   "source": [
    "# Les eit generelt endepunkt i REST\n",
    "Først litt generell kode for å kome i gang:"
   ]
  },
  {
   "cell_type": "code",
   "execution_count": 1,
   "metadata": {},
   "outputs": [],
   "source": [
    "import requests\n",
    "import pandas as pd\n",
    "import os\n",
    "\n",
    "parametre = {'per_page': '100'}\n",
    "hode = {'Authorization': 'Bearer ' + os.environ[\"tokenCanvas\"]}\n"
   ]
  },
  {
   "cell_type": "markdown",
   "metadata": {},
   "source": [
    "Så definerer eg url (og dersom det er spesielle parametre kan eg redefinere dei her):"
   ]
  },
  {
   "cell_type": "code",
   "execution_count": 12,
   "metadata": {},
   "outputs": [],
   "source": [
    "url = \"https://hvl.instructure.com:443/api/v1/eportfolios/39986/pages\"\n",
    "# parametre = {\"per_page\": 100}"
   ]
  },
  {
   "cell_type": "markdown",
   "metadata": {},
   "source": [
    "Først gjer eg eit \"enkelt\" kall, berre for å sjekke korleis data ser ut (men no får eg maksimalt 100 svar):"
   ]
  },
  {
   "cell_type": "code",
   "execution_count": 10,
   "metadata": {},
   "outputs": [],
   "source": [
    "respons = requests.get(url, headers=hodeCanvas, params=parametreCanvas)\n",
    "if 200 <= respons.status_code < 300:\n",
    "    data = respons.json()\n",
    "else:\n",
    "    print(\"Feil: \", respons.status_code)"
   ]
  },
  {
   "cell_type": "markdown",
   "metadata": {},
   "source": [
    "I den grad det er aktuelt kan eg så sjå på strukturen på datasettet (eller lese dokumentasjonen ...) for å bestemme meg om eg skal lage ei dataramme, eller om eg berre skal hente ut data som ei liste:"
   ]
  },
  {
   "cell_type": "code",
   "execution_count": null,
   "metadata": {},
   "outputs": [],
   "source": [
    "data[0]"
   ]
  },
  {
   "cell_type": "markdown",
   "metadata": {},
   "source": [
    "Dersom eg får ein mistanke om at det er meir enn 100 svar kan eg køyre denne rutina som henter alle:"
   ]
  },
  {
   "cell_type": "code",
   "execution_count": 18,
   "metadata": {},
   "outputs": [],
   "source": [
    "def finn_rel(link_header):\n",
    "    link_header_dict = {}\n",
    "    for link in link_header.split(\",\"):\n",
    "        url, rel = link.strip().split(\";\")\n",
    "        rel = rel.split('=')[1]\n",
    "        link_header_dict[rel.strip().replace('\"', '')] = url.strip().replace('<', '').replace('>', '')\n",
    "    return link_header_dict\n",
    "\n",
    "\n",
    "dr_liste = []\n",
    "hentmeir = True\n",
    "while hentmeir:\n",
    "    respons = requests.get(url, headers=hodeCanvas, params=parametreCanvas)\n",
    "    if 200 <= respons.status_code < 300:\n",
    "        data = respons.json()\n",
    "        hentmeir = \"next\" in respons.headers['link']\n",
    "        if hentmeir:\n",
    "            url = finn_rel(respons.headers['link'])['next']\n",
    "            print(url)   # for kontrollen sin skuld\n",
    "        df = pd.DataFrame(data)\n",
    "        dr_liste.append(df)\n",
    "# og etter at eg er ferdig å lese inn slår eg dei saman:\n",
    "alledata = pd.concat((df for df in dr_liste if not df.empty), ignore_index=True)\n"
   ]
  },
  {
   "cell_type": "markdown",
   "metadata": {},
   "source": [
    "Og så kan eg i ro og mak sjå på data:"
   ]
  },
  {
   "cell_type": "code",
   "execution_count": null,
   "metadata": {},
   "outputs": [],
   "source": [
    "alledata"
   ]
  }
 ],
 "metadata": {
  "kernelspec": {
   "display_name": "Python 3",
   "language": "python",
   "name": "python3"
  },
  "language_info": {
   "codemirror_mode": {
    "name": "ipython",
    "version": 3
   },
   "file_extension": ".py",
   "mimetype": "text/x-python",
   "name": "python",
   "nbconvert_exporter": "python",
   "pygments_lexer": "ipython3",
   "version": "3.12.3"
  }
 },
 "nbformat": 4,
 "nbformat_minor": 2
}
