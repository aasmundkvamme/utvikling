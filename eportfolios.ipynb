{
 "cells": [
  {
   "cell_type": "code",
   "execution_count": 5,
   "metadata": {},
   "outputs": [],
   "source": [
    "import requests\n",
    "import pandas as pd\n",
    "import os\n",
    "import akvut\n",
    "parametre = {'per_page': '100'}\n",
    "headers  = {'Authorization': 'Bearer ' + os.environ[\"tokenCanvas\"]}\n"
   ]
  },
  {
   "cell_type": "markdown",
   "metadata": {},
   "source": [
    "# ePortfolio\n",
    "Først ei liste over alle eportfolioane til ein brukar:\n"
   ]
  },
  {
   "cell_type": "code",
   "execution_count": 19,
   "metadata": {},
   "outputs": [],
   "source": [
    "user_id = 110424\n",
    "url = f\"http://hvl.instructure.com/api/v1/users/{user_id}/eportfolios\"\n",
    "\n",
    "response = requests.get(url, headers=headers, params=parametre)\n",
    "alle_eportfolios = response.json()"
   ]
  },
  {
   "cell_type": "code",
   "execution_count": 20,
   "metadata": {},
   "outputs": [
    {
     "data": {
      "text/plain": [
       "[{'id': 40045,\n",
       "  'user_id': 110424,\n",
       "  'name': 'Community work from an international perspective',\n",
       "  'public': True,\n",
       "  'created_at': '2025-01-12T13:36:28Z',\n",
       "  'updated_at': '2025-02-09T12:15:25Z',\n",
       "  'workflow_state': 'active',\n",
       "  'deleted_at': None,\n",
       "  'spam_status': None}]"
      ]
     },
     "execution_count": 20,
     "metadata": {},
     "output_type": "execute_result"
    }
   ],
   "source": [
    "alle_eportfolios"
   ]
  },
  {
   "cell_type": "markdown",
   "metadata": {},
   "source": [
    "Så kan eg gå inn i ein spesiell og sjå på overordna data:"
   ]
  },
  {
   "cell_type": "code",
   "execution_count": 7,
   "metadata": {},
   "outputs": [],
   "source": [
    "eportfolio = 40054\n",
    "url = f\"http://hvl.instructure.com/api/v1/eportfolios/{eportfolio}\"\n",
    "\n",
    "response = requests.get(url, headers=headers, params=parametre)\n",
    "overordna = response.json()"
   ]
  },
  {
   "cell_type": "markdown",
   "metadata": {},
   "source": [
    "Eller eg kan sjå på alle sidene i den eine:"
   ]
  },
  {
   "cell_type": "code",
   "execution_count": 9,
   "metadata": {},
   "outputs": [
    {
     "data": {
      "text/plain": [
       "[{'id': 59371,\n",
       "  'eportfolio_id': 40054,\n",
       "  'position': 1,\n",
       "  'name': 'Ny side',\n",
       "  'content': None,\n",
       "  'created_at': '2025-01-14T20:31:34Z',\n",
       "  'updated_at': '2025-01-14T20:31:34Z'},\n",
       " {'id': 59372,\n",
       "  'eportfolio_id': 40054,\n",
       "  'position': 1,\n",
       "  'name': 'Assignment 5 | Reflection',\n",
       "  'content': [{'section_type': 'rich_text',\n",
       "    'content': '<p><strong>What were your first impressions?</strong><br>At first, I had different expectations. I thought there would be more frequent and longer online meetings. However, the seminar was more focused on self-study, with only a few group projects or direct communication. I believe more interaction would have been valuable for this topic.</p><p><strong>Which challenges did you meet?</strong><br>One challenge I faced was finding the time to write the essays. Unfortunately, I also couldn’t attend a meeting because it overlapped with an exam at my school. However I am still motivated to get them all done in time!!</p><p><strong>What did you learn from it?</strong></p><p>Through this seminar, I learned the importance of self-discipline and time management, especially when working independently. I also realized how valuable direct communication and group discussions can be for deeper understanding, and I would appreciate more of that in similar courses in the future.</p>'}],\n",
       "  'created_at': '2025-01-14T20:34:53Z',\n",
       "  'updated_at': '2025-02-10T21:18:45Z'},\n",
       " {'id': 59370,\n",
       "  'eportfolio_id': 40054,\n",
       "  'position': 1,\n",
       "  'name': 'about me',\n",
       "  'content': [{'section_type': 'rich_text',\n",
       "    'content': '<p><span style=\"vertical-align: inherit;\"><span style=\"vertical-align: inherit;\"><span style=\"vertical-align: inherit;\"><span style=\"vertical-align: inherit;\"><span style=\"vertical-align: inherit;\"><span style=\"vertical-align: inherit;\"><span style=\"vertical-align: inherit;\"><span style=\"vertical-align: inherit;\">Hi! I\\'m Joanna, 22 and study Social work in the University of applied Sciences in Potsdam, Germany. I love to travel and Backpack different countries, write songs and read. I\\'m interested in learning about different cultures, how others live and their way of thinking.&nbsp;</span></span></span></span></span></span></span></span><br><br></p><div class=\"jso-cursor-trail-wrapper\" style=\"position: fixed; left: 0px; top: 0px; width: 100vw; height: 100vh; overflow: hidden;  z-index: 9999;\"><div class=\"jso-cursor-trail-shape\" style=\"position: absolute; left: 0px; top: 0px;  display: none;\">&nbsp; &nbsp; &nbsp; &nbsp; &nbsp; &nbsp; &nbsp;</div></div>'},\n",
       "   {'section_type': 'attachment', 'attachment_id': 3153842}],\n",
       "  'created_at': '2025-01-14T20:29:54Z',\n",
       "  'updated_at': '2025-01-14T21:15:40Z'},\n",
       " {'id': 59623,\n",
       "  'eportfolio_id': 40054,\n",
       "  'position': 2,\n",
       "  'name': 'Assignment 4 | Community work in your country',\n",
       "  'content': [{'section_type': 'attachment', 'attachment_id': 3207864}],\n",
       "  'created_at': '2025-02-10T21:19:16Z',\n",
       "  'updated_at': '2025-02-20T04:02:54Z'},\n",
       " {'id': 59627,\n",
       "  'eportfolio_id': 40054,\n",
       "  'position': 3,\n",
       "  'name': 'Assignment 6 | Comparative work',\n",
       "  'content': [{'section_type': 'rich_text',\n",
       "    'content': \"<p>I'd be intrigued to learn how to cite the sources correctly.&nbsp;</p>\"},\n",
       "   {'section_type': 'attachment', 'attachment_id': 3194125}],\n",
       "  'created_at': '2025-02-11T00:00:19Z',\n",
       "  'updated_at': '2025-02-12T08:22:30Z'},\n",
       " {'id': 59665,\n",
       "  'eportfolio_id': 40054,\n",
       "  'position': 4,\n",
       "  'name': 'Assignment 7 | Analyse a community',\n",
       "  'content': [{'section_type': 'rich_text', 'content': '<p>content</p>'},\n",
       "   {'section_type': 'attachment', 'attachment_id': 3207865}],\n",
       "  'created_at': '2025-02-20T03:59:46Z',\n",
       "  'updated_at': '2025-02-20T05:14:29Z'},\n",
       " {'id': 59666,\n",
       "  'eportfolio_id': 40054,\n",
       "  'position': 5,\n",
       "  'name': 'Assignment 8 | Reflection',\n",
       "  'content': [{'section_type': 'rich_text',\n",
       "    'content': \"<p><strong>Which challenges did you meet?</strong><br>One challenge I faced was finding the time to write the essays. Unfortunately, I also couldn’t attend a meeting because it overlapped with an exam at my school. I found it challenging to use the website canvas. I understood the website - since I expertise in online activities as a hobby. But since the website was bugging out for me, my friends and my course leaders it became pretty frustrating - knowing that it wasn't an issue on my side.&nbsp;</p><p><strong>What did you learn from it?</strong></p><p>Through this seminar, I learned the importance of self-discipline and time management, especially when working independently. I also realized how valuable direct communication and group discussions can be for deeper understanding, and I would appreciate more of that in similar courses in the future.</p>\"}],\n",
       "  'created_at': '2025-02-20T04:00:47Z',\n",
       "  'updated_at': '2025-02-20T04:10:15Z'}]"
      ]
     },
     "execution_count": 9,
     "metadata": {},
     "output_type": "execute_result"
    }
   ],
   "source": [
    "url = f\"http://hvl.instructure.com/api/v1/eportfolios/{eportfolio}/pages\"\n",
    "\n",
    "response = requests.get(url, headers=headers, params=parametre)\n",
    "sider = response.json()\n",
    "sider"
   ]
  },
  {
   "cell_type": "code",
   "execution_count": null,
   "metadata": {},
   "outputs": [],
   "source": [
    "\n"
   ]
  }
 ],
 "metadata": {
  "kernelspec": {
   "display_name": "Python 3",
   "language": "python",
   "name": "python3"
  },
  "language_info": {
   "codemirror_mode": {
    "name": "ipython",
    "version": 3
   },
   "file_extension": ".py",
   "mimetype": "text/x-python",
   "name": "python",
   "nbconvert_exporter": "python",
   "pygments_lexer": "ipython3",
   "version": "3.12.3"
  }
 },
 "nbformat": 4,
 "nbformat_minor": 2
}
