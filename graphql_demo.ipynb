{
 "cells": [
  {
   "cell_type": "code",
   "execution_count": 10,
   "metadata": {},
   "outputs": [],
   "source": [
    "import os\n",
    "import requests"
   ]
  },
  {
   "cell_type": "code",
   "execution_count": 4,
   "metadata": {},
   "outputs": [],
   "source": [
    "def akv_query_FS_graphql(query, variable):\n",
    "    try:\n",
    "        response = requests.post(\n",
    "            \"https://api-test.fellesstudentsystem.no/graphql/\", \n",
    "            json={\"query\": query, \"variables\": variable},\n",
    "            headers={'Authorization': f'Basic {os.environ[\"tokenFS\"]}', \"Feature-Flags\": \"beta, experimental\"},\n",
    "            )\n",
    "        response.raise_for_status()\n",
    "        return response.json()\n",
    "    except requests.exceptions.RequestException as exc:\n",
    "        raise exc\n"
   ]
  },
  {
   "cell_type": "code",
   "execution_count": 11,
   "metadata": {},
   "outputs": [],
   "source": [
    "spørjing = \"\"\"\n",
    "query MyQuery($plnr: [String!]) {\n",
    "  fagpersonerGittPersonlopenumre(\n",
    "    personlopenumre: $plnr\n",
    "    eierOrganisasjonskode: \"0203\"\n",
    "  ) {\n",
    "    aktiv\n",
    "    id\n",
    "    arbeidsadresse {\n",
    "      gate\n",
    "    }\n",
    "  }\n",
    "}\n",
    "\"\"\"\n",
    "\n"
   ]
  },
  {
   "cell_type": "code",
   "execution_count": 12,
   "metadata": {},
   "outputs": [
    {
     "name": "stdout",
     "output_type": "stream",
     "text": [
      "{'data': {'fagpersonerGittPersonlopenumre': [{'aktiv': True, 'id': 'MzE6MjAzLDMxOTI0', 'arbeidsadresse': {'gate': 'Kronstad'}}]}}\n"
     ]
    }
   ],
   "source": [
    "plnr = \"31924\"\n",
    "\n",
    "data = akv_query_FS_graphql(spørjing, {\"plnr\": plnr})\n",
    "print(data)"
   ]
  },
  {
   "cell_type": "code",
   "execution_count": null,
   "metadata": {},
   "outputs": [],
   "source": [
    "endring = \"\"\"\n",
    "mutation MyMutation($id: ID!, $gate: String) {\n",
    "  endreArbeidsadresseForFagpersoner(\n",
    "    input: {id: $id, gate: $gate}\n",
    "  ) {\n",
    "    errors {\n",
    "      ... on UgyldigInput {\n",
    "        __typename\n",
    "        message\n",
    "      }\n",
    "    }\n",
    "  }\n",
    "}\n",
    "\"\"\"\n",
    "\n",
    "bruker_id = data['data']['fagpersonerGittPersonlopenumre'][0]['id']\n",
    "ny_gateadresse = \"Kronstad\""
   ]
  },
  {
   "cell_type": "code",
   "execution_count": 14,
   "metadata": {},
   "outputs": [
    {
     "name": "stdout",
     "output_type": "stream",
     "text": [
      "{'data': {'endreArbeidsadresseForFagpersoner': {'errors': [{'__typename': 'UgyldigInput', 'message': 'banankake inneholder ugyldige tegn'}]}}}\n"
     ]
    }
   ],
   "source": [
    "\n",
    "data = akv_query_FS_graphql(endring, {\"id\": bruker_id, \"gate\": ny_gateadresse})\n",
    "print(data)"
   ]
  },
  {
   "cell_type": "code",
   "execution_count": null,
   "metadata": {},
   "outputs": [],
   "source": [
    "spørjing_fleire = \"\"\"\n",
    "query MyQuery($antal: Int, $start: String) {\n",
    "  brukere(filter: {eierOrganisasjonskode: \"0203\"}, first: $antal, after: $start) {\n",
    "    pageInfo {\n",
    "      endCursor\n",
    "      hasNextPage\n",
    "    }\n",
    "    nodes {\n",
    "      id\n",
    "    }\n",
    "  }\n",
    "}\n",
    "\"\"\""
   ]
  }
 ],
 "metadata": {
  "kernelspec": {
   "display_name": "Python 3",
   "language": "python",
   "name": "python3"
  },
  "language_info": {
   "codemirror_mode": {
    "name": "ipython",
    "version": 3
   },
   "file_extension": ".py",
   "mimetype": "text/x-python",
   "name": "python",
   "nbconvert_exporter": "python",
   "pygments_lexer": "ipython3",
   "version": "3.10.12"
  }
 },
 "nbformat": 4,
 "nbformat_minor": 2
}
